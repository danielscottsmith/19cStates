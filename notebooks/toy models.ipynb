{
 "cells": [
  {
   "cell_type": "code",
   "execution_count": 1,
   "metadata": {
    "collapsed": false,
    "jupyter": {
     "outputs_hidden": false
    }
   },
   "outputs": [],
   "source": [
    "import os\n",
    "import pandas as pd"
   ]
  },
  {
   "cell_type": "code",
   "execution_count": 85,
   "metadata": {
    "collapsed": false,
    "jupyter": {
     "outputs_hidden": false
    }
   },
   "outputs": [],
   "source": [
    "from linearmodels import PanelOLS, RandomEffects, IV2SLS\n",
    "from formulaic import model_matrix\n",
    "import statsmodels.api as sm"
   ]
  },
  {
   "cell_type": "code",
   "execution_count": 3,
   "metadata": {
    "collapsed": false,
    "jupyter": {
     "outputs_hidden": false
    }
   },
   "outputs": [],
   "source": [
    "MAIN = os.getcwd() + '/'\n",
    "DATA = MAIN + \"data/\""
   ]
  },
  {
   "cell_type": "code",
   "execution_count": 4,
   "metadata": {
    "collapsed": false,
    "jupyter": {
     "outputs_hidden": false
    }
   },
   "outputs": [
    {
     "name": "stderr",
     "output_type": "stream",
     "text": [
      "/var/folders/wk/syz2_hq141l5z1r4sy2xjj080000gn/T/ipykernel_39810/4003265948.py:1: DtypeWarning: Columns (363,364,365,393,409,829,830,1175,3002,3223,3224,3279,3281,3285,3286,3288,3289) have mixed types. Specify dtype option on import or set low_memory=False.\n",
      "  states = pd.read_csv(DATA+\"vdem10.csv\")\n"
     ]
    }
   ],
   "source": [
    "states = pd.read_csv(DATA+\"vdem10.csv\")"
   ]
  },
  {
   "cell_type": "code",
   "execution_count": 80,
   "metadata": {
    "collapsed": false,
    "jupyter": {
     "outputs_hidden": false
    }
   },
   "outputs": [
    {
     "name": "stderr",
     "output_type": "stream",
     "text": [
      "/var/folders/wk/syz2_hq141l5z1r4sy2xjj080000gn/T/ipykernel_39810/2632593194.py:2: SettingWithCopyWarning: \n",
      "A value is trying to be set on a copy of a slice from a DataFrame.\n",
      "Try using .loc[row_indexer,col_indexer] = value instead\n",
      "\n",
      "See the caveats in the documentation: https://pandas.pydata.org/pandas-docs/stable/user_guide/indexing.html#returning-a-view-versus-a-copy\n",
      "  small_states['year'] = small_states['year'].apply(lambda x: int(x))\n"
     ]
    }
   ],
   "source": [
    "small_states = states[[\"year\", \"country_name\", \"v2elsuffrage\", \"e_miurbpop\"]]\n",
    "small_states['year'] = small_states['year'].apply(lambda x: int(x))\n",
    "small_states = small_states.dropna()\n",
    "small_states.to_stata(\"states.dta\", write_index=False)"
   ]
  },
  {
   "cell_type": "code",
   "execution_count": 81,
   "metadata": {
    "collapsed": false,
    "jupyter": {
     "outputs_hidden": false
    }
   },
   "outputs": [
    {
     "data": {
      "text/html": [
       "<div>\n",
       "<style scoped>\n",
       "    .dataframe tbody tr th:only-of-type {\n",
       "        vertical-align: middle;\n",
       "    }\n",
       "\n",
       "    .dataframe tbody tr th {\n",
       "        vertical-align: top;\n",
       "    }\n",
       "\n",
       "    .dataframe thead th {\n",
       "        text-align: right;\n",
       "    }\n",
       "</style>\n",
       "<table border=\"1\" class=\"dataframe\">\n",
       "  <thead>\n",
       "    <tr style=\"text-align: right;\">\n",
       "      <th></th>\n",
       "      <th>year</th>\n",
       "      <th>country_name</th>\n",
       "      <th>v2elsuffrage</th>\n",
       "      <th>e_miurbpop</th>\n",
       "    </tr>\n",
       "  </thead>\n",
       "  <tbody>\n",
       "    <tr>\n",
       "      <th>11</th>\n",
       "      <td>1800</td>\n",
       "      <td>Mexico</td>\n",
       "      <td>0.0</td>\n",
       "      <td>844.2</td>\n",
       "    </tr>\n",
       "    <tr>\n",
       "      <th>12</th>\n",
       "      <td>1801</td>\n",
       "      <td>Mexico</td>\n",
       "      <td>0.0</td>\n",
       "      <td>850.4</td>\n",
       "    </tr>\n",
       "    <tr>\n",
       "      <th>13</th>\n",
       "      <td>1802</td>\n",
       "      <td>Mexico</td>\n",
       "      <td>0.0</td>\n",
       "      <td>856.6</td>\n",
       "    </tr>\n",
       "    <tr>\n",
       "      <th>14</th>\n",
       "      <td>1803</td>\n",
       "      <td>Mexico</td>\n",
       "      <td>0.0</td>\n",
       "      <td>862.8</td>\n",
       "    </tr>\n",
       "    <tr>\n",
       "      <th>15</th>\n",
       "      <td>1804</td>\n",
       "      <td>Mexico</td>\n",
       "      <td>0.0</td>\n",
       "      <td>869.0</td>\n",
       "    </tr>\n",
       "  </tbody>\n",
       "</table>\n",
       "</div>"
      ],
      "text/plain": [
       "    year country_name  v2elsuffrage  e_miurbpop\n",
       "11  1800       Mexico           0.0       844.2\n",
       "12  1801       Mexico           0.0       850.4\n",
       "13  1802       Mexico           0.0       856.6\n",
       "14  1803       Mexico           0.0       862.8\n",
       "15  1804       Mexico           0.0       869.0"
      ]
     },
     "execution_count": 81,
     "metadata": {},
     "output_type": "execute_result"
    }
   ],
   "source": [
    "small_states.head()"
   ]
  },
  {
   "cell_type": "markdown",
   "metadata": {},
   "source": [
    "## OLS"
   ]
  },
  {
   "cell_type": "code",
   "execution_count": 67,
   "metadata": {
    "collapsed": false,
    "jupyter": {
     "outputs_hidden": false
    }
   },
   "outputs": [
    {
     "name": "stdout",
     "output_type": "stream",
     "text": [
      "v2elsuffrage ~ e_miurbpop\n"
     ]
    }
   ],
   "source": [
    "y = \"v2elsuffrage\"\n",
    "X = \"e_miurbpop\"\n",
    "X = X.split()\n",
    "model = y + \" ~ \" + \" + \".join(X)\n",
    "print(model)"
   ]
  },
  {
   "cell_type": "code",
   "execution_count": 68,
   "metadata": {
    "collapsed": false,
    "jupyter": {
     "outputs_hidden": false
    }
   },
   "outputs": [],
   "source": [
    "y, X = model_matrix(model, small_states)"
   ]
  },
  {
   "cell_type": "code",
   "execution_count": 69,
   "metadata": {
    "collapsed": false,
    "jupyter": {
     "outputs_hidden": false
    }
   },
   "outputs": [
    {
     "data": {
      "text/html": [
       "<div>\n",
       "<style scoped>\n",
       "    .dataframe tbody tr th:only-of-type {\n",
       "        vertical-align: middle;\n",
       "    }\n",
       "\n",
       "    .dataframe tbody tr th {\n",
       "        vertical-align: top;\n",
       "    }\n",
       "\n",
       "    .dataframe thead th {\n",
       "        text-align: right;\n",
       "    }\n",
       "</style>\n",
       "<table border=\"1\" class=\"dataframe\">\n",
       "  <thead>\n",
       "    <tr style=\"text-align: right;\">\n",
       "      <th></th>\n",
       "      <th>v2elsuffrage</th>\n",
       "    </tr>\n",
       "  </thead>\n",
       "  <tbody>\n",
       "    <tr>\n",
       "      <th>11</th>\n",
       "      <td>0.0</td>\n",
       "    </tr>\n",
       "    <tr>\n",
       "      <th>12</th>\n",
       "      <td>0.0</td>\n",
       "    </tr>\n",
       "    <tr>\n",
       "      <th>13</th>\n",
       "      <td>0.0</td>\n",
       "    </tr>\n",
       "    <tr>\n",
       "      <th>14</th>\n",
       "      <td>0.0</td>\n",
       "    </tr>\n",
       "    <tr>\n",
       "      <th>15</th>\n",
       "      <td>0.0</td>\n",
       "    </tr>\n",
       "    <tr>\n",
       "      <th>...</th>\n",
       "      <td>...</td>\n",
       "    </tr>\n",
       "    <tr>\n",
       "      <th>25435</th>\n",
       "      <td>100.0</td>\n",
       "    </tr>\n",
       "    <tr>\n",
       "      <th>25436</th>\n",
       "      <td>100.0</td>\n",
       "    </tr>\n",
       "    <tr>\n",
       "      <th>25437</th>\n",
       "      <td>100.0</td>\n",
       "    </tr>\n",
       "    <tr>\n",
       "      <th>25438</th>\n",
       "      <td>100.0</td>\n",
       "    </tr>\n",
       "    <tr>\n",
       "      <th>25439</th>\n",
       "      <td>100.0</td>\n",
       "    </tr>\n",
       "  </tbody>\n",
       "</table>\n",
       "<p>18273 rows × 1 columns</p>\n",
       "</div>"
      ],
      "text/plain": [
       "       v2elsuffrage\n",
       "11              0.0\n",
       "12              0.0\n",
       "13              0.0\n",
       "14              0.0\n",
       "15              0.0\n",
       "...             ...\n",
       "25435         100.0\n",
       "25436         100.0\n",
       "25437         100.0\n",
       "25438         100.0\n",
       "25439         100.0\n",
       "\n",
       "[18273 rows x 1 columns]"
      ]
     },
     "execution_count": 69,
     "metadata": {},
     "output_type": "execute_result"
    }
   ],
   "source": [
    "y"
   ]
  },
  {
   "cell_type": "code",
   "execution_count": 70,
   "metadata": {
    "collapsed": false,
    "jupyter": {
     "outputs_hidden": false
    }
   },
   "outputs": [
    {
     "data": {
      "text/html": [
       "<div>\n",
       "<style scoped>\n",
       "    .dataframe tbody tr th:only-of-type {\n",
       "        vertical-align: middle;\n",
       "    }\n",
       "\n",
       "    .dataframe tbody tr th {\n",
       "        vertical-align: top;\n",
       "    }\n",
       "\n",
       "    .dataframe thead th {\n",
       "        text-align: right;\n",
       "    }\n",
       "</style>\n",
       "<table border=\"1\" class=\"dataframe\">\n",
       "  <thead>\n",
       "    <tr style=\"text-align: right;\">\n",
       "      <th></th>\n",
       "      <th>Intercept</th>\n",
       "      <th>e_miurbpop</th>\n",
       "    </tr>\n",
       "  </thead>\n",
       "  <tbody>\n",
       "    <tr>\n",
       "      <th>11</th>\n",
       "      <td>1.0</td>\n",
       "      <td>844.20</td>\n",
       "    </tr>\n",
       "    <tr>\n",
       "      <th>12</th>\n",
       "      <td>1.0</td>\n",
       "      <td>850.40</td>\n",
       "    </tr>\n",
       "    <tr>\n",
       "      <th>13</th>\n",
       "      <td>1.0</td>\n",
       "      <td>856.60</td>\n",
       "    </tr>\n",
       "    <tr>\n",
       "      <th>14</th>\n",
       "      <td>1.0</td>\n",
       "      <td>862.80</td>\n",
       "    </tr>\n",
       "    <tr>\n",
       "      <th>15</th>\n",
       "      <td>1.0</td>\n",
       "      <td>869.00</td>\n",
       "    </tr>\n",
       "    <tr>\n",
       "      <th>...</th>\n",
       "      <td>...</td>\n",
       "      <td>...</td>\n",
       "    </tr>\n",
       "    <tr>\n",
       "      <th>25435</th>\n",
       "      <td>1.0</td>\n",
       "      <td>4004.72</td>\n",
       "    </tr>\n",
       "    <tr>\n",
       "      <th>25436</th>\n",
       "      <td>1.0</td>\n",
       "      <td>4024.04</td>\n",
       "    </tr>\n",
       "    <tr>\n",
       "      <th>25437</th>\n",
       "      <td>1.0</td>\n",
       "      <td>4043.36</td>\n",
       "    </tr>\n",
       "    <tr>\n",
       "      <th>25438</th>\n",
       "      <td>1.0</td>\n",
       "      <td>4062.68</td>\n",
       "    </tr>\n",
       "    <tr>\n",
       "      <th>25439</th>\n",
       "      <td>1.0</td>\n",
       "      <td>4082.00</td>\n",
       "    </tr>\n",
       "  </tbody>\n",
       "</table>\n",
       "<p>18273 rows × 2 columns</p>\n",
       "</div>"
      ],
      "text/plain": [
       "       Intercept  e_miurbpop\n",
       "11           1.0      844.20\n",
       "12           1.0      850.40\n",
       "13           1.0      856.60\n",
       "14           1.0      862.80\n",
       "15           1.0      869.00\n",
       "...          ...         ...\n",
       "25435        1.0     4004.72\n",
       "25436        1.0     4024.04\n",
       "25437        1.0     4043.36\n",
       "25438        1.0     4062.68\n",
       "25439        1.0     4082.00\n",
       "\n",
       "[18273 rows x 2 columns]"
      ]
     },
     "execution_count": 70,
     "metadata": {},
     "output_type": "execute_result"
    }
   ],
   "source": [
    "X"
   ]
  },
  {
   "cell_type": "code",
   "execution_count": 71,
   "metadata": {
    "collapsed": false,
    "jupyter": {
     "outputs_hidden": false
    }
   },
   "outputs": [
    {
     "name": "stdout",
     "output_type": "stream",
     "text": [
      "                            OLS Regression Results                            \n",
      "==============================================================================\n",
      "Dep. Variable:           v2elsuffrage   R-squared:                       0.056\n",
      "Model:                            OLS   Adj. R-squared:                  0.056\n",
      "Method:                 Least Squares   F-statistic:                     1089.\n",
      "Date:                Sat, 24 Sep 2022   Prob (F-statistic):          5.07e-232\n",
      "Time:                        10:05:36   Log-Likelihood:                -94464.\n",
      "No. Observations:               18273   AIC:                         1.889e+05\n",
      "Df Residuals:                   18271   BIC:                         1.889e+05\n",
      "Df Model:                           1                                         \n",
      "Covariance Type:            nonrobust                                         \n",
      "==============================================================================\n",
      "                 coef    std err          t      P>|t|      [0.025      0.975]\n",
      "------------------------------------------------------------------------------\n",
      "Intercept     42.0479      0.336    125.239      0.000      41.390      42.706\n",
      "e_miurbpop     0.0011    3.2e-05     33.000      0.000       0.001       0.001\n",
      "==============================================================================\n",
      "Omnibus:                    92678.632   Durbin-Watson:                   0.058\n",
      "Prob(Omnibus):                  0.000   Jarque-Bera (JB):             2154.618\n",
      "Skew:                           0.282   Prob(JB):                         0.00\n",
      "Kurtosis:                       1.415   Cond. No.                     1.12e+04\n",
      "==============================================================================\n",
      "\n",
      "Notes:\n",
      "[1] Standard Errors assume that the covariance matrix of the errors is correctly specified.\n",
      "[2] The condition number is large, 1.12e+04. This might indicate that there are\n",
      "strong multicollinearity or other numerical problems.\n"
     ]
    }
   ],
   "source": [
    "ols_model = sm.OLS(y, X)\n",
    "ols_results = ols_model.fit()\n",
    "print(ols_results.summary())"
   ]
  },
  {
   "cell_type": "markdown",
   "metadata": {},
   "source": [
    "### Equivalent to linearmodels IV2SLS"
   ]
  },
  {
   "cell_type": "code",
   "execution_count": 72,
   "metadata": {
    "collapsed": false,
    "jupyter": {
     "outputs_hidden": false
    }
   },
   "outputs": [
    {
     "name": "stdout",
     "output_type": "stream",
     "text": [
      "                            OLS Estimation Summary                            \n",
      "==============================================================================\n",
      "Dep. Variable:           v2elsuffrage   R-squared:                      0.0562\n",
      "Estimator:                        OLS   Adj. R-squared:                 0.0562\n",
      "No. Observations:               18273   F-statistic:                    1089.1\n",
      "Date:                Sat, Sep 24 2022   P-value (F-stat)                0.0000\n",
      "Time:                        10:05:36   Distribution:                  chi2(1)\n",
      "Cov. Estimator:            unadjusted                                         \n",
      "                                                                              \n",
      "                             Parameter Estimates                              \n",
      "==============================================================================\n",
      "            Parameter  Std. Err.     T-stat    P-value    Lower CI    Upper CI\n",
      "------------------------------------------------------------------------------\n",
      "Intercept      42.048     0.3357     125.25     0.0000      41.390      42.706\n",
      "e_miurbpop     0.0011  3.198e-05     33.002     0.0000      0.0010      0.0011\n",
      "==============================================================================\n"
     ]
    }
   ],
   "source": [
    "ols2_model = IV2SLS.from_formula(model, small_states)\n",
    "ols2_results = ols2_model.fit(cov_type=\"unadjusted\")\n",
    "print(ols2_results)"
   ]
  },
  {
   "cell_type": "markdown",
   "metadata": {},
   "source": [
    "## Fixed effects"
   ]
  },
  {
   "cell_type": "markdown",
   "metadata": {},
   "source": [
    "### Equivalent to `xtset panelvar` in stata"
   ]
  },
  {
   "cell_type": "code",
   "execution_count": 75,
   "metadata": {
    "collapsed": false,
    "jupyter": {
     "outputs_hidden": false
    }
   },
   "outputs": [
    {
     "data": {
      "text/html": [
       "<div>\n",
       "<style scoped>\n",
       "    .dataframe tbody tr th:only-of-type {\n",
       "        vertical-align: middle;\n",
       "    }\n",
       "\n",
       "    .dataframe tbody tr th {\n",
       "        vertical-align: top;\n",
       "    }\n",
       "\n",
       "    .dataframe thead th {\n",
       "        text-align: right;\n",
       "    }\n",
       "</style>\n",
       "<table border=\"1\" class=\"dataframe\">\n",
       "  <thead>\n",
       "    <tr style=\"text-align: right;\">\n",
       "      <th></th>\n",
       "      <th></th>\n",
       "      <th>v2elsuffrage</th>\n",
       "      <th>e_miurbpop</th>\n",
       "      <th>country_name</th>\n",
       "    </tr>\n",
       "    <tr>\n",
       "      <th>country_name</th>\n",
       "      <th>year</th>\n",
       "      <th></th>\n",
       "      <th></th>\n",
       "      <th></th>\n",
       "    </tr>\n",
       "  </thead>\n",
       "  <tbody>\n",
       "    <tr>\n",
       "      <th rowspan=\"5\" valign=\"top\">Mexico</th>\n",
       "      <th>1800</th>\n",
       "      <td>0.0</td>\n",
       "      <td>844.2</td>\n",
       "      <td>Mexico</td>\n",
       "    </tr>\n",
       "    <tr>\n",
       "      <th>1801</th>\n",
       "      <td>0.0</td>\n",
       "      <td>850.4</td>\n",
       "      <td>Mexico</td>\n",
       "    </tr>\n",
       "    <tr>\n",
       "      <th>1802</th>\n",
       "      <td>0.0</td>\n",
       "      <td>856.6</td>\n",
       "      <td>Mexico</td>\n",
       "    </tr>\n",
       "    <tr>\n",
       "      <th>1803</th>\n",
       "      <td>0.0</td>\n",
       "      <td>862.8</td>\n",
       "      <td>Mexico</td>\n",
       "    </tr>\n",
       "    <tr>\n",
       "      <th>1804</th>\n",
       "      <td>0.0</td>\n",
       "      <td>869.0</td>\n",
       "      <td>Mexico</td>\n",
       "    </tr>\n",
       "  </tbody>\n",
       "</table>\n",
       "</div>"
      ],
      "text/plain": [
       "                   v2elsuffrage  e_miurbpop country_name\n",
       "country_name year                                       \n",
       "Mexico       1800           0.0       844.2       Mexico\n",
       "             1801           0.0       850.4       Mexico\n",
       "             1802           0.0       856.6       Mexico\n",
       "             1803           0.0       862.8       Mexico\n",
       "             1804           0.0       869.0       Mexico"
      ]
     },
     "execution_count": 75,
     "metadata": {},
     "output_type": "execute_result"
    }
   ],
   "source": [
    "small_states_fe = small_states\n",
    "states_ids = pd.Categorical(small_states_fe.country_name)\n",
    "small_states_fe = small_states_fe.set_index([\"country_name\",\"year\"])\n",
    "small_states_fe['country_name'] = states_ids\n",
    "small_states_fe.head()"
   ]
  },
  {
   "cell_type": "code",
   "execution_count": 77,
   "metadata": {
    "collapsed": false,
    "jupyter": {
     "outputs_hidden": false
    }
   },
   "outputs": [
    {
     "name": "stdout",
     "output_type": "stream",
     "text": [
      "                          PanelOLS Estimation Summary                           \n",
      "================================================================================\n",
      "Dep. Variable:           v2elsuffrage   R-squared:                        0.1485\n",
      "Estimator:                   PanelOLS   R-squared (Between):             -0.3293\n",
      "No. Observations:               18273   R-squared (Within):               0.1485\n",
      "Date:                Sat, Sep 24 2022   R-squared (Overall):              0.0091\n",
      "Time:                        10:08:43   Log-likelihood                 -9.11e+04\n",
      "Cov. Estimator:            Unadjusted                                           \n",
      "                                        F-statistic:                      3159.2\n",
      "Entities:                         164   P-value                           0.0000\n",
      "Avg Obs:                       111.42   Distribution:                 F(1,18108)\n",
      "Min Obs:                       1.0000                                           \n",
      "Max Obs:                       201.00   F-statistic (robust):             3159.2\n",
      "                                        P-value                           0.0000\n",
      "Time periods:                     201   Distribution:                 F(1,18108)\n",
      "Avg Obs:                       90.910                                           \n",
      "Min Obs:                       44.000                                           \n",
      "Max Obs:                       163.00                                           \n",
      "                                                                                \n",
      "                             Parameter Estimates                              \n",
      "==============================================================================\n",
      "            Parameter  Std. Err.     T-stat    P-value    Lower CI    Upper CI\n",
      "------------------------------------------------------------------------------\n",
      "const          38.520     0.2939     131.05     0.0000      37.944      39.097\n",
      "e_miurbpop     0.0020  3.597e-05     56.206     0.0000      0.0020      0.0021\n",
      "==============================================================================\n",
      "\n",
      "F-test for Poolability: 49.523\n",
      "P-value: 0.0000\n",
      "Distribution: F(163,18108)\n",
      "\n",
      "Included effects: Entity\n"
     ]
    }
   ],
   "source": [
    "exog_vars = ['e_miurbpop']\n",
    "exog = sm.add_constant(small_states_fe[exog_vars])\n",
    "panel_model = PanelOLS(small_states_fe.v2elsuffrage, exog, entity_effects=True).fit()\n",
    "print(panel_model)"
   ]
  },
  {
   "cell_type": "markdown",
   "metadata": {},
   "source": [
    "## Fixed effects with state-clustered SEs"
   ]
  },
  {
   "cell_type": "code",
   "execution_count": 84,
   "metadata": {
    "collapsed": false,
    "jupyter": {
     "outputs_hidden": false
    }
   },
   "outputs": [
    {
     "name": "stdout",
     "output_type": "stream",
     "text": [
      "                          PanelOLS Estimation Summary                           \n",
      "================================================================================\n",
      "Dep. Variable:           v2elsuffrage   R-squared:                        0.1485\n",
      "Estimator:                   PanelOLS   R-squared (Between):             -0.3293\n",
      "No. Observations:               18273   R-squared (Within):               0.1485\n",
      "Date:                Sat, Sep 24 2022   R-squared (Overall):              0.0091\n",
      "Time:                        10:15:35   Log-likelihood                 -9.11e+04\n",
      "Cov. Estimator:             Clustered                                           \n",
      "                                        F-statistic:                      3159.2\n",
      "Entities:                         164   P-value                           0.0000\n",
      "Avg Obs:                       111.42   Distribution:                 F(1,18108)\n",
      "Min Obs:                       1.0000                                           \n",
      "Max Obs:                       201.00   F-statistic (robust):             17.197\n",
      "                                        P-value                           0.0000\n",
      "Time periods:                     201   Distribution:                 F(1,18108)\n",
      "Avg Obs:                       90.910                                           \n",
      "Min Obs:                       44.000                                           \n",
      "Max Obs:                       163.00                                           \n",
      "                                                                                \n",
      "                             Parameter Estimates                              \n",
      "==============================================================================\n",
      "            Parameter  Std. Err.     T-stat    P-value    Lower CI    Upper CI\n",
      "------------------------------------------------------------------------------\n",
      "const          38.520     1.7797     21.645     0.0000      35.032      42.009\n",
      "e_miurbpop     0.0020     0.0005     4.1470     0.0000      0.0011      0.0030\n",
      "==============================================================================\n",
      "\n",
      "F-test for Poolability: 49.523\n",
      "P-value: 0.0000\n",
      "Distribution: F(163,18108)\n",
      "\n",
      "Included effects: Entity\n"
     ]
    }
   ],
   "source": [
    "exog_vars = ['e_miurbpop']\n",
    "exog = sm.add_constant(small_states_fe[exog_vars])\n",
    "panel_model = PanelOLS(small_states_fe.v2elsuffrage, exog, entity_effects=True).fit(cov_type=\"clustered\", cluster_entity=True)\n",
    "print(panel_model)"
   ]
  },
  {
   "cell_type": "markdown",
   "metadata": {},
   "source": [
    "## Random effects"
   ]
  },
  {
   "cell_type": "code",
   "execution_count": 88,
   "metadata": {
    "collapsed": false,
    "jupyter": {
     "outputs_hidden": false
    }
   },
   "outputs": [
    {
     "name": "stdout",
     "output_type": "stream",
     "text": [
      "                        RandomEffects Estimation Summary                        \n",
      "================================================================================\n",
      "Dep. Variable:           v2elsuffrage   R-squared:                        0.1515\n",
      "Estimator:              RandomEffects   R-squared (Between):             -0.1822\n",
      "No. Observations:               18273   R-squared (Within):               0.1485\n",
      "Date:                Sat, Sep 24 2022   R-squared (Overall):             -0.0246\n",
      "Time:                        10:27:59   Log-likelihood                -9.119e+04\n",
      "Cov. Estimator:            Unadjusted                                           \n",
      "                                        F-statistic:                      3261.0\n",
      "Entities:                         164   P-value                           0.0000\n",
      "Avg Obs:                       111.42   Distribution:                 F(1,18271)\n",
      "Min Obs:                       1.0000                                           \n",
      "Max Obs:                       201.00   F-statistic (robust):             3120.2\n",
      "                                        P-value                           0.0000\n",
      "Time periods:                     201   Distribution:                 F(1,18271)\n",
      "Avg Obs:                       90.910                                           \n",
      "Min Obs:                       44.000                                           \n",
      "Max Obs:                       163.00                                           \n",
      "                                                                                \n",
      "                             Parameter Estimates                              \n",
      "==============================================================================\n",
      "            Parameter  Std. Err.     T-stat    P-value    Lower CI    Upper CI\n",
      "------------------------------------------------------------------------------\n",
      "const          46.864     2.1209     22.097     0.0000      42.707      51.021\n",
      "e_miurbpop     0.0020  3.583e-05     55.859     0.0000      0.0019      0.0021\n",
      "==============================================================================\n"
     ]
    }
   ],
   "source": [
    "re_model = RandomEffects(small_states_fe.v2elsuffrage, exog).fit()\n",
    "print(re_model)"
   ]
  }
 ],
 "metadata": {
  "kernelspec": {
   "display_name": "Python 3 (ipykernel)",
   "language": "python",
   "name": "python3"
  },
  "language_info": {
   "codemirror_mode": {
    "name": "ipython",
    "version": 3
   },
   "file_extension": ".py",
   "mimetype": "text/x-python",
   "name": "python",
   "nbconvert_exporter": "python",
   "pygments_lexer": "ipython3",
   "version": "3.10.4"
  }
 },
 "nbformat": 4,
 "nbformat_minor": 4
}
