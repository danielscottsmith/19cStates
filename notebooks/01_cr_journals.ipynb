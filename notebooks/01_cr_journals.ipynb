{
 "cells": [
  {
   "cell_type": "markdown",
   "metadata": {},
   "source": [
    "# Goals"
   ]
  },
  {
   "cell_type": "markdown",
   "metadata": {},
   "source": [
    "# Libraries"
   ]
  },
  {
   "cell_type": "code",
   "execution_count": 1,
   "metadata": {
    "ExecuteTime": {
     "end_time": "2021-09-17T13:56:24.070095Z",
     "start_time": "2021-09-17T13:56:23.845425Z"
    }
   },
   "outputs": [],
   "source": [
    "import glob \n",
    "import csv\n",
    "import pandas as pd\n",
    "import os"
   ]
  },
  {
   "cell_type": "markdown",
   "metadata": {},
   "source": [
    "# Parameters & Directories"
   ]
  },
  {
   "cell_type": "code",
   "execution_count": 2,
   "metadata": {},
   "outputs": [],
   "source": [
    "%config InlineBackend.figure_format='retina'\n",
    "pd.set_option('mode.chained_assignment', None)"
   ]
  },
  {
   "cell_type": "code",
   "execution_count": 3,
   "metadata": {},
   "outputs": [],
   "source": [
    "DIR = os.path.dirname(os.getcwd()) + \"/\"\n",
    "DATA = DIR + \"data/\""
   ]
  },
  {
   "cell_type": "markdown",
   "metadata": {},
   "source": [
    "# Process RIS files\n",
    "Read in and parse each RIS file."
   ]
  },
  {
   "cell_type": "code",
   "execution_count": 4,
   "metadata": {
    "ExecuteTime": {
     "end_time": "2021-09-17T13:56:51.681280Z",
     "start_time": "2021-09-17T13:56:51.361318Z"
    }
   },
   "outputs": [],
   "source": [
    "# Records are separated by 200 x '-'\n",
    "record_split = \"-\"*200\n",
    "\n",
    "# Grab all files RIS files\n",
    "files = glob.glob(DATA + \"raw/worldcat_ris_files/\" + \"DirectExport*\")\n",
    "\n",
    "# Initialize a csv to write RIS data into\n",
    "with open(DATA + \"interim/\" + \"19c_journals.csv\", 'w') as csvf:\n",
    "    writer = csv.writer(csvf)\n",
    "    \n",
    "    # Initialize our columns\n",
    "    writer.writerow(['title', 'auth', 'lang', 'year', 'start', 'end', 'soc', 'stats'])\n",
    "    \n",
    "    # Loop thru, open, read, and parse each file\n",
    "    for file in files:\n",
    "        with open(file, 'r') as f:\n",
    "            records = f.read()\n",
    "            records = records.split(record_split)\n",
    "            records.pop() # delete last empty record\n",
    "            \n",
    "            # In each file, loop thru each hit\n",
    "            record_n = -1\n",
    "            for record in records: \n",
    "                record_n += 1\n",
    "                line_n = -1\n",
    "                lines = record.split('\\n')\n",
    "                title = \"\"\n",
    "                year = \"\"\n",
    "                auth = \"\"\n",
    "                lang = \"\"\n",
    "                \n",
    "                # In each record, loop thru each line\n",
    "                for line in lines:\n",
    "                    line_n += 1\n",
    "                    \n",
    "                    # Is there a title? If so, clean it up.\n",
    "                    if \"Title:\" in line:\n",
    "                        title = line.split(\"Title:\")[-1]\n",
    "                        title = title.strip()\n",
    "                        title = title.replace(\"         \", \" \")\n",
    "                        if \":\" in title: \n",
    "                            title += lines[line_n + 1]\n",
    "                            \n",
    "                    # Is there a year? If so, clean it up.\n",
    "                    if \"Year:\" in line: \n",
    "                        year = line.split(\":\")[-1].strip()\n",
    "                        \n",
    "                        # data errors; mark as missing\n",
    "                        if (\"s\" or \"?\") in year: \n",
    "                            start = -99\n",
    "                            end = - 99\n",
    "                            \n",
    "                        # ranges; grab start and end\n",
    "                        elif \"-\" in year: \n",
    "                            start = year.split(\"-\")[0]\n",
    "                            if len(year.split(\"-\")[1]) == 4:\n",
    "                                end = year.split(\"-\")[1]\n",
    "                            else: \n",
    "                                end = 1914\n",
    "                                \n",
    "                        # if no range, then one-year pub\n",
    "                        else: \n",
    "                            start = year\n",
    "                            end = year\n",
    "                            \n",
    "                    # Is there an auth, lang, and subject code? \n",
    "                    # If so, clean them up.\n",
    "                    if \"Corp Author(s):\" in line:\n",
    "                        auth = line.split(\":\")[-1].strip()\n",
    "                    if \"Language:\" in line: \n",
    "                        lang = line.split(\":\")[-1].strip()\n",
    "                    if \"Descriptor:\" in line: \n",
    "                        if \"Social science\" in line:\n",
    "                            soc_sci = 1\n",
    "                        elif \"Statistics\" in line:\n",
    "                            stats = 1\n",
    "                        else: \n",
    "                            soc_sci = 0\n",
    "                            stats = 0\n",
    "                            \n",
    "                        # lines sometimes get broken; so, peak to next line\n",
    "                        # this line wouldn't get detected in the above bc\n",
    "                        # the above looks for 'descriptor'\n",
    "                        if soc_sci == 0 and stats == 0:\n",
    "                            if \"Social sciences\" in lines[line_n + 1]:\n",
    "                                soc_sci = 1\n",
    "                            elif \"Statistics\" in lines[line_n + 1]:\n",
    "                                stats = 1\n",
    "                                \n",
    "                # write row in csv\n",
    "                writer.writerow([title, auth, lang, year, start, end, soc_sci, stats])"
   ]
  },
  {
   "cell_type": "code",
   "execution_count": 5,
   "metadata": {
    "ExecuteTime": {
     "end_time": "2021-09-17T13:56:45.138745Z",
     "start_time": "2021-09-17T13:56:45.106325Z"
    }
   },
   "outputs": [
    {
     "data": {
      "text/html": [
       "<div>\n",
       "<style scoped>\n",
       "    .dataframe tbody tr th:only-of-type {\n",
       "        vertical-align: middle;\n",
       "    }\n",
       "\n",
       "    .dataframe tbody tr th {\n",
       "        vertical-align: top;\n",
       "    }\n",
       "\n",
       "    .dataframe thead th {\n",
       "        text-align: right;\n",
       "    }\n",
       "</style>\n",
       "<table border=\"1\" class=\"dataframe\">\n",
       "  <thead>\n",
       "    <tr style=\"text-align: right;\">\n",
       "      <th></th>\n",
       "      <th>title</th>\n",
       "      <th>auth</th>\n",
       "      <th>lang</th>\n",
       "      <th>year</th>\n",
       "      <th>start</th>\n",
       "      <th>end</th>\n",
       "      <th>soc</th>\n",
       "      <th>stats</th>\n",
       "    </tr>\n",
       "  </thead>\n",
       "  <tbody>\n",
       "    <tr>\n",
       "      <th>8377</th>\n",
       "      <td>Eastern Lunatic Asylum of Virginia.; Annual re...</td>\n",
       "      <td>Eastern State Hospital (Va.)</td>\n",
       "      <td>English</td>\n",
       "      <td>1890s-?</td>\n",
       "      <td>-99</td>\n",
       "      <td>-99</td>\n",
       "      <td>0</td>\n",
       "      <td>1</td>\n",
       "    </tr>\n",
       "    <tr>\n",
       "      <th>3345</th>\n",
       "      <td>The Rocky Mountain news illustrated almanac.</td>\n",
       "      <td>NaN</td>\n",
       "      <td>English</td>\n",
       "      <td>1800s-?</td>\n",
       "      <td>-99</td>\n",
       "      <td>-99</td>\n",
       "      <td>0</td>\n",
       "      <td>0</td>\n",
       "    </tr>\n",
       "    <tr>\n",
       "      <th>4841</th>\n",
       "      <td>De Economist.</td>\n",
       "      <td>Nederlands Economisch Instituut.</td>\n",
       "      <td>English</td>\n",
       "      <td>1852-?</td>\n",
       "      <td>1852</td>\n",
       "      <td>1914</td>\n",
       "      <td>1</td>\n",
       "      <td>1</td>\n",
       "    </tr>\n",
       "    <tr>\n",
       "      <th>5818</th>\n",
       "      <td>Materialy dli︠a︡ statistiki turkestanskago kra...</td>\n",
       "      <td>Turkestanskīĭ statisticheskīĭ komitet.</td>\n",
       "      <td>Russian</td>\n",
       "      <td>1872-1879</td>\n",
       "      <td>1872</td>\n",
       "      <td>1879</td>\n",
       "      <td>0</td>\n",
       "      <td>1</td>\n",
       "    </tr>\n",
       "    <tr>\n",
       "      <th>4551</th>\n",
       "      <td>Boletín de la Sociedad de Geografía y Estadi...</td>\n",
       "      <td>Sociedad Mexicana de Geografía y Estadística.</td>\n",
       "      <td>Spanish</td>\n",
       "      <td>1850-1866</td>\n",
       "      <td>1850</td>\n",
       "      <td>1866</td>\n",
       "      <td>0</td>\n",
       "      <td>0</td>\n",
       "    </tr>\n",
       "  </tbody>\n",
       "</table>\n",
       "</div>"
      ],
      "text/plain": [
       "                                                  title  \\\n",
       "8377  Eastern Lunatic Asylum of Virginia.; Annual re...   \n",
       "3345       The Rocky Mountain news illustrated almanac.   \n",
       "4841                                      De Economist.   \n",
       "5818  Materialy dli︠a︡ statistiki turkestanskago kra...   \n",
       "4551  Boletín de la Sociedad de Geografía y Estadi...   \n",
       "\n",
       "                                                 auth     lang       year  \\\n",
       "8377                     Eastern State Hospital (Va.)  English    1890s-?   \n",
       "3345                                              NaN  English    1800s-?   \n",
       "4841                 Nederlands Economisch Instituut.  English     1852-?   \n",
       "5818       Turkestanskīĭ statisticheskīĭ komitet.  Russian  1872-1879   \n",
       "4551  Sociedad Mexicana de Geografía y Estadística.  Spanish  1850-1866   \n",
       "\n",
       "      start   end  soc  stats  \n",
       "8377    -99   -99    0      1  \n",
       "3345    -99   -99    0      0  \n",
       "4841   1852  1914    1      1  \n",
       "5818   1872  1879    0      1  \n",
       "4551   1850  1866    0      0  "
      ]
     },
     "execution_count": 5,
     "metadata": {},
     "output_type": "execute_result"
    }
   ],
   "source": [
    "df = pd.read_csv(DATA + \"interim/\" + \"19c_journals.csv\")\n",
    "df.sample(5)"
   ]
  },
  {
   "cell_type": "code",
   "execution_count": 6,
   "metadata": {
    "ExecuteTime": {
     "end_time": "2021-07-30T15:27:32.393627Z",
     "start_time": "2021-07-30T15:27:32.390384Z"
    }
   },
   "outputs": [
    {
     "data": {
      "text/plain": [
       "(8928, 8)"
      ]
     },
     "execution_count": 6,
     "metadata": {},
     "output_type": "execute_result"
    }
   ],
   "source": [
    "df.shape"
   ]
  },
  {
   "cell_type": "markdown",
   "metadata": {},
   "source": [
    "# Clean journal-level data\n",
    "Filter out unknown. years and duplicates"
   ]
  },
  {
   "cell_type": "code",
   "execution_count": 7,
   "metadata": {
    "ExecuteTime": {
     "end_time": "2021-07-30T15:27:32.829129Z",
     "start_time": "2021-07-30T15:27:32.818795Z"
    }
   },
   "outputs": [
    {
     "data": {
      "text/plain": [
       "(6170, 8)"
      ]
     },
     "execution_count": 7,
     "metadata": {},
     "output_type": "execute_result"
    }
   ],
   "source": [
    "df_filtered = df[df['start'] != -99]\n",
    "df_filtered.shape"
   ]
  },
  {
   "cell_type": "code",
   "execution_count": 8,
   "metadata": {
    "ExecuteTime": {
     "end_time": "2021-07-30T15:27:41.497851Z",
     "start_time": "2021-07-30T15:27:41.491323Z"
    }
   },
   "outputs": [
    {
     "data": {
      "text/plain": [
       "(5196, 8)"
      ]
     },
     "execution_count": 8,
     "metadata": {},
     "output_type": "execute_result"
    }
   ],
   "source": [
    "df_filtered.drop_duplicates(subset=['title', 'auth', 'start'], \n",
    "                            keep='first', \n",
    "                            inplace=True, \n",
    "                            ignore_index=True)\n",
    "df_filtered.shape"
   ]
  },
  {
   "cell_type": "markdown",
   "metadata": {},
   "source": [
    "Replace csv"
   ]
  },
  {
   "cell_type": "code",
   "execution_count": 9,
   "metadata": {
    "ExecuteTime": {
     "end_time": "2021-07-30T15:27:46.876228Z",
     "start_time": "2021-07-30T15:27:46.835866Z"
    }
   },
   "outputs": [],
   "source": [
    "df_filtered.to_csv(DATA + \"interim/\" + \"19c_journals.csv\")"
   ]
  },
  {
   "cell_type": "markdown",
   "metadata": {},
   "source": [
    "# Create world level annual time series"
   ]
  },
  {
   "cell_type": "markdown",
   "metadata": {},
   "source": [
    "Count how many stats and soc pubs per year"
   ]
  },
  {
   "cell_type": "code",
   "execution_count": 10,
   "metadata": {
    "ExecuteTime": {
     "end_time": "2021-06-24T18:23:20.771429Z",
     "start_time": "2021-06-24T18:22:38.668204Z"
    }
   },
   "outputs": [],
   "source": [
    "stats_journals = {}\n",
    "soc_journals = {}\n",
    "for year in range(1800, 1915):\n",
    "    if year not in (stats_journals or soc_journals): \n",
    "        stats_journals[year] = 0\n",
    "        soc_journals[year] = 0\n",
    "    for index, journal in df_filtered.iterrows():\n",
    "        if journal['soc'] == 1: \n",
    "            if year in range(journal['start'], journal['end']):\n",
    "                soc_journals[year] += 1\n",
    "        if journal['stats'] == 1:\n",
    "            if year in range(journal['start'], journal['end']):\n",
    "                stats_journals[year] += 1"
   ]
  },
  {
   "cell_type": "markdown",
   "metadata": {},
   "source": [
    "Create a data frame with count dicts"
   ]
  },
  {
   "cell_type": "code",
   "execution_count": 11,
   "metadata": {
    "ExecuteTime": {
     "end_time": "2021-06-24T18:33:25.405863Z",
     "start_time": "2021-06-24T18:33:25.402295Z"
    },
    "scrolled": true
   },
   "outputs": [
    {
     "data": {
      "text/html": [
       "<div>\n",
       "<style scoped>\n",
       "    .dataframe tbody tr th:only-of-type {\n",
       "        vertical-align: middle;\n",
       "    }\n",
       "\n",
       "    .dataframe tbody tr th {\n",
       "        vertical-align: top;\n",
       "    }\n",
       "\n",
       "    .dataframe thead th {\n",
       "        text-align: right;\n",
       "    }\n",
       "</style>\n",
       "<table border=\"1\" class=\"dataframe\">\n",
       "  <thead>\n",
       "    <tr style=\"text-align: right;\">\n",
       "      <th></th>\n",
       "      <th>wy_stats_journals</th>\n",
       "      <th>year</th>\n",
       "      <th>wy_soc_journals</th>\n",
       "    </tr>\n",
       "  </thead>\n",
       "  <tbody>\n",
       "    <tr>\n",
       "      <th>103</th>\n",
       "      <td>1641</td>\n",
       "      <td>1903</td>\n",
       "      <td>646</td>\n",
       "    </tr>\n",
       "    <tr>\n",
       "      <th>113</th>\n",
       "      <td>2151</td>\n",
       "      <td>1913</td>\n",
       "      <td>834</td>\n",
       "    </tr>\n",
       "    <tr>\n",
       "      <th>3</th>\n",
       "      <td>14</td>\n",
       "      <td>1803</td>\n",
       "      <td>4</td>\n",
       "    </tr>\n",
       "    <tr>\n",
       "      <th>53</th>\n",
       "      <td>236</td>\n",
       "      <td>1853</td>\n",
       "      <td>89</td>\n",
       "    </tr>\n",
       "    <tr>\n",
       "      <th>51</th>\n",
       "      <td>194</td>\n",
       "      <td>1851</td>\n",
       "      <td>70</td>\n",
       "    </tr>\n",
       "  </tbody>\n",
       "</table>\n",
       "</div>"
      ],
      "text/plain": [
       "     wy_stats_journals  year  wy_soc_journals\n",
       "103               1641  1903              646\n",
       "113               2151  1913              834\n",
       "3                   14  1803                4\n",
       "53                 236  1853               89\n",
       "51                 194  1851               70"
      ]
     },
     "execution_count": 11,
     "metadata": {},
     "output_type": "execute_result"
    }
   ],
   "source": [
    "years_df = pd.DataFrame.from_dict(stats_journals, \n",
    "                                  orient=\"index\", \n",
    "                                  columns=[\"wy_stats_journals\"])\n",
    "\n",
    "years_df['year'] = years_df.index\n",
    "years_df.reset_index(drop=True, inplace=True)\n",
    "years_df['wy_soc_journals'] = years_df['year'].map(soc_journals)\n",
    "years_df.sample(5)"
   ]
  },
  {
   "cell_type": "code",
   "execution_count": 12,
   "metadata": {},
   "outputs": [
    {
     "data": {
      "text/plain": [
       "1800"
      ]
     },
     "execution_count": 12,
     "metadata": {},
     "output_type": "execute_result"
    }
   ],
   "source": [
    "years_df['year'].min()"
   ]
  },
  {
   "cell_type": "code",
   "execution_count": 13,
   "metadata": {},
   "outputs": [
    {
     "data": {
      "text/html": [
       "<div>\n",
       "<style scoped>\n",
       "    .dataframe tbody tr th:only-of-type {\n",
       "        vertical-align: middle;\n",
       "    }\n",
       "\n",
       "    .dataframe tbody tr th {\n",
       "        vertical-align: top;\n",
       "    }\n",
       "\n",
       "    .dataframe thead th {\n",
       "        text-align: right;\n",
       "    }\n",
       "</style>\n",
       "<table border=\"1\" class=\"dataframe\">\n",
       "  <thead>\n",
       "    <tr style=\"text-align: right;\">\n",
       "      <th></th>\n",
       "      <th>wy_stats_journals</th>\n",
       "      <th>wy_soc_journals</th>\n",
       "    </tr>\n",
       "  </thead>\n",
       "  <tbody>\n",
       "    <tr>\n",
       "      <th>count</th>\n",
       "      <td>1.0</td>\n",
       "      <td>1.0</td>\n",
       "    </tr>\n",
       "    <tr>\n",
       "      <th>mean</th>\n",
       "      <td>9.0</td>\n",
       "      <td>3.0</td>\n",
       "    </tr>\n",
       "    <tr>\n",
       "      <th>std</th>\n",
       "      <td>NaN</td>\n",
       "      <td>NaN</td>\n",
       "    </tr>\n",
       "    <tr>\n",
       "      <th>min</th>\n",
       "      <td>9.0</td>\n",
       "      <td>3.0</td>\n",
       "    </tr>\n",
       "    <tr>\n",
       "      <th>25%</th>\n",
       "      <td>9.0</td>\n",
       "      <td>3.0</td>\n",
       "    </tr>\n",
       "    <tr>\n",
       "      <th>50%</th>\n",
       "      <td>9.0</td>\n",
       "      <td>3.0</td>\n",
       "    </tr>\n",
       "    <tr>\n",
       "      <th>75%</th>\n",
       "      <td>9.0</td>\n",
       "      <td>3.0</td>\n",
       "    </tr>\n",
       "    <tr>\n",
       "      <th>max</th>\n",
       "      <td>9.0</td>\n",
       "      <td>3.0</td>\n",
       "    </tr>\n",
       "  </tbody>\n",
       "</table>\n",
       "</div>"
      ],
      "text/plain": [
       "       wy_stats_journals  wy_soc_journals\n",
       "count                1.0              1.0\n",
       "mean                 9.0              3.0\n",
       "std                  NaN              NaN\n",
       "min                  9.0              3.0\n",
       "25%                  9.0              3.0\n",
       "50%                  9.0              3.0\n",
       "75%                  9.0              3.0\n",
       "max                  9.0              3.0"
      ]
     },
     "execution_count": 13,
     "metadata": {},
     "output_type": "execute_result"
    }
   ],
   "source": [
    "years_df[years_df['year']==1800][['wy_stats_journals', 'wy_soc_journals']].describe()"
   ]
  },
  {
   "cell_type": "markdown",
   "metadata": {},
   "source": [
    "# Export world-level time series"
   ]
  },
  {
   "cell_type": "code",
   "execution_count": 14,
   "metadata": {
    "ExecuteTime": {
     "end_time": "2021-06-24T18:48:37.822512Z",
     "start_time": "2021-06-24T18:48:37.813649Z"
    }
   },
   "outputs": [],
   "source": [
    "years_df.to_csv(DATA + \"interim/\" + \"19c_journals_wy.csv\", index=False)"
   ]
  },
  {
   "cell_type": "code",
   "execution_count": null,
   "metadata": {},
   "outputs": [],
   "source": []
  }
 ],
 "metadata": {
  "kernelspec": {
   "display_name": "Python 3 (ipykernel)",
   "language": "python",
   "name": "python3"
  },
  "language_info": {
   "codemirror_mode": {
    "name": "ipython",
    "version": 3
   },
   "file_extension": ".py",
   "mimetype": "text/x-python",
   "name": "python",
   "nbconvert_exporter": "python",
   "pygments_lexer": "ipython3",
   "version": "3.10.4"
  },
  "toc": {
   "base_numbering": 1,
   "nav_menu": {},
   "number_sections": true,
   "sideBar": true,
   "skip_h1_title": false,
   "title_cell": "Table of Contents",
   "title_sidebar": "Contents",
   "toc_cell": true,
   "toc_position": {},
   "toc_section_display": true,
   "toc_window_display": true
  },
  "toc-autonumbering": true
 },
 "nbformat": 4,
 "nbformat_minor": 4
}
