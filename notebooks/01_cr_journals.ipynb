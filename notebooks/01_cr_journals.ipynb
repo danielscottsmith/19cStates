{
 "cells": [
  {
   "cell_type": "markdown",
   "metadata": {},
   "source": [
    "# Goals"
   ]
  },
  {
   "cell_type": "markdown",
   "metadata": {},
   "source": [
    "# Libraries"
   ]
  },
  {
   "cell_type": "code",
   "execution_count": 1,
   "metadata": {
    "ExecuteTime": {
     "end_time": "2021-09-17T13:56:24.070095Z",
     "start_time": "2021-09-17T13:56:23.845425Z"
    }
   },
   "outputs": [],
   "source": [
    "import glob \n",
    "import csv\n",
    "import pandas as pd\n",
    "import os"
   ]
  },
  {
   "cell_type": "markdown",
   "metadata": {},
   "source": [
    "# Parameters & Directories"
   ]
  },
  {
   "cell_type": "code",
   "execution_count": 2,
   "metadata": {},
   "outputs": [],
   "source": [
    "%config InlineBackend.figure_format='retina'\n",
    "pd.set_option('mode.chained_assignment', None)"
   ]
  },
  {
   "cell_type": "code",
   "execution_count": 3,
   "metadata": {},
   "outputs": [],
   "source": [
    "DIR = os.path.dirname(os.getcwd()) + \"/\"\n",
    "DATA = DIR + \"data/\""
   ]
  },
  {
   "cell_type": "markdown",
   "metadata": {},
   "source": [
    "# Process RIS files\n",
    "Read in and parse each RIS file."
   ]
  },
  {
   "cell_type": "code",
   "execution_count": 4,
   "metadata": {
    "ExecuteTime": {
     "end_time": "2021-09-17T13:56:51.681280Z",
     "start_time": "2021-09-17T13:56:51.361318Z"
    }
   },
   "outputs": [],
   "source": [
    "# Records are separated by 200 x '-'\n",
    "record_split = \"-\"*200\n",
    "\n",
    "# Grab all files RIS files\n",
    "files = glob.glob(DATA + \"raw/worldcat_ris_files/\" + \"DirectExport*\")\n",
    "\n",
    "# Initialize a csv to write RIS data into\n",
    "with open(DATA + \"interim/\" + \"19c_journals.csv\", 'w') as csvf:\n",
    "    writer = csv.writer(csvf)\n",
    "    \n",
    "    # Initialize our columns\n",
    "    writer.writerow(['title', 'auth', 'lang', 'year', 'start', 'end', 'soc', 'stats'])\n",
    "    \n",
    "    # Loop thru, open, read, and parse each file\n",
    "    for file in files:\n",
    "        with open(file, 'r') as f:\n",
    "            records = f.read()\n",
    "            records = records.split(record_split)\n",
    "            records.pop() # delete last empty record\n",
    "            \n",
    "            # In each file, loop thru each hit\n",
    "            record_n = -1\n",
    "            for record in records: \n",
    "                record_n += 1\n",
    "                line_n = -1\n",
    "                lines = record.split('\\n')\n",
    "                title = \"\"\n",
    "                year = \"\"\n",
    "                auth = \"\"\n",
    "                lang = \"\"\n",
    "                \n",
    "                # In each record, loop thru each line\n",
    "                for line in lines:\n",
    "                    line_n += 1\n",
    "                    \n",
    "                    # Is there a title? If so, clean it up.\n",
    "                    if \"Title:\" in line:\n",
    "                        title = line.split(\"Title:\")[-1]\n",
    "                        title = title.strip()\n",
    "                        title = title.replace(\"         \", \" \")\n",
    "                        if \":\" in title: \n",
    "                            title += lines[line_n + 1]\n",
    "                            \n",
    "                    # Is there a year? If so, clean it up.\n",
    "                    if \"Year:\" in line: \n",
    "                        year = line.split(\":\")[-1].strip()\n",
    "                        \n",
    "                        # data errors; mark as missing\n",
    "                        if (\"s\" or \"?\") in year: \n",
    "                            start = -99\n",
    "                            end = - 99\n",
    "                            \n",
    "                        # ranges; grab start and end\n",
    "                        elif \"-\" in year: \n",
    "                            start = year.split(\"-\")[0]\n",
    "                            if len(year.split(\"-\")[1]) == 4:\n",
    "                                end = year.split(\"-\")[1]\n",
    "                            else: \n",
    "                                end = 1914\n",
    "                                \n",
    "                        # if no range, then one-year pub\n",
    "                        else: \n",
    "                            start = year\n",
    "                            end = year\n",
    "                            \n",
    "                    # Is there an auth, lang, and subject code? \n",
    "                    # If so, clean them up.\n",
    "                    if \"Corp Author(s):\" in line:\n",
    "                        auth = line.split(\":\")[-1].strip()\n",
    "                    if \"Language:\" in line: \n",
    "                        lang = line.split(\":\")[-1].strip()\n",
    "                    if \"Descriptor:\" in line: \n",
    "                        if \"Social science\" in line:\n",
    "                            soc_sci = 1\n",
    "                        elif \"Statistics\" in line:\n",
    "                            stats = 1\n",
    "                        else: \n",
    "                            soc_sci = 0\n",
    "                            stats = 0\n",
    "                            \n",
    "                        # lines sometimes get broken; so, peak to next line\n",
    "                        # this line wouldn't get detected in the above bc\n",
    "                        # the above looks for 'descriptor'\n",
    "                        if soc_sci == 0 and stats == 0:\n",
    "                            if \"Social sciences\" in lines[line_n + 1]:\n",
    "                                soc_sci = 1\n",
    "                            elif \"Statistics\" in lines[line_n + 1]:\n",
    "                                stats = 1\n",
    "                                \n",
    "                # write row in csv\n",
    "                writer.writerow([title, auth, lang, year, start, end, soc_sci, stats])"
   ]
  },
  {
   "cell_type": "code",
   "execution_count": 5,
   "metadata": {
    "ExecuteTime": {
     "end_time": "2021-09-17T13:56:45.138745Z",
     "start_time": "2021-09-17T13:56:45.106325Z"
    }
   },
   "outputs": [
    {
     "data": {
      "text/html": [
       "<div>\n",
       "<style scoped>\n",
       "    .dataframe tbody tr th:only-of-type {\n",
       "        vertical-align: middle;\n",
       "    }\n",
       "\n",
       "    .dataframe tbody tr th {\n",
       "        vertical-align: top;\n",
       "    }\n",
       "\n",
       "    .dataframe thead th {\n",
       "        text-align: right;\n",
       "    }\n",
       "</style>\n",
       "<table border=\"1\" class=\"dataframe\">\n",
       "  <thead>\n",
       "    <tr style=\"text-align: right;\">\n",
       "      <th></th>\n",
       "      <th>title</th>\n",
       "      <th>auth</th>\n",
       "      <th>lang</th>\n",
       "      <th>year</th>\n",
       "      <th>start</th>\n",
       "      <th>end</th>\n",
       "      <th>soc</th>\n",
       "      <th>stats</th>\n",
       "    </tr>\n",
       "  </thead>\n",
       "  <tbody>\n",
       "    <tr>\n",
       "      <th>7892</th>\n",
       "      <td>Monthly bulletin of the Missouri Weather Servi...</td>\n",
       "      <td>Missouri Weather Service, ; issuing body.; Uni...</td>\n",
       "      <td>English</td>\n",
       "      <td>1800s-1896</td>\n",
       "      <td>-99</td>\n",
       "      <td>-99</td>\n",
       "      <td>0</td>\n",
       "      <td>1</td>\n",
       "    </tr>\n",
       "    <tr>\n",
       "      <th>4805</th>\n",
       "      <td>Monthly statement /</td>\n",
       "      <td>Illinois State Reformatory.</td>\n",
       "      <td>English</td>\n",
       "      <td>1800s-</td>\n",
       "      <td>-99</td>\n",
       "      <td>-99</td>\n",
       "      <td>1</td>\n",
       "      <td>1</td>\n",
       "    </tr>\n",
       "    <tr>\n",
       "      <th>905</th>\n",
       "      <td>Revue catholique sociale et juridique</td>\n",
       "      <td>NaN</td>\n",
       "      <td>French</td>\n",
       "      <td>1897-1920</td>\n",
       "      <td>1897</td>\n",
       "      <td>1920</td>\n",
       "      <td>1</td>\n",
       "      <td>0</td>\n",
       "    </tr>\n",
       "    <tr>\n",
       "      <th>6744</th>\n",
       "      <td>Utah. Bureau of Statistics.; Report of the Bur...</td>\n",
       "      <td>Utah. Bureau of Statistics.</td>\n",
       "      <td>English</td>\n",
       "      <td>1901-1906</td>\n",
       "      <td>1901</td>\n",
       "      <td>1906</td>\n",
       "      <td>0</td>\n",
       "      <td>0</td>\n",
       "    </tr>\n",
       "    <tr>\n",
       "      <th>674</th>\n",
       "      <td>United States. Weather Bureau.; Climatological...</td>\n",
       "      <td>United States.; Weather Bureau.</td>\n",
       "      <td>English</td>\n",
       "      <td>1914-1948</td>\n",
       "      <td>1914</td>\n",
       "      <td>1948</td>\n",
       "      <td>0</td>\n",
       "      <td>1</td>\n",
       "    </tr>\n",
       "  </tbody>\n",
       "</table>\n",
       "</div>"
      ],
      "text/plain": [
       "                                                  title  \\\n",
       "7892  Monthly bulletin of the Missouri Weather Servi...   \n",
       "4805                                Monthly statement /   \n",
       "905               Revue catholique sociale et juridique   \n",
       "6744  Utah. Bureau of Statistics.; Report of the Bur...   \n",
       "674   United States. Weather Bureau.; Climatological...   \n",
       "\n",
       "                                                   auth     lang        year  \\\n",
       "7892  Missouri Weather Service, ; issuing body.; Uni...  English  1800s-1896   \n",
       "4805                        Illinois State Reformatory.  English      1800s-   \n",
       "905                                                 NaN   French   1897-1920   \n",
       "6744                        Utah. Bureau of Statistics.  English   1901-1906   \n",
       "674                     United States.; Weather Bureau.  English   1914-1948   \n",
       "\n",
       "      start   end  soc  stats  \n",
       "7892    -99   -99    0      1  \n",
       "4805    -99   -99    1      1  \n",
       "905    1897  1920    1      0  \n",
       "6744   1901  1906    0      0  \n",
       "674    1914  1948    0      1  "
      ]
     },
     "execution_count": 5,
     "metadata": {},
     "output_type": "execute_result"
    }
   ],
   "source": [
    "df = pd.read_csv(DATA + \"interim/\" + \"19c_journals.csv\")\n",
    "df.sample(5)"
   ]
  },
  {
   "cell_type": "code",
   "execution_count": 6,
   "metadata": {
    "ExecuteTime": {
     "end_time": "2021-07-30T15:27:32.393627Z",
     "start_time": "2021-07-30T15:27:32.390384Z"
    }
   },
   "outputs": [
    {
     "data": {
      "text/plain": [
       "(8928, 8)"
      ]
     },
     "execution_count": 6,
     "metadata": {},
     "output_type": "execute_result"
    }
   ],
   "source": [
    "df.shape"
   ]
  },
  {
   "cell_type": "markdown",
   "metadata": {},
   "source": [
    "# Clean journal-level data\n",
    "Filter out unknown. years and duplicates"
   ]
  },
  {
   "cell_type": "code",
   "execution_count": 7,
   "metadata": {
    "ExecuteTime": {
     "end_time": "2021-07-30T15:27:32.829129Z",
     "start_time": "2021-07-30T15:27:32.818795Z"
    }
   },
   "outputs": [
    {
     "data": {
      "text/plain": [
       "(6170, 8)"
      ]
     },
     "execution_count": 7,
     "metadata": {},
     "output_type": "execute_result"
    }
   ],
   "source": [
    "df_filtered = df[df['start'] != -99]\n",
    "df_filtered.shape"
   ]
  },
  {
   "cell_type": "code",
   "execution_count": 8,
   "metadata": {
    "ExecuteTime": {
     "end_time": "2021-07-30T15:27:41.497851Z",
     "start_time": "2021-07-30T15:27:41.491323Z"
    }
   },
   "outputs": [
    {
     "data": {
      "text/plain": [
       "(5196, 8)"
      ]
     },
     "execution_count": 8,
     "metadata": {},
     "output_type": "execute_result"
    }
   ],
   "source": [
    "df_filtered.drop_duplicates(subset=['title', 'auth', 'start'], \n",
    "                            keep='first', \n",
    "                            inplace=True, \n",
    "                            ignore_index=True)\n",
    "df_filtered.shape"
   ]
  },
  {
   "cell_type": "markdown",
   "metadata": {},
   "source": [
    "Replace csv"
   ]
  },
  {
   "cell_type": "code",
   "execution_count": 9,
   "metadata": {
    "ExecuteTime": {
     "end_time": "2021-07-30T15:27:46.876228Z",
     "start_time": "2021-07-30T15:27:46.835866Z"
    }
   },
   "outputs": [],
   "source": [
    "df_filtered.to_csv(DATA + \"interim/\" + \"19c_journals.csv\")"
   ]
  },
  {
   "cell_type": "markdown",
   "metadata": {},
   "source": [
    "# Create world level annual time series"
   ]
  },
  {
   "cell_type": "markdown",
   "metadata": {},
   "source": [
    "Count how many stats and soc pubs per year"
   ]
  },
  {
   "cell_type": "code",
   "execution_count": 10,
   "metadata": {
    "ExecuteTime": {
     "end_time": "2021-06-24T18:23:20.771429Z",
     "start_time": "2021-06-24T18:22:38.668204Z"
    }
   },
   "outputs": [],
   "source": [
    "stats_journals = {}\n",
    "soc_journals = {}\n",
    "for year in range(1803, 1915):\n",
    "    if year not in (stats_journals or soc_journals): \n",
    "        stats_journals[year] = 0\n",
    "        soc_journals[year] = 0\n",
    "    for index, journal in df_filtered.iterrows():\n",
    "        if journal['soc'] == 1: \n",
    "            if year in range(journal['start'], journal['end']):\n",
    "                soc_journals[year] += 1\n",
    "        if journal['stats'] == 1:\n",
    "            if year in range(journal['start'], journal['end']):\n",
    "                stats_journals[year] += 1"
   ]
  },
  {
   "cell_type": "markdown",
   "metadata": {},
   "source": [
    "Create a data frame with count dicts"
   ]
  },
  {
   "cell_type": "code",
   "execution_count": 11,
   "metadata": {
    "ExecuteTime": {
     "end_time": "2021-06-24T18:33:25.405863Z",
     "start_time": "2021-06-24T18:33:25.402295Z"
    },
    "scrolled": true
   },
   "outputs": [
    {
     "data": {
      "text/html": [
       "<div>\n",
       "<style scoped>\n",
       "    .dataframe tbody tr th:only-of-type {\n",
       "        vertical-align: middle;\n",
       "    }\n",
       "\n",
       "    .dataframe tbody tr th {\n",
       "        vertical-align: top;\n",
       "    }\n",
       "\n",
       "    .dataframe thead th {\n",
       "        text-align: right;\n",
       "    }\n",
       "</style>\n",
       "<table border=\"1\" class=\"dataframe\">\n",
       "  <thead>\n",
       "    <tr style=\"text-align: right;\">\n",
       "      <th></th>\n",
       "      <th>wy_stats_journals</th>\n",
       "      <th>year</th>\n",
       "      <th>wy_soc_journals</th>\n",
       "    </tr>\n",
       "  </thead>\n",
       "  <tbody>\n",
       "    <tr>\n",
       "      <th>35</th>\n",
       "      <td>87</td>\n",
       "      <td>1838</td>\n",
       "      <td>22</td>\n",
       "    </tr>\n",
       "    <tr>\n",
       "      <th>21</th>\n",
       "      <td>31</td>\n",
       "      <td>1824</td>\n",
       "      <td>7</td>\n",
       "    </tr>\n",
       "    <tr>\n",
       "      <th>55</th>\n",
       "      <td>312</td>\n",
       "      <td>1858</td>\n",
       "      <td>120</td>\n",
       "    </tr>\n",
       "    <tr>\n",
       "      <th>3</th>\n",
       "      <td>13</td>\n",
       "      <td>1806</td>\n",
       "      <td>5</td>\n",
       "    </tr>\n",
       "    <tr>\n",
       "      <th>109</th>\n",
       "      <td>2138</td>\n",
       "      <td>1912</td>\n",
       "      <td>831</td>\n",
       "    </tr>\n",
       "  </tbody>\n",
       "</table>\n",
       "</div>"
      ],
      "text/plain": [
       "     wy_stats_journals  year  wy_soc_journals\n",
       "35                  87  1838               22\n",
       "21                  31  1824                7\n",
       "55                 312  1858              120\n",
       "3                   13  1806                5\n",
       "109               2138  1912              831"
      ]
     },
     "execution_count": 11,
     "metadata": {},
     "output_type": "execute_result"
    }
   ],
   "source": [
    "years_df = pd.DataFrame.from_dict(stats_journals, \n",
    "                                  orient=\"index\", \n",
    "                                  columns=[\"wy_stats_journals\"])\n",
    "\n",
    "years_df['year'] = years_df.index\n",
    "years_df.reset_index(drop=True, inplace=True)\n",
    "years_df['wy_soc_journals'] = years_df['year'].map(soc_journals)\n",
    "years_df.sample(5)"
   ]
  },
  {
   "cell_type": "markdown",
   "metadata": {},
   "source": [
    "# Export world-level time series"
   ]
  },
  {
   "cell_type": "code",
   "execution_count": 12,
   "metadata": {
    "ExecuteTime": {
     "end_time": "2021-06-24T18:48:37.822512Z",
     "start_time": "2021-06-24T18:48:37.813649Z"
    }
   },
   "outputs": [],
   "source": [
    "years_df.to_csv(DATA + \"interim/\" + \"19c_journals_wy.csv\", index=False)"
   ]
  },
  {
   "cell_type": "code",
   "execution_count": null,
   "metadata": {},
   "outputs": [],
   "source": []
  }
 ],
 "metadata": {
  "kernelspec": {
   "display_name": "Python 3 (ipykernel)",
   "language": "python",
   "name": "python3"
  },
  "language_info": {
   "codemirror_mode": {
    "name": "ipython",
    "version": 3
   },
   "file_extension": ".py",
   "mimetype": "text/x-python",
   "name": "python",
   "nbconvert_exporter": "python",
   "pygments_lexer": "ipython3",
   "version": "3.10.4"
  },
  "toc": {
   "base_numbering": 1,
   "nav_menu": {},
   "number_sections": true,
   "sideBar": true,
   "skip_h1_title": false,
   "title_cell": "Table of Contents",
   "title_sidebar": "Contents",
   "toc_cell": true,
   "toc_position": {},
   "toc_section_display": true,
   "toc_window_display": true
  },
  "toc-autonumbering": true
 },
 "nbformat": 4,
 "nbformat_minor": 4
}
