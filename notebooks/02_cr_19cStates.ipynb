{
 "cells": [
  {
   "cell_type": "markdown",
   "metadata": {},
   "source": [
    "# Goals"
   ]
  },
  {
   "cell_type": "markdown",
   "metadata": {},
   "source": [
    "# Libraries"
   ]
  },
  {
   "cell_type": "code",
   "execution_count": 1,
   "metadata": {
    "tags": []
   },
   "outputs": [],
   "source": [
    "import os\n",
    "import pandas as pd\n",
    "import numpy as np\n",
    "import random\n",
    "import matplotlib.pyplot as plt\n",
    "import statsmodels.api as sm\n",
    "import formulaic\n",
    "import requests\n",
    "import zipfile\n",
    "import io\n",
    "import math \n",
    "import csv"
   ]
  },
  {
   "cell_type": "code",
   "execution_count": 2,
   "metadata": {},
   "outputs": [],
   "source": [
    "from IPython.display import display, HTML"
   ]
  },
  {
   "cell_type": "markdown",
   "metadata": {},
   "source": [
    "# Parameters & Directories"
   ]
  },
  {
   "cell_type": "code",
   "execution_count": 3,
   "metadata": {},
   "outputs": [],
   "source": [
    "%matplotlib inline\n",
    "%config InlineBackend.figure_format='retina'\n",
    "plt.rcParams[\"figure.figsize\"] = (6,6)\n",
    "plt.rcParams[\"font.family\"] = \"sans-serif\"\n",
    "plt.rcParams['font.sans-serif'] = ['Arial']\n",
    "plt.rcParams[\"font.style\"] = \"normal\"\n",
    "plt.rcParams[\"axes.labelcolor\"] = \"gray\"\n",
    "plt.rcParams[\"text.color\"] = \"grey\"\n",
    "pd.set_option('mode.chained_assignment', None)"
   ]
  },
  {
   "cell_type": "code",
   "execution_count": 4,
   "metadata": {},
   "outputs": [],
   "source": [
    "DIR = os.path.dirname(os.getcwd()) + \"/\"\n",
    "DATA = DIR + \"data/\"\n",
    "REFS = DIR + \"references/\""
   ]
  },
  {
   "cell_type": "code",
   "execution_count": 5,
   "metadata": {},
   "outputs": [],
   "source": [
    "enroll = pd.read_csv(DATA+\"raw/\"+\"enroll_rates.tab\", sep=\"\\t\")"
   ]
  },
  {
   "cell_type": "code",
   "execution_count": 6,
   "metadata": {},
   "outputs": [
    {
     "data": {
      "text/plain": [
       "WDICountryVWCode\n",
       "ARG    149\n",
       "AUT    181\n",
       "BEL    174\n",
       "BOL    119\n",
       "BRA    154\n",
       "CHE    141\n",
       "CHL    158\n",
       "COL    160\n",
       "CRI    136\n",
       "CUB    112\n",
       "DEU    182\n",
       "DNK    141\n",
       "DOM     81\n",
       "ECU    136\n",
       "ESP    169\n",
       "FIN    136\n",
       "FRA    182\n",
       "GBR    161\n",
       "GRC    150\n",
       "GTM    131\n",
       "GUY    142\n",
       "HND    109\n",
       "HTI     73\n",
       "IRL    159\n",
       "ITA    141\n",
       "JAM    136\n",
       "MEX    131\n",
       "NIC    135\n",
       "NLD    160\n",
       "NOR    174\n",
       "PAN    103\n",
       "PER    119\n",
       "PRI    111\n",
       "PRT    125\n",
       "PRY    117\n",
       "SLV    133\n",
       "SWE    146\n",
       "TTO    144\n",
       "URY    134\n",
       "VEN    125\n",
       "Name: count, dtype: int64"
      ]
     },
     "execution_count": 6,
     "metadata": {},
     "output_type": "execute_result"
    }
   ],
   "source": [
    "enroll['WDICountryVWCode'].value_counts().sort_index()"
   ]
  },
  {
   "cell_type": "code",
   "execution_count": 7,
   "metadata": {},
   "outputs": [
    {
     "data": {
      "text/html": [
       "<div>\n",
       "<style scoped>\n",
       "    .dataframe tbody tr th:only-of-type {\n",
       "        vertical-align: middle;\n",
       "    }\n",
       "\n",
       "    .dataframe tbody tr th {\n",
       "        vertical-align: top;\n",
       "    }\n",
       "\n",
       "    .dataframe thead th {\n",
       "        text-align: right;\n",
       "    }\n",
       "</style>\n",
       "<table border=\"1\" class=\"dataframe\">\n",
       "  <thead>\n",
       "    <tr style=\"text-align: right;\">\n",
       "      <th></th>\n",
       "      <th>state</th>\n",
       "      <th>year</th>\n",
       "      <th>sy_paglayan</th>\n",
       "    </tr>\n",
       "  </thead>\n",
       "  <tbody>\n",
       "    <tr>\n",
       "      <th>149</th>\n",
       "      <td>Austria</td>\n",
       "      <td>1830</td>\n",
       "      <td>17.40001</td>\n",
       "    </tr>\n",
       "    <tr>\n",
       "      <th>150</th>\n",
       "      <td>Austria</td>\n",
       "      <td>1831</td>\n",
       "      <td>17.40530</td>\n",
       "    </tr>\n",
       "    <tr>\n",
       "      <th>151</th>\n",
       "      <td>Austria</td>\n",
       "      <td>1832</td>\n",
       "      <td>NaN</td>\n",
       "    </tr>\n",
       "    <tr>\n",
       "      <th>152</th>\n",
       "      <td>Austria</td>\n",
       "      <td>1833</td>\n",
       "      <td>NaN</td>\n",
       "    </tr>\n",
       "    <tr>\n",
       "      <th>153</th>\n",
       "      <td>Austria</td>\n",
       "      <td>1834</td>\n",
       "      <td>18.32984</td>\n",
       "    </tr>\n",
       "  </tbody>\n",
       "</table>\n",
       "</div>"
      ],
      "text/plain": [
       "       state  year  sy_paglayan\n",
       "149  Austria  1830     17.40001\n",
       "150  Austria  1831     17.40530\n",
       "151  Austria  1832          NaN\n",
       "152  Austria  1833          NaN\n",
       "153  Austria  1834     18.32984"
      ]
     },
     "execution_count": 7,
     "metadata": {},
     "output_type": "execute_result"
    }
   ],
   "source": [
    "keep_states = [\"France\", \"Germany\", \"Austria\", \"Belgium\", \"Spain\", \"United Kingdom\", \"Portugal\", \"Italy\",\n",
    "               \"Netherlands\", \"Greece\", \"Sweden\", \"Switzerland\", \"Denmark\", \"Finland\", \"Norway\"]\n",
    "iso_dct = {}\n",
    "enroll = pd.read_csv(DATA+\"raw/\"+\"enroll_rates.tab\", sep=\"\\t\")\n",
    "with open(DATA+\"raw/\"+\"country_codes.txt\", \"r\") as f: \n",
    "    lines = f.readlines()\n",
    "    for line in lines:\n",
    "        iso_dct[line.split(\"  \")[0]] = line.split(\"  \")[1].strip()\n",
    "\n",
    "enroll['state'] = enroll['WDICountryVWCode'].apply(lambda x: iso_dct[x])\n",
    "enroll = enroll[enroll['state'].isin(keep_states)]\n",
    "enroll['sy_paglayan'] = enroll['primratio']\n",
    "enroll = enroll[['state', 'year', 'sy_paglayan']]\n",
    "enroll.to_csv(DATA+\"interim/\"+\"paglayan.csv\", index=False)\n",
    "enroll.head()"
   ]
  },
  {
   "cell_type": "code",
   "execution_count": 8,
   "metadata": {},
   "outputs": [
    {
     "data": {
      "text/plain": [
       "15"
      ]
     },
     "execution_count": 8,
     "metadata": {},
     "output_type": "execute_result"
    }
   ],
   "source": [
    "enroll['state'].nunique()"
   ]
  },
  {
   "cell_type": "code",
   "execution_count": 9,
   "metadata": {},
   "outputs": [
    {
     "data": {
      "text/plain": [
       "count    2259.000000\n",
       "mean       61.825913\n",
       "std        18.936157\n",
       "min         4.532761\n",
       "25%        53.295310\n",
       "50%        63.666840\n",
       "75%        72.186835\n",
       "max       124.000000\n",
       "Name: sy_paglayan, dtype: float64"
      ]
     },
     "execution_count": 9,
     "metadata": {},
     "output_type": "execute_result"
    }
   ],
   "source": [
    "enroll['sy_paglayan'].describe()"
   ]
  },
  {
   "cell_type": "markdown",
   "metadata": {},
   "source": [
    "# Prepare Datasets"
   ]
  },
  {
   "cell_type": "markdown",
   "metadata": {},
   "source": [
    "## Varieties of Democracy\n",
    "A dataframe including annual time series describing the world population of states since 1789.\n",
    "\n",
    "Source:\n",
    "- [VDEM Project Description](https://www.v-dem.net/project.html)\n",
    "- [VDEM Dataset Descriptions](https://www.v-dem.net/vdemds.html)\n",
    "- [V12 Data .zip Download Link](https://v-dem.net/media/datasets/Country_Year_V-Dem_Fullothers_CSV_v12.zip) used in `request` below"
   ]
  },
  {
   "cell_type": "markdown",
   "metadata": {},
   "source": [
    "Download Data Archive from VDEM Server"
   ]
  },
  {
   "cell_type": "code",
   "execution_count": 10,
   "metadata": {},
   "outputs": [],
   "source": [
    "# uncomment to request data\n",
    "# url = \"https://v-dem.net/media/datasets/Country_Year_V-Dem_Fullothers_CSV_v12.zip\"\n",
    "# response = requests.get(url, stream=True)\n",
    "# archive = zipfile.ZipFile(io.BytesIO(response.content))\n",
    "# files = [file for file in archive.namelist() if \"__\" not in file]\n",
    "# pdfs = [file for file in files if 'pdf' in file]\n",
    "# csv = [file for file in files if 'csv' in file][0]"
   ]
  },
  {
   "cell_type": "markdown",
   "metadata": {},
   "source": [
    "Extract Data & References into Directory"
   ]
  },
  {
   "cell_type": "code",
   "execution_count": 11,
   "metadata": {},
   "outputs": [],
   "source": [
    "# CSV = archive.extract(csv, DATA+\"raw/\") # prints path of csv after extracted\n",
    "# for pdf in pdfs: \n",
    "#     archive.extract(pdf, REFS)"
   ]
  },
  {
   "cell_type": "code",
   "execution_count": 10,
   "metadata": {},
   "outputs": [
    {
     "data": {
      "text/plain": [
       "'/Users/otto/Library/CloudStorage/GoogleDrive-danielscottsmith@gmail.com/My Drive/00_Researching/00_scientization/19cStates/'"
      ]
     },
     "execution_count": 10,
     "metadata": {},
     "output_type": "execute_result"
    }
   ],
   "source": [
    "DIR"
   ]
  },
  {
   "cell_type": "code",
   "execution_count": 88,
   "metadata": {},
   "outputs": [],
   "source": [
    "CSV = DIR + \"data/raw/Country_Year_V-Dem_Full+others_CSV_v12/V-Dem-CY-Full+Others-v12.csv\"\n",
    "\n",
    "# CSV = \"/Users/otto/Downloads/V-Dem-CY-FullOthers_csv_v13/V-Dem-CY-Full+Others-v13.csv\""
   ]
  },
  {
   "cell_type": "markdown",
   "metadata": {},
   "source": [
    "Read in data"
   ]
  },
  {
   "cell_type": "code",
   "execution_count": 89,
   "metadata": {},
   "outputs": [
    {
     "data": {
      "text/plain": [
       "(27380, 4170)"
      ]
     },
     "execution_count": 89,
     "metadata": {},
     "output_type": "execute_result"
    }
   ],
   "source": [
    "vdem_sy = pd.read_csv(CSV, low_memory=False)\n",
    "vdem_sy.shape"
   ]
  },
  {
   "cell_type": "markdown",
   "metadata": {},
   "source": [
    "\n",
    "Limit data to the 19th Century West"
   ]
  },
  {
   "cell_type": "markdown",
   "metadata": {},
   "source": [
    "Regional Codes:\n",
    "```\n",
    "1: Western Europe\n",
    "2: Northern Europe\n",
    "3: Southern Europe\n",
    "4: Eastern Europe\n",
    "5: Northern Africa\n",
    "6: Western Africa\n",
    "7: Middle Africa\n",
    "8: Eastern Africa\n",
    "9: Southern Africa\n",
    "10: Western Asia\n",
    "11: Central Asia\n",
    "12: Eastern Asia\n",
    "13: South-Eastern Asia\n",
    "14: Southern Asia\n",
    "15: Oceania (including Australia and the Pacific)\n",
    "16: North America\n",
    "17: Central America\n",
    "18: South America\n",
    "19: Caribbean (including Belize, Cuba, Haiti, Dominican Republic and Guyana)\n",
    "```"
   ]
  },
  {
   "cell_type": "code",
   "execution_count": 90,
   "metadata": {},
   "outputs": [
    {
     "data": {
      "text/plain": [
       "(4054, 4170)"
      ]
     },
     "execution_count": 90,
     "metadata": {},
     "output_type": "execute_result"
    }
   ],
   "source": [
    "west = [1,2,3,4,15,16]\n",
    "vdem_sy = vdem_sy.loc[(vdem_sy['year'] < 1915) & (vdem_sy['year'] > 1799)]\n",
    "vdem_sy = vdem_sy[vdem_sy['e_regiongeo'].isin(west)]\n",
    "vdem_sy.shape"
   ]
  },
  {
   "cell_type": "markdown",
   "metadata": {},
   "source": [
    "Rename variables (`sy` = state-year) and keep only a selection."
   ]
  },
  {
   "cell_type": "code",
   "execution_count": 93,
   "metadata": {},
   "outputs": [
    {
     "data": {
      "text/plain": [
       "(4054, 34)"
      ]
     },
     "execution_count": 93,
     "metadata": {},
     "output_type": "execute_result"
    }
   ],
   "source": [
    "select_vars = ['country_name', 'year', 'v2elsuffrage', 'v2canuni', \"e_mipopula\",\n",
    "               'v3stcensus', 'v3ststatag', 'v3ststybcov', 'v3ststybpub',\n",
    "               'e_gdppc', 'e_miurbani', 'e_pelifeex', 'e_miinterc',\n",
    "               'e_miinteco', 'v3stflag', 'v3stnatant', 'v3stcitlaw', 'v3pechilabl',\n",
    "               'v2peprisch', 'v3stnatbank', 'v2svdomaut', 'v2svinlaut',\n",
    "               'v2clacfree_ord', 'v2svindep', 'v2svstterr', \n",
    "               'v2pepwrsoc_ord','v2pepwrgen', 'v2pepwrses', 'v2strenadm',\n",
    "               \"v2x_clpol\", \"v2x_clpriv\",\n",
    "               \"v2cltrnslw\", \"v2clrspct\", \"v2xnp_client\"\n",
    "              ]\n",
    "\n",
    "var_names = ['state', 'year', 'sy_suffrage', 'sy_unis', \"sy_pop\",\n",
    "             'sy_census', 'sy_stats_agency', 'sy_yrbk_cov', 'sy_yrbk_pub',\n",
    "             'sy_gdp', 'sy_urban', 'sy_lifeex', 'sy_riots', \n",
    "             'sy_war', 'sy_flag','sy_anthem', 'sy_citizenship', 'sy_chldlbr',\n",
    "             'sy_sch_enrll', 'sy_nat_bank','sy_dom_autonomy', 'sy_int_autonomy', \n",
    "             'sy_acad_free','sy_indep', 'sy_territory', \n",
    "             'sy_estates', 'sy_gender', 'sy_genteel','sy_bureau',\n",
    "             \"sy_pollib\", \"sy_civlib\",\n",
    "             \"sy_trnsprnt\", \"sy_brcrcy\", \"sy_client\"\n",
    "            ]\n",
    "\n",
    "var_map = dict(zip(select_vars, var_names))\n",
    "vdem_sy.rename(columns=var_map, inplace=True)\n",
    "vdem_sy = vdem_sy[var_names]\n",
    "vdem_sy.shape"
   ]
  },
  {
   "cell_type": "code",
   "execution_count": 17,
   "metadata": {},
   "outputs": [
    {
     "name": "stdout",
     "output_type": "stream",
     "text": [
      "United States of America\n",
      "Papal States\n"
     ]
    }
   ],
   "source": [
    "for c in vdem_sy['state'].unique():\n",
    "    if \"States\" in c:\n",
    "        print(c)"
   ]
  },
  {
   "cell_type": "markdown",
   "metadata": {},
   "source": [
    "Generate a binary indicator series for when a given state had its first census."
   ]
  },
  {
   "cell_type": "code",
   "execution_count": 15,
   "metadata": {},
   "outputs": [],
   "source": [
    "# Gen annual series describing cumulative sum of censuses, by state\n",
    "vdem_sy[\"sy_census_cum\"] = vdem_sy.groupby([\"state\"])[\"sy_census\"].cumsum()\n",
    "\n",
    "# Create dummy variable of first ever\n",
    "vdem_sy[\"sy_census_ever\"] = 0\n",
    "\n",
    "# ID first ever census as when state conducts census and cum censuses is 1\n",
    "vdem_sy.loc[(vdem_sy['sy_census_cum'] != 0), 'sy_census_ever'] = 1\n",
    "\n",
    "# Drop the other census vars\n",
    "vdem_sy.drop([\"sy_census\"], axis=1, inplace=True)"
   ]
  },
  {
   "cell_type": "code",
   "execution_count": 16,
   "metadata": {},
   "outputs": [
    {
     "data": {
      "text/html": [
       "<div>\n",
       "<style scoped>\n",
       "    .dataframe tbody tr th:only-of-type {\n",
       "        vertical-align: middle;\n",
       "    }\n",
       "\n",
       "    .dataframe tbody tr th {\n",
       "        vertical-align: top;\n",
       "    }\n",
       "\n",
       "    .dataframe thead th {\n",
       "        text-align: right;\n",
       "    }\n",
       "</style>\n",
       "<table border=\"1\" class=\"dataframe\">\n",
       "  <thead>\n",
       "    <tr style=\"text-align: right;\">\n",
       "      <th></th>\n",
       "      <th>year</th>\n",
       "      <th>state</th>\n",
       "      <th>sy_census_cum</th>\n",
       "      <th>sy_census_ever</th>\n",
       "    </tr>\n",
       "  </thead>\n",
       "  <tbody>\n",
       "    <tr>\n",
       "      <th>366</th>\n",
       "      <td>1800</td>\n",
       "      <td>Sweden</td>\n",
       "      <td>1.0</td>\n",
       "      <td>1</td>\n",
       "    </tr>\n",
       "    <tr>\n",
       "      <th>367</th>\n",
       "      <td>1801</td>\n",
       "      <td>Sweden</td>\n",
       "      <td>1.0</td>\n",
       "      <td>1</td>\n",
       "    </tr>\n",
       "    <tr>\n",
       "      <th>368</th>\n",
       "      <td>1802</td>\n",
       "      <td>Sweden</td>\n",
       "      <td>1.0</td>\n",
       "      <td>1</td>\n",
       "    </tr>\n",
       "    <tr>\n",
       "      <th>369</th>\n",
       "      <td>1803</td>\n",
       "      <td>Sweden</td>\n",
       "      <td>1.0</td>\n",
       "      <td>1</td>\n",
       "    </tr>\n",
       "    <tr>\n",
       "      <th>370</th>\n",
       "      <td>1804</td>\n",
       "      <td>Sweden</td>\n",
       "      <td>1.0</td>\n",
       "      <td>1</td>\n",
       "    </tr>\n",
       "    <tr>\n",
       "      <th>...</th>\n",
       "      <td>...</td>\n",
       "      <td>...</td>\n",
       "      <td>...</td>\n",
       "      <td>...</td>\n",
       "    </tr>\n",
       "    <tr>\n",
       "      <th>27375</th>\n",
       "      <td>1857</td>\n",
       "      <td>Piedmont-Sardinia</td>\n",
       "      <td>NaN</td>\n",
       "      <td>1</td>\n",
       "    </tr>\n",
       "    <tr>\n",
       "      <th>27376</th>\n",
       "      <td>1858</td>\n",
       "      <td>Piedmont-Sardinia</td>\n",
       "      <td>NaN</td>\n",
       "      <td>1</td>\n",
       "    </tr>\n",
       "    <tr>\n",
       "      <th>27377</th>\n",
       "      <td>1859</td>\n",
       "      <td>Piedmont-Sardinia</td>\n",
       "      <td>NaN</td>\n",
       "      <td>1</td>\n",
       "    </tr>\n",
       "    <tr>\n",
       "      <th>27378</th>\n",
       "      <td>1860</td>\n",
       "      <td>Piedmont-Sardinia</td>\n",
       "      <td>NaN</td>\n",
       "      <td>1</td>\n",
       "    </tr>\n",
       "    <tr>\n",
       "      <th>27379</th>\n",
       "      <td>1861</td>\n",
       "      <td>Piedmont-Sardinia</td>\n",
       "      <td>NaN</td>\n",
       "      <td>1</td>\n",
       "    </tr>\n",
       "  </tbody>\n",
       "</table>\n",
       "<p>4054 rows × 4 columns</p>\n",
       "</div>"
      ],
      "text/plain": [
       "       year              state  sy_census_cum  sy_census_ever\n",
       "366    1800             Sweden            1.0               1\n",
       "367    1801             Sweden            1.0               1\n",
       "368    1802             Sweden            1.0               1\n",
       "369    1803             Sweden            1.0               1\n",
       "370    1804             Sweden            1.0               1\n",
       "...     ...                ...            ...             ...\n",
       "27375  1857  Piedmont-Sardinia            NaN               1\n",
       "27376  1858  Piedmont-Sardinia            NaN               1\n",
       "27377  1859  Piedmont-Sardinia            NaN               1\n",
       "27378  1860  Piedmont-Sardinia            NaN               1\n",
       "27379  1861  Piedmont-Sardinia            NaN               1\n",
       "\n",
       "[4054 rows x 4 columns]"
      ]
     },
     "execution_count": 16,
     "metadata": {},
     "output_type": "execute_result"
    }
   ],
   "source": [
    "vdem_sy[['year', 'state', 'sy_census_cum', 'sy_census_ever']]"
   ]
  },
  {
   "cell_type": "code",
   "execution_count": 17,
   "metadata": {},
   "outputs": [],
   "source": [
    "vdem_sy = vdem_sy.merge(vdem_sy.groupby(\"year\", as_index=False)['state'].size().rename(columns={\"size\": \"wy_nstates\"}), on=\"year\")"
   ]
  },
  {
   "cell_type": "markdown",
   "metadata": {},
   "source": [
    "Extrapolate pre-1819 school enrollment rates using the slope of enrollment on year, 1819–1824"
   ]
  },
  {
   "cell_type": "code",
   "execution_count": 18,
   "metadata": {},
   "outputs": [],
   "source": [
    "# excerpt earliest 5 years of enrollment\n",
    "vdem_xcrpt = vdem_sy[(vdem_sy['year']>1819) & (vdem_sy['year']<1839)][['state', 'sy_sch_enrll', 'year']]\n",
    "enrlls = []\n",
    "# loop through each state\n",
    "for state, df in vdem_xcrpt.groupby(\"state\"):\n",
    "    # transform enrollment & year series into matrices\n",
    "    y, X = formulaic.Formula('sy_sch_enrll ~ year').get_model_matrix(df)\n",
    "    # fit OLS model of enrollment on year\n",
    "    try:\n",
    "        betas = sm.OLS(y, X, missing=\"drop\").fit().params\n",
    "    except:\n",
    "        pass\n",
    "    # predict missing years based on slope of year on enrollment, 1819-1824\n",
    "    for yr in range(1800,1820,1):\n",
    "        enrll = betas.year * yr + betas.Intercept\n",
    "        if enrll > 0:\n",
    "            enrlls.append((yr, state, enrll))\n",
    "        else:\n",
    "            enrlls.append((yr, state, 0))"
   ]
  },
  {
   "cell_type": "code",
   "execution_count": 19,
   "metadata": {},
   "outputs": [
    {
     "data": {
      "text/html": [
       "<div>\n",
       "<style scoped>\n",
       "    .dataframe tbody tr th:only-of-type {\n",
       "        vertical-align: middle;\n",
       "    }\n",
       "\n",
       "    .dataframe tbody tr th {\n",
       "        vertical-align: top;\n",
       "    }\n",
       "\n",
       "    .dataframe thead th {\n",
       "        text-align: right;\n",
       "    }\n",
       "</style>\n",
       "<table border=\"1\" class=\"dataframe\">\n",
       "  <thead>\n",
       "    <tr style=\"text-align: right;\">\n",
       "      <th></th>\n",
       "      <th>state</th>\n",
       "      <th>year</th>\n",
       "      <th>sy_sch_enrll</th>\n",
       "      <th>sy_xtr_enrll</th>\n",
       "    </tr>\n",
       "  </thead>\n",
       "  <tbody>\n",
       "    <tr>\n",
       "      <th>3958</th>\n",
       "      <td>Albania</td>\n",
       "      <td>1912</td>\n",
       "      <td>13.342</td>\n",
       "      <td>13.342000</td>\n",
       "    </tr>\n",
       "    <tr>\n",
       "      <th>3991</th>\n",
       "      <td>Albania</td>\n",
       "      <td>1913</td>\n",
       "      <td>13.932</td>\n",
       "      <td>13.932000</td>\n",
       "    </tr>\n",
       "    <tr>\n",
       "      <th>4024</th>\n",
       "      <td>Albania</td>\n",
       "      <td>1914</td>\n",
       "      <td>14.522</td>\n",
       "      <td>14.522000</td>\n",
       "    </tr>\n",
       "    <tr>\n",
       "      <th>5</th>\n",
       "      <td>Australia</td>\n",
       "      <td>1800</td>\n",
       "      <td>NaN</td>\n",
       "      <td>22.742874</td>\n",
       "    </tr>\n",
       "    <tr>\n",
       "      <th>38</th>\n",
       "      <td>Australia</td>\n",
       "      <td>1801</td>\n",
       "      <td>NaN</td>\n",
       "      <td>23.294116</td>\n",
       "    </tr>\n",
       "    <tr>\n",
       "      <th>...</th>\n",
       "      <td>...</td>\n",
       "      <td>...</td>\n",
       "      <td>...</td>\n",
       "      <td>...</td>\n",
       "    </tr>\n",
       "    <tr>\n",
       "      <th>2722</th>\n",
       "      <td>Würtemberg</td>\n",
       "      <td>1867</td>\n",
       "      <td>NaN</td>\n",
       "      <td>NaN</td>\n",
       "    </tr>\n",
       "    <tr>\n",
       "      <th>2757</th>\n",
       "      <td>Würtemberg</td>\n",
       "      <td>1868</td>\n",
       "      <td>NaN</td>\n",
       "      <td>NaN</td>\n",
       "    </tr>\n",
       "    <tr>\n",
       "      <th>2787</th>\n",
       "      <td>Würtemberg</td>\n",
       "      <td>1869</td>\n",
       "      <td>NaN</td>\n",
       "      <td>NaN</td>\n",
       "    </tr>\n",
       "    <tr>\n",
       "      <th>2817</th>\n",
       "      <td>Würtemberg</td>\n",
       "      <td>1870</td>\n",
       "      <td>NaN</td>\n",
       "      <td>NaN</td>\n",
       "    </tr>\n",
       "    <tr>\n",
       "      <th>2847</th>\n",
       "      <td>Würtemberg</td>\n",
       "      <td>1871</td>\n",
       "      <td>NaN</td>\n",
       "      <td>NaN</td>\n",
       "    </tr>\n",
       "  </tbody>\n",
       "</table>\n",
       "<p>4054 rows × 4 columns</p>\n",
       "</div>"
      ],
      "text/plain": [
       "           state  year  sy_sch_enrll  sy_xtr_enrll\n",
       "3958     Albania  1912        13.342     13.342000\n",
       "3991     Albania  1913        13.932     13.932000\n",
       "4024     Albania  1914        14.522     14.522000\n",
       "5      Australia  1800           NaN     22.742874\n",
       "38     Australia  1801           NaN     23.294116\n",
       "...          ...   ...           ...           ...\n",
       "2722  Würtemberg  1867           NaN           NaN\n",
       "2757  Würtemberg  1868           NaN           NaN\n",
       "2787  Würtemberg  1869           NaN           NaN\n",
       "2817  Würtemberg  1870           NaN           NaN\n",
       "2847  Würtemberg  1871           NaN           NaN\n",
       "\n",
       "[4054 rows x 4 columns]"
      ]
     },
     "execution_count": 19,
     "metadata": {},
     "output_type": "execute_result"
    }
   ],
   "source": [
    "# create new data frame with original enrollment + new extrapolated enrollment\n",
    "xtr_sy_enrll = vdem_sy.merge(pd.DataFrame.from_records(enrlls, columns=[\"year\", \"state\", \"early_enrll\"]), how=\"left\", on=['year', 'state'])[[\"year\",\"state\",\"sy_sch_enrll\", \"early_enrll\"]]\n",
    "\n",
    "\n",
    "vdem_sy['sy_xtr_enrll'] = xtr_sy_enrll['sy_sch_enrll'].replace('', pd.NA).fillna(xtr_sy_enrll['early_enrll'])\n",
    "vdem_sy[[\"state\", \"year\", \"sy_sch_enrll\",\"sy_xtr_enrll\"]].sort_values(by=[\"state\", \"year\"])"
   ]
  },
  {
   "cell_type": "markdown",
   "metadata": {},
   "source": [
    "Visualize extrapolated enrollment rates"
   ]
  },
  {
   "cell_type": "code",
   "execution_count": 20,
   "metadata": {},
   "outputs": [
    {
     "data": {
      "image/png": "[encoded data removed]",
      "text/plain": [
       "<Figure size 600x600 with 1 Axes>"
      ]
     },
     "metadata": {
      "image/png": {
       "height": 504,
       "width": 510
      }
     },
     "output_type": "display_data"
    }
   ],
   "source": [
    "plt.plot(list(set(vdem_sy[\"year\"].values)),\n",
    "         vdem_sy.groupby(\"year\")[\"sy_xtr_enrll\"].mean(),\n",
    "         linestyle=\"--\",\n",
    "         label = \"extrapolated\")\n",
    "plt.plot(list(set(vdem_sy[\"year\"].values)),\n",
    "         vdem_sy.groupby(\"year\")[\"sy_sch_enrll\"].mean(),\n",
    "         label = \"observed\")\n",
    "plt.legend(loc=\"lower right\")\n",
    "plt.text(1801, vdem_sy.groupby(\"year\")[\"sy_sch_enrll\"].mean().max(), \"World Average Enrollment Rates\")\n",
    "plt.show()"
   ]
  },
  {
   "cell_type": "code",
   "execution_count": 21,
   "metadata": {},
   "outputs": [
    {
     "data": {
      "image/png": "[encoded data removed]",
      "text/plain": [
       "<Figure size 600x600 with 1 Axes>"
      ]
     },
     "metadata": {
      "image/png": {
       "height": 504,
       "width": 521
      }
     },
     "output_type": "display_data"
    }
   ],
   "source": [
    "pick1 = random.choice(vdem_sy['state'].values)\n",
    "pick1_df = vdem_sy[vdem_sy['state']==pick1][[\"year\", \"sy_xtr_enrll\", \"sy_sch_enrll\"]]\n",
    "plt.plot(pick1_df['year'],\n",
    "         pick1_df['sy_xtr_enrll'],\n",
    "         linestyle=\"--\",\n",
    "         label = \"extrapolated\")\n",
    "plt.plot(pick1_df['year'],\n",
    "         pick1_df[\"sy_sch_enrll\"],\n",
    "         label = \"observed\")\n",
    "plt.legend(loc=\"lower right\")\n",
    "plt.text(pick1_df['year'].min()+1,\n",
    "         vdem_sy[vdem_sy['state']==pick1][\"sy_xtr_enrll\"].max(),\n",
    "         \"{}'s Enrollment Rates\".format(pick1))\n",
    "plt.show()"
   ]
  },
  {
   "cell_type": "markdown",
   "metadata": {},
   "source": [
    "Recode"
   ]
  },
  {
   "cell_type": "code",
   "execution_count": 22,
   "metadata": {},
   "outputs": [
    {
     "data": {
      "text/plain": [
       "1914"
      ]
     },
     "execution_count": 22,
     "metadata": {},
     "output_type": "execute_result"
    }
   ],
   "source": [
    "vdem_sy[vdem_sy['sy_urban'].isna()]['year'].max()"
   ]
  },
  {
   "cell_type": "markdown",
   "metadata": {},
   "source": [
    "Autonomy\n",
    "```\n",
    "0: Non-autonomous. Foreign policy is controlled by an external power, either de facto or de jure. The most common examples of this are colonial rule and military occupation (e.g. quadripartite occupation of Germany in 1945). Situations in which domestic actors provide de jure cover for de facto control by a foreign power should not be construed as semi-autonomy (e.g. Vichy France). Governments in exile that control underground forces waging unconventional warfare are not considered as mitigating an occupation regime (e.g. countries under German occupation during WWII).\n",
    "1: Semi-autonomous. An external political actor directly constrains the ability of domestic actors to pursue an independent foreign policy course in some important areas. This may be the product of explicit treaty provisions or well-understood rules of the game from which the subject state cannot withdraw. Examples would include Soviet strictures over rule in so-called \"satellite\" states in Eastern Europe, and explicitly negotiated postwar settlements (e.g. Austria following WWII).\n",
    "2: Autonomous. Domestic political actors exercise foreign policy free of the direct control of external political actors. Direct control is meant to exclude the exercise of constraint or the impact of interdependence in the international system. Treaties in which states concede some part of that control to a supra- or international organization voluntarily, and from which there is a possibility of exit should not be interpreted as a violation of autonomy.\n",
    "```\n",
    "\n",
    "Bureaucratic remuneration\n",
    "```\n",
    "0: None or almost none are salaried state employees. \n",
    "1: A small share is salaried state employees.\n",
    "2. About half are salaried state employees.\n",
    "3: A substantial number are salaried state employees. \n",
    "4: All or almost all are salaried state employees.\n",
    "```\n",
    "\n",
    "Power distributed by social groups\n",
    "```\n",
    "0: Political power is monopolized by one social group comprising a minority of the population. This monopoly is institutionalized, i.e., not subject to frequent change.\n",
    "1: Political power is monopolized by several social groups comprising a minority of the population. This monopoly is institutionalized, i.e., not subject to frequent change.\n",
    "2: Political power is monopolized by several social groups comprising a majority of the population. This monopoly is institutionalized, i.e., not subject to frequent change.\n",
    "3: Either all social groups possess some political power, with some groups having more power than others; or different social groups alternate in power, with one group controlling much of the political power for a period of time, followed by another — but all significant groups have a turn at the seat of power.\n",
    "4: All social groups have roughly equal political power or there are no strong ethnic, caste, linguistic, racial, religious, or regional differences to speak of. Social group characteristics are not relevant to politics.\n",
    "```\n",
    "\n",
    "Freedom of academic and cultural expression\n",
    "```\n",
    "0: Not respected by public authorities. Censorship and intimidation are frequent. Academic activities and cultural expressions are severely restricted or controlled by the government.\n",
    "1: Weakly respected by public authorities. Academic freedom and freedom of cultural expression are practiced occasionally, but direct criticism of the government is mostly met with repression.\n",
    "2: Somewhat respected by public authorities. Academic freedom and freedom of cultural expression are practiced routinely, but strong criticism of the government is sometimes met with repression.\n",
    "3: Mostly respected by public authorities. There are few limitations on academic freedom and freedom of cultural expression, and resulting sanctions tend to be infrequent and soft.\n",
    "4: Fully respected by public authorities. There are no restrictions on academic freedom or cultural expression.\n",
    "```"
   ]
  },
  {
   "cell_type": "code",
   "execution_count": 23,
   "metadata": {},
   "outputs": [],
   "source": [
    "vdem_sy[\"sy_dom_autonomy_b\"] = np.where(vdem_sy['sy_dom_autonomy'] < 1, 0, 1)\n",
    "vdem_sy[\"sy_int_autonomy_b\"] = np.where(vdem_sy['sy_int_autonomy'] < 1, 0, 1)"
   ]
  },
  {
   "cell_type": "code",
   "execution_count": 24,
   "metadata": {},
   "outputs": [],
   "source": [
    "vdem_sy[\"sy_bureau_b\"] = np.where(vdem_sy['sy_bureau'] < 1, 0, 1)\n",
    "vdem_sy[\"sy_estates_b\"] = np.where(vdem_sy['sy_estates'] < 2, 0, 1)"
   ]
  },
  {
   "cell_type": "code",
   "execution_count": 25,
   "metadata": {},
   "outputs": [],
   "source": [
    "vdem_sy[\"sy_acad_free_b\"] = np.where(vdem_sy['sy_acad_free'] < 1, 0, 1)"
   ]
  },
  {
   "cell_type": "code",
   "execution_count": 26,
   "metadata": {},
   "outputs": [],
   "source": [
    "vdem_sy['sy_territory'].fillna(0, inplace=True)"
   ]
  },
  {
   "cell_type": "markdown",
   "metadata": {},
   "source": [
    "### Education Ministries"
   ]
  },
  {
   "cell_type": "code",
   "execution_count": 27,
   "metadata": {},
   "outputs": [],
   "source": [
    "moe_years = pd.read_csv(DATA+\"raw/\"+\"moe_years.csv\")\n",
    "moe_dct = dict(zip(moe_years['state'], moe_years['moe_year']))"
   ]
  },
  {
   "cell_type": "code",
   "execution_count": 28,
   "metadata": {},
   "outputs": [],
   "source": [
    "def code_moe(year, state, dct):\n",
    "    if state in dct:\n",
    "        all_years = list(range(dct[state], 1915))\n",
    "        if year in all_years: \n",
    "            return 1\n",
    "        else:\n",
    "            return 0"
   ]
  },
  {
   "cell_type": "code",
   "execution_count": 29,
   "metadata": {},
   "outputs": [],
   "source": [
    "vdem_sy['sy_ministry'] = vdem_sy[['year', 'state']].apply(lambda x: code_moe(x.iloc[0], x.iloc[1], moe_dct), axis=1)"
   ]
  },
  {
   "cell_type": "code",
   "execution_count": 30,
   "metadata": {},
   "outputs": [],
   "source": [
    "state = \"Belgium\""
   ]
  },
  {
   "cell_type": "code",
   "execution_count": 31,
   "metadata": {},
   "outputs": [
    {
     "data": {
      "text/plain": [
       "1878"
      ]
     },
     "execution_count": 31,
     "metadata": {},
     "output_type": "execute_result"
    }
   ],
   "source": [
    "moe_dct[state]"
   ]
  },
  {
   "cell_type": "code",
   "execution_count": 32,
   "metadata": {},
   "outputs": [
    {
     "data": {
      "text/html": [
       "<div>\n",
       "<style scoped>\n",
       "    .dataframe tbody tr th:only-of-type {\n",
       "        vertical-align: middle;\n",
       "    }\n",
       "\n",
       "    .dataframe tbody tr th {\n",
       "        vertical-align: top;\n",
       "    }\n",
       "\n",
       "    .dataframe thead th {\n",
       "        text-align: right;\n",
       "    }\n",
       "</style>\n",
       "<table border=\"1\" class=\"dataframe\">\n",
       "  <thead>\n",
       "    <tr style=\"text-align: right;\">\n",
       "      <th></th>\n",
       "      <th>year</th>\n",
       "      <th>state</th>\n",
       "      <th>sy_ministry</th>\n",
       "    </tr>\n",
       "  </thead>\n",
       "  <tbody>\n",
       "    <tr>\n",
       "      <th>1124</th>\n",
       "      <td>1830</td>\n",
       "      <td>Belgium</td>\n",
       "      <td>0.0</td>\n",
       "    </tr>\n",
       "    <tr>\n",
       "      <th>1166</th>\n",
       "      <td>1831</td>\n",
       "      <td>Belgium</td>\n",
       "      <td>0.0</td>\n",
       "    </tr>\n",
       "    <tr>\n",
       "      <th>1208</th>\n",
       "      <td>1832</td>\n",
       "      <td>Belgium</td>\n",
       "      <td>0.0</td>\n",
       "    </tr>\n",
       "    <tr>\n",
       "      <th>1250</th>\n",
       "      <td>1833</td>\n",
       "      <td>Belgium</td>\n",
       "      <td>0.0</td>\n",
       "    </tr>\n",
       "    <tr>\n",
       "      <th>1292</th>\n",
       "      <td>1834</td>\n",
       "      <td>Belgium</td>\n",
       "      <td>0.0</td>\n",
       "    </tr>\n",
       "    <tr>\n",
       "      <th>...</th>\n",
       "      <td>...</td>\n",
       "      <td>...</td>\n",
       "      <td>...</td>\n",
       "    </tr>\n",
       "    <tr>\n",
       "      <th>3906</th>\n",
       "      <td>1910</td>\n",
       "      <td>Belgium</td>\n",
       "      <td>1.0</td>\n",
       "    </tr>\n",
       "    <tr>\n",
       "      <th>3938</th>\n",
       "      <td>1911</td>\n",
       "      <td>Belgium</td>\n",
       "      <td>1.0</td>\n",
       "    </tr>\n",
       "    <tr>\n",
       "      <th>3971</th>\n",
       "      <td>1912</td>\n",
       "      <td>Belgium</td>\n",
       "      <td>1.0</td>\n",
       "    </tr>\n",
       "    <tr>\n",
       "      <th>4004</th>\n",
       "      <td>1913</td>\n",
       "      <td>Belgium</td>\n",
       "      <td>1.0</td>\n",
       "    </tr>\n",
       "    <tr>\n",
       "      <th>4037</th>\n",
       "      <td>1914</td>\n",
       "      <td>Belgium</td>\n",
       "      <td>1.0</td>\n",
       "    </tr>\n",
       "  </tbody>\n",
       "</table>\n",
       "<p>85 rows × 3 columns</p>\n",
       "</div>"
      ],
      "text/plain": [
       "      year    state  sy_ministry\n",
       "1124  1830  Belgium          0.0\n",
       "1166  1831  Belgium          0.0\n",
       "1208  1832  Belgium          0.0\n",
       "1250  1833  Belgium          0.0\n",
       "1292  1834  Belgium          0.0\n",
       "...    ...      ...          ...\n",
       "3906  1910  Belgium          1.0\n",
       "3938  1911  Belgium          1.0\n",
       "3971  1912  Belgium          1.0\n",
       "4004  1913  Belgium          1.0\n",
       "4037  1914  Belgium          1.0\n",
       "\n",
       "[85 rows x 3 columns]"
      ]
     },
     "execution_count": 32,
     "metadata": {},
     "output_type": "execute_result"
    }
   ],
   "source": [
    "vdem_sy[vdem_sy['state']==state][['year', 'state', 'sy_ministry']].sort_values(by=['state', 'year'])"
   ]
  },
  {
   "cell_type": "markdown",
   "metadata": {},
   "source": [
    "Create world-level means of state-level series for each state, minus itself"
   ]
  },
  {
   "cell_type": "code",
   "execution_count": 33,
   "metadata": {},
   "outputs": [
    {
     "data": {
      "text/plain": [
       "Index(['state', 'year', 'sy_suffrage', 'sy_unis', 'sy_pop', 'sy_stats_agency',\n",
       "       'sy_yrbk_cov', 'sy_yrbk_pub', 'sy_gdp', 'sy_urban', 'sy_lifeex',\n",
       "       'sy_riots', 'sy_war', 'sy_flag', 'sy_anthem', 'sy_citizenship',\n",
       "       'sy_chldlbr', 'sy_sch_enrll', 'sy_nat_bank', 'sy_dom_autonomy',\n",
       "       'sy_int_autonomy', 'sy_acad_free', 'sy_indep', 'sy_territory',\n",
       "       'sy_estates', 'sy_gender', 'sy_genteel', 'sy_bureau', 'sy_pollib',\n",
       "       'sy_civlib', 'sy_trnsprnt', 'sy_brcrcy', 'sy_client', 'sy_census_cum',\n",
       "       'sy_census_ever', 'wy_nstates', 'sy_xtr_enrll', 'sy_dom_autonomy_b',\n",
       "       'sy_int_autonomy_b', 'sy_bureau_b', 'sy_estates_b', 'sy_acad_free_b',\n",
       "       'sy_ministry'],\n",
       "      dtype='object')"
      ]
     },
     "execution_count": 33,
     "metadata": {},
     "output_type": "execute_result"
    }
   ],
   "source": [
    "vdem_sy.columns"
   ]
  },
  {
   "cell_type": "code",
   "execution_count": 99,
   "metadata": {},
   "outputs": [],
   "source": [
    "state_dfs = []\n",
    "for state in set(vdem_sy['state']):\n",
    "\n",
    "    # state's institutional env df\n",
    "    wrld_df = vdem_sy[vdem_sy['state']!=state]\n",
    "\n",
    "    # state's own df\n",
    "    state_sy = vdem_sy[vdem_sy['state'] == state]\n",
    "\n",
    "    # remove world-year (\"wy_\") series that don't vary by state\n",
    "    excluded_vars = wrld_df.columns.str.startswith('wy')\n",
    "    wrld_df = wrld_df.loc[:,~excluded_vars]\n",
    "    var_map = {}\n",
    "\n",
    "    # rename columns to reflect world year level\n",
    "    for col in wrld_df.columns:\n",
    "        if \"sy_\" in col:\n",
    "            wy = col.replace(\"sy_\", \"wy_\")\n",
    "            var_map[col] = wy\n",
    "        else:\n",
    "            var_map[col] = col\n",
    "    wrld_df.rename(columns=var_map, inplace=True)\n",
    "\n",
    "    # compute world-year series by averaging all countries in a year, minus state\n",
    "    wrld_df = wrld_df.groupby(\"year\", as_index=False).mean(numeric_only=True)\n",
    "    \n",
    "    # merge omitted state's world env df to its sy df\n",
    "    # this contains all original state-level chars\n",
    "    # and now it's institutional level chars\n",
    "    state_sy = state_sy.merge(wrld_df, how='left', on=['year'])\n",
    "\n",
    "    # add state to collection\n",
    "    state_dfs.append(state_sy)\n",
    "\n",
    "# make colleciton into df\n",
    "# replacing old one\n",
    "states_df = pd.concat(state_dfs, ignore_index=True)"
   ]
  },
  {
   "cell_type": "code",
   "execution_count": 36,
   "metadata": {},
   "outputs": [
    {
     "name": "stdout",
     "output_type": "stream",
     "text": [
      "['Albania', 'Australia', 'Austria', 'Baden', 'Bavaria', 'Belgium', 'Brunswick', 'Bulgaria', 'Canada', 'Denmark', 'Fiji', 'Finland', 'France', 'Germany', 'Greece', 'Hamburg', 'Hanover', 'Hesse-Darmstadt', 'Hesse-Kassel', 'Hungary', 'Iceland', 'Italy', 'Luxembourg', 'Malta', 'Mecklenburg Schwerin', 'Modena', 'Montenegro', 'Nassau', 'Netherlands', 'New Zealand', 'Norway', 'Oldenburg', 'Papal States', 'Papua New Guinea', 'Parma', 'Piedmont-Sardinia', 'Poland', 'Portugal', 'Romania', 'Russia', 'Saxe-Weimar-Eisenach', 'Saxony', 'Serbia', 'Solomon Islands', 'Spain', 'Sweden', 'Switzerland', 'Tuscany', 'Two Sicilies', 'United Kingdom', 'United States of America', 'Vanuatu', 'Würtemberg'] \n",
      "\n",
      " 53 states in total\n"
     ]
    }
   ],
   "source": [
    "print(sorted(set(states_df['state'])), '\\n\\n',\n",
    "      len(set(states_df['state'])), 'states in total')"
   ]
  },
  {
   "cell_type": "code",
   "execution_count": 97,
   "metadata": {},
   "outputs": [
    {
     "data": {
      "text/plain": [
       "1800"
      ]
     },
     "execution_count": 97,
     "metadata": {},
     "output_type": "execute_result"
    }
   ],
   "source": [
    "states_df['year'].min()"
   ]
  },
  {
   "cell_type": "code",
   "execution_count": 98,
   "metadata": {},
   "outputs": [
    {
     "data": {
      "text/plain": [
       "1914"
      ]
     },
     "execution_count": 98,
     "metadata": {},
     "output_type": "execute_result"
    }
   ],
   "source": [
    "states_df['year'].max()"
   ]
  },
  {
   "cell_type": "markdown",
   "metadata": {},
   "source": [
    "## Statistics societies\n",
    "A dataframe that includes two annual times series describing the number of statistics societies foundings and the cumulative number of statistics societies worldwide.\n",
    "\n",
    "Sources:\n",
    "- Willcox, W. F. (1934). Note on the Chronology of Statistical Societies. Journal of the American Statistical Association, 29(188). [DOI](https://doi.org/10.1080/01621459.1934.10503258)\n",
    "- Fitzpatrick, P. J. (1957). Statistical Societies in the United States the Nineteenth Century. The American Statistician, 11(5). [DOI](https://doi.org/10.1080/00031305.1957.10481745)"
   ]
  },
  {
   "cell_type": "markdown",
   "metadata": {},
   "source": [
    "Read in data"
   ]
  },
  {
   "cell_type": "code",
   "execution_count": 39,
   "metadata": {},
   "outputs": [
    {
     "data": {
      "text/html": [
       "<div>\n",
       "<style scoped>\n",
       "    .dataframe tbody tr th:only-of-type {\n",
       "        vertical-align: middle;\n",
       "    }\n",
       "\n",
       "    .dataframe tbody tr th {\n",
       "        vertical-align: top;\n",
       "    }\n",
       "\n",
       "    .dataframe thead th {\n",
       "        text-align: right;\n",
       "    }\n",
       "</style>\n",
       "<table border=\"1\" class=\"dataframe\">\n",
       "  <thead>\n",
       "    <tr style=\"text-align: right;\">\n",
       "      <th></th>\n",
       "      <th>year</th>\n",
       "      <th>n_societies</th>\n",
       "      <th>all_societies</th>\n",
       "    </tr>\n",
       "  </thead>\n",
       "  <tbody>\n",
       "    <tr>\n",
       "      <th>0</th>\n",
       "      <td>1800</td>\n",
       "      <td>1</td>\n",
       "      <td>1</td>\n",
       "    </tr>\n",
       "    <tr>\n",
       "      <th>1</th>\n",
       "      <td>1801</td>\n",
       "      <td>0</td>\n",
       "      <td>1</td>\n",
       "    </tr>\n",
       "    <tr>\n",
       "      <th>2</th>\n",
       "      <td>1802</td>\n",
       "      <td>0</td>\n",
       "      <td>1</td>\n",
       "    </tr>\n",
       "    <tr>\n",
       "      <th>3</th>\n",
       "      <td>1803</td>\n",
       "      <td>1</td>\n",
       "      <td>2</td>\n",
       "    </tr>\n",
       "    <tr>\n",
       "      <th>4</th>\n",
       "      <td>1804</td>\n",
       "      <td>0</td>\n",
       "      <td>2</td>\n",
       "    </tr>\n",
       "  </tbody>\n",
       "</table>\n",
       "</div>"
      ],
      "text/plain": [
       "   year  n_societies  all_societies\n",
       "0  1800            1              1\n",
       "1  1801            0              1\n",
       "2  1802            0              1\n",
       "3  1803            1              2\n",
       "4  1804            0              2"
      ]
     },
     "execution_count": 39,
     "metadata": {},
     "output_type": "execute_result"
    }
   ],
   "source": [
    "societies_wy = pd.read_csv(DATA+\"raw/societies.csv\")\n",
    "societies_wy.head()"
   ]
  },
  {
   "cell_type": "markdown",
   "metadata": {},
   "source": [
    "Clean variables"
   ]
  },
  {
   "cell_type": "code",
   "execution_count": 40,
   "metadata": {},
   "outputs": [
    {
     "data": {
      "text/html": [
       "<div>\n",
       "<style scoped>\n",
       "    .dataframe tbody tr th:only-of-type {\n",
       "        vertical-align: middle;\n",
       "    }\n",
       "\n",
       "    .dataframe tbody tr th {\n",
       "        vertical-align: top;\n",
       "    }\n",
       "\n",
       "    .dataframe thead th {\n",
       "        text-align: right;\n",
       "    }\n",
       "</style>\n",
       "<table border=\"1\" class=\"dataframe\">\n",
       "  <thead>\n",
       "    <tr style=\"text-align: right;\">\n",
       "      <th></th>\n",
       "      <th>year</th>\n",
       "      <th>wy_societies</th>\n",
       "    </tr>\n",
       "  </thead>\n",
       "  <tbody>\n",
       "    <tr>\n",
       "      <th>0</th>\n",
       "      <td>1800</td>\n",
       "      <td>1</td>\n",
       "    </tr>\n",
       "    <tr>\n",
       "      <th>1</th>\n",
       "      <td>1801</td>\n",
       "      <td>1</td>\n",
       "    </tr>\n",
       "    <tr>\n",
       "      <th>2</th>\n",
       "      <td>1802</td>\n",
       "      <td>1</td>\n",
       "    </tr>\n",
       "    <tr>\n",
       "      <th>3</th>\n",
       "      <td>1803</td>\n",
       "      <td>2</td>\n",
       "    </tr>\n",
       "    <tr>\n",
       "      <th>4</th>\n",
       "      <td>1804</td>\n",
       "      <td>2</td>\n",
       "    </tr>\n",
       "  </tbody>\n",
       "</table>\n",
       "</div>"
      ],
      "text/plain": [
       "   year  wy_societies\n",
       "0  1800             1\n",
       "1  1801             1\n",
       "2  1802             1\n",
       "3  1803             2\n",
       "4  1804             2"
      ]
     },
     "execution_count": 40,
     "metadata": {},
     "output_type": "execute_result"
    }
   ],
   "source": [
    "rename = {\"all_societies\": \"wy_societies\"}\n",
    "societies_wy = societies_wy.rename(columns=rename)\n",
    "societies_wy.drop([\"n_societies\"], axis=1, inplace=True)\n",
    "societies_wy.head()"
   ]
  },
  {
   "cell_type": "code",
   "execution_count": 41,
   "metadata": {},
   "outputs": [
    {
     "data": {
      "text/plain": [
       "1800"
      ]
     },
     "execution_count": 41,
     "metadata": {},
     "output_type": "execute_result"
    }
   ],
   "source": [
    "societies_wy['year'].min()"
   ]
  },
  {
   "cell_type": "code",
   "execution_count": 42,
   "metadata": {},
   "outputs": [
    {
     "data": {
      "text/plain": [
       "1913"
      ]
     },
     "execution_count": 42,
     "metadata": {},
     "output_type": "execute_result"
    }
   ],
   "source": [
    "societies_wy['year'].max()"
   ]
  },
  {
   "cell_type": "markdown",
   "metadata": {},
   "source": [
    "\n",
    "## World Congresses\n",
    "An annual time series describing the number of international conferences hosted in a state, with specific reference to social science and social reform. See notebook `cr_congresses_sy` for processing.\n",
    "\n",
    "Data Sources:\n",
    "- UIA (1960) Les Congrès Internationaux de 1681 à 1899 Liste Complète / International Congresses 1681 to 1899 Full List. Bruxelles: Union of International Associations.\n",
    "- UIA (1964) Les Congrès Internationaux de 1900 à 1919 Liste Complète / International Congresses 1900 to 1913 Full List. Bruxelles: Union of International Associations. [Stanford SearchWorks Catalogue](https://searchworks.stanford.edu/view/1830221)\n",
    "\n",
    "Secondary Source:\n",
    "- Leonards, Chris, and Nico Randeraad (2010) “Transnational Experts in Social Reform, 1840–1880.” International Review of Social History 55 (2): 215–39. [DOI](https://doi.org/10.1017/S0020859010000179)\n"
   ]
  },
  {
   "cell_type": "markdown",
   "metadata": {},
   "source": [
    "Read in congress data"
   ]
  },
  {
   "cell_type": "code",
   "execution_count": 43,
   "metadata": {},
   "outputs": [],
   "source": [
    "congresses_sy = pd.read_csv(DATA + \"interim/\" + \"19c_congresses_sy.csv\")"
   ]
  },
  {
   "cell_type": "markdown",
   "metadata": {},
   "source": [
    "Clean data"
   ]
  },
  {
   "cell_type": "code",
   "execution_count": 44,
   "metadata": {
    "collapsed": false,
    "jupyter": {
     "outputs_hidden": false
    }
   },
   "outputs": [
    {
     "data": {
      "text/html": [
       "<div>\n",
       "<style scoped>\n",
       "    .dataframe tbody tr th:only-of-type {\n",
       "        vertical-align: middle;\n",
       "    }\n",
       "\n",
       "    .dataframe tbody tr th {\n",
       "        vertical-align: top;\n",
       "    }\n",
       "\n",
       "    .dataframe thead th {\n",
       "        text-align: right;\n",
       "    }\n",
       "</style>\n",
       "<table border=\"1\" class=\"dataframe\">\n",
       "  <thead>\n",
       "    <tr style=\"text-align: right;\">\n",
       "      <th></th>\n",
       "      <th>year</th>\n",
       "      <th>state</th>\n",
       "      <th>sy_confs_ttl</th>\n",
       "      <th>sy_confs_sci_ref</th>\n",
       "      <th>sy_confs_sci</th>\n",
       "    </tr>\n",
       "  </thead>\n",
       "  <tbody>\n",
       "    <tr>\n",
       "      <th>290</th>\n",
       "      <td>1807</td>\n",
       "      <td>Sweden</td>\n",
       "      <td>0</td>\n",
       "      <td>0</td>\n",
       "      <td>0</td>\n",
       "    </tr>\n",
       "    <tr>\n",
       "      <th>3147</th>\n",
       "      <td>1885</td>\n",
       "      <td>Argentina</td>\n",
       "      <td>0</td>\n",
       "      <td>0</td>\n",
       "      <td>0</td>\n",
       "    </tr>\n",
       "    <tr>\n",
       "      <th>4081</th>\n",
       "      <td>1910</td>\n",
       "      <td>El Salvador</td>\n",
       "      <td>1</td>\n",
       "      <td>0</td>\n",
       "      <td>0</td>\n",
       "    </tr>\n",
       "    <tr>\n",
       "      <th>2889</th>\n",
       "      <td>1878</td>\n",
       "      <td>Australia</td>\n",
       "      <td>0</td>\n",
       "      <td>0</td>\n",
       "      <td>0</td>\n",
       "    </tr>\n",
       "    <tr>\n",
       "      <th>1825</th>\n",
       "      <td>1849</td>\n",
       "      <td>France</td>\n",
       "      <td>1</td>\n",
       "      <td>1</td>\n",
       "      <td>0</td>\n",
       "    </tr>\n",
       "  </tbody>\n",
       "</table>\n",
       "</div>"
      ],
      "text/plain": [
       "      year        state  sy_confs_ttl  sy_confs_sci_ref  sy_confs_sci\n",
       "290   1807       Sweden             0                 0             0\n",
       "3147  1885    Argentina             0                 0             0\n",
       "4081  1910  El Salvador             1                 0             0\n",
       "2889  1878    Australia             0                 0             0\n",
       "1825  1849       France             1                 1             0"
      ]
     },
     "execution_count": 44,
     "metadata": {},
     "output_type": "execute_result"
    }
   ],
   "source": [
    "congresses_sy = congresses_sy.fillna(0)\n",
    "congresses_sy = congresses_sy.rename(columns={\"n_confs_ttl\": \"sy_confs_ttl\",\n",
    "                                              \"n_confs_sci_ref\": \"sy_confs_sci_ref\",\n",
    "                                              \"n_confs_sci\": \"sy_confs_sci\"})\n",
    "congresses_sy.sample(5)"
   ]
  },
  {
   "cell_type": "markdown",
   "metadata": {},
   "source": [
    "Inspect"
   ]
  },
  {
   "cell_type": "code",
   "execution_count": 45,
   "metadata": {},
   "outputs": [
    {
     "data": {
      "text/plain": [
       "state\n",
       "Peru                        114\n",
       "Benin                       114\n",
       "New Zealand                 114\n",
       "Austria                     114\n",
       "United States of America    114\n",
       "Name: count, dtype: int64"
      ]
     },
     "execution_count": 45,
     "metadata": {},
     "output_type": "execute_result"
    }
   ],
   "source": [
    "congresses_sy['state'].value_counts().sample(5)"
   ]
  },
  {
   "cell_type": "markdown",
   "metadata": {},
   "source": [
    "Create world-level annual series by suming up all state-year obs to create world-wide annual series"
   ]
  },
  {
   "cell_type": "code",
   "execution_count": 46,
   "metadata": {},
   "outputs": [
    {
     "data": {
      "text/html": [
       "<div>\n",
       "<style scoped>\n",
       "    .dataframe tbody tr th:only-of-type {\n",
       "        vertical-align: middle;\n",
       "    }\n",
       "\n",
       "    .dataframe tbody tr th {\n",
       "        vertical-align: top;\n",
       "    }\n",
       "\n",
       "    .dataframe thead th {\n",
       "        text-align: right;\n",
       "    }\n",
       "</style>\n",
       "<table border=\"1\" class=\"dataframe\">\n",
       "  <thead>\n",
       "    <tr style=\"text-align: right;\">\n",
       "      <th></th>\n",
       "      <th>year</th>\n",
       "      <th>wy_confs_ttl</th>\n",
       "      <th>wy_confs_sci_ref</th>\n",
       "      <th>wy_confs_sci</th>\n",
       "    </tr>\n",
       "  </thead>\n",
       "  <tbody>\n",
       "    <tr>\n",
       "      <th>93</th>\n",
       "      <td>1893</td>\n",
       "      <td>95</td>\n",
       "      <td>22</td>\n",
       "      <td>9</td>\n",
       "    </tr>\n",
       "    <tr>\n",
       "      <th>71</th>\n",
       "      <td>1871</td>\n",
       "      <td>15</td>\n",
       "      <td>3</td>\n",
       "      <td>1</td>\n",
       "    </tr>\n",
       "    <tr>\n",
       "      <th>85</th>\n",
       "      <td>1885</td>\n",
       "      <td>36</td>\n",
       "      <td>12</td>\n",
       "      <td>7</td>\n",
       "    </tr>\n",
       "    <tr>\n",
       "      <th>64</th>\n",
       "      <td>1864</td>\n",
       "      <td>9</td>\n",
       "      <td>3</td>\n",
       "      <td>1</td>\n",
       "    </tr>\n",
       "    <tr>\n",
       "      <th>52</th>\n",
       "      <td>1852</td>\n",
       "      <td>1</td>\n",
       "      <td>0</td>\n",
       "      <td>0</td>\n",
       "    </tr>\n",
       "  </tbody>\n",
       "</table>\n",
       "</div>"
      ],
      "text/plain": [
       "    year  wy_confs_ttl  wy_confs_sci_ref  wy_confs_sci\n",
       "93  1893            95                22             9\n",
       "71  1871            15                 3             1\n",
       "85  1885            36                12             7\n",
       "64  1864             9                 3             1\n",
       "52  1852             1                 0             0"
      ]
     },
     "execution_count": 46,
     "metadata": {},
     "output_type": "execute_result"
    }
   ],
   "source": [
    "var_map = {\"sy_confs_ttl\": \"wy_confs_ttl\",\n",
    "       \"sy_confs_sci_ref\": \"wy_confs_sci_ref\",\n",
    "       \"sy_confs_sci\": \"wy_confs_sci\"}\n",
    "congresses_wy = congresses_sy.groupby('year',\n",
    "                                      as_index=False).sum(numeric_only=True).rename(columns=var_map)\n",
    "congresses_wy.sample(5)"
   ]
  },
  {
   "cell_type": "code",
   "execution_count": 47,
   "metadata": {},
   "outputs": [
    {
     "data": {
      "text/plain": [
       "1800"
      ]
     },
     "execution_count": 47,
     "metadata": {},
     "output_type": "execute_result"
    }
   ],
   "source": [
    "congresses_wy['year'].min()"
   ]
  },
  {
   "cell_type": "code",
   "execution_count": 48,
   "metadata": {},
   "outputs": [
    {
     "data": {
      "text/plain": [
       "year                0\n",
       "wy_confs_ttl        0\n",
       "wy_confs_sci_ref    0\n",
       "wy_confs_sci        0\n",
       "dtype: int64"
      ]
     },
     "execution_count": 48,
     "metadata": {},
     "output_type": "execute_result"
    }
   ],
   "source": [
    "congresses_wy.isna().sum()"
   ]
  },
  {
   "cell_type": "markdown",
   "metadata": {},
   "source": [
    "## Social Science Periodicals"
   ]
  },
  {
   "cell_type": "code",
   "execution_count": 49,
   "metadata": {},
   "outputs": [],
   "source": [
    "journals_wy = pd.read_csv(DATA + \"interim/\" + \"19c_journals_wy.csv\")"
   ]
  },
  {
   "cell_type": "code",
   "execution_count": 50,
   "metadata": {},
   "outputs": [
    {
     "data": {
      "text/html": [
       "<div>\n",
       "<style scoped>\n",
       "    .dataframe tbody tr th:only-of-type {\n",
       "        vertical-align: middle;\n",
       "    }\n",
       "\n",
       "    .dataframe tbody tr th {\n",
       "        vertical-align: top;\n",
       "    }\n",
       "\n",
       "    .dataframe thead th {\n",
       "        text-align: right;\n",
       "    }\n",
       "</style>\n",
       "<table border=\"1\" class=\"dataframe\">\n",
       "  <thead>\n",
       "    <tr style=\"text-align: right;\">\n",
       "      <th></th>\n",
       "      <th>wy_stats_journals</th>\n",
       "      <th>year</th>\n",
       "      <th>wy_soc_journals</th>\n",
       "    </tr>\n",
       "  </thead>\n",
       "  <tbody>\n",
       "    <tr>\n",
       "      <th>101</th>\n",
       "      <td>1561</td>\n",
       "      <td>1901</td>\n",
       "      <td>618</td>\n",
       "    </tr>\n",
       "    <tr>\n",
       "      <th>0</th>\n",
       "      <td>9</td>\n",
       "      <td>1800</td>\n",
       "      <td>3</td>\n",
       "    </tr>\n",
       "    <tr>\n",
       "      <th>32</th>\n",
       "      <td>54</td>\n",
       "      <td>1832</td>\n",
       "      <td>13</td>\n",
       "    </tr>\n",
       "    <tr>\n",
       "      <th>15</th>\n",
       "      <td>13</td>\n",
       "      <td>1815</td>\n",
       "      <td>4</td>\n",
       "    </tr>\n",
       "    <tr>\n",
       "      <th>88</th>\n",
       "      <td>1114</td>\n",
       "      <td>1888</td>\n",
       "      <td>402</td>\n",
       "    </tr>\n",
       "  </tbody>\n",
       "</table>\n",
       "</div>"
      ],
      "text/plain": [
       "     wy_stats_journals  year  wy_soc_journals\n",
       "101               1561  1901              618\n",
       "0                    9  1800                3\n",
       "32                  54  1832               13\n",
       "15                  13  1815                4\n",
       "88                1114  1888              402"
      ]
     },
     "execution_count": 50,
     "metadata": {},
     "output_type": "execute_result"
    }
   ],
   "source": [
    "journals_wy.sample(5)"
   ]
  },
  {
   "cell_type": "code",
   "execution_count": 51,
   "metadata": {},
   "outputs": [
    {
     "data": {
      "text/plain": [
       "1800"
      ]
     },
     "execution_count": 51,
     "metadata": {},
     "output_type": "execute_result"
    }
   ],
   "source": [
    "journals_wy['year'].min()"
   ]
  },
  {
   "cell_type": "markdown",
   "metadata": {},
   "source": [
    "## Population\n",
    "- [Bairoch & Goertz](https://journals.sagepub.com/doi/epdf/10.1080/00420988620080351)\n",
    "- [Bukowsky et al](https://www.tandfonline.com/doi/full/10.1080/01615440.2019.1580171)"
   ]
  },
  {
   "cell_type": "code",
   "execution_count": 55,
   "metadata": {},
   "outputs": [
    {
     "data": {
      "text/plain": [
       "'/Users/otto/Library/CloudStorage/GoogleDrive-danielscottsmith@gmail.com/My Drive/00_Researching/00_scientization/19cStates/'"
      ]
     },
     "execution_count": 55,
     "metadata": {},
     "output_type": "execute_result"
    }
   ],
   "source": [
    "DIR"
   ]
  },
  {
   "cell_type": "code",
   "execution_count": 57,
   "metadata": {},
   "outputs": [],
   "source": [
    "pop_df = pd.read_csv(DATA+\"raw/tabula-urban.csv\", usecols=[0,2,3,4,5,6,7])\n",
    "pop_df = pop_df.rename(columns={\"Unnamed: 0\": \"state\"})"
   ]
  },
  {
   "cell_type": "code",
   "execution_count": 58,
   "metadata": {},
   "outputs": [
    {
     "data": {
      "text/html": [
       "<div>\n",
       "<style scoped>\n",
       "    .dataframe tbody tr th:only-of-type {\n",
       "        vertical-align: middle;\n",
       "    }\n",
       "\n",
       "    .dataframe tbody tr th {\n",
       "        vertical-align: top;\n",
       "    }\n",
       "\n",
       "    .dataframe thead th {\n",
       "        text-align: right;\n",
       "    }\n",
       "</style>\n",
       "<table border=\"1\" class=\"dataframe\">\n",
       "  <thead>\n",
       "    <tr style=\"text-align: right;\">\n",
       "      <th></th>\n",
       "      <th>state</th>\n",
       "      <th>1800</th>\n",
       "      <th>1830</th>\n",
       "      <th>1850</th>\n",
       "      <th>1880</th>\n",
       "      <th>1900</th>\n",
       "      <th>1910</th>\n",
       "    </tr>\n",
       "  </thead>\n",
       "  <tbody>\n",
       "    <tr>\n",
       "      <th>0</th>\n",
       "      <td>Austria-Hungary</td>\n",
       "      <td>6.5</td>\n",
       "      <td>7.1</td>\n",
       "      <td>9.7</td>\n",
       "      <td>16.0</td>\n",
       "      <td>25.6</td>\n",
       "      <td>28.5</td>\n",
       "    </tr>\n",
       "    <tr>\n",
       "      <th>1</th>\n",
       "      <td>Belgium</td>\n",
       "      <td>20.5</td>\n",
       "      <td>(25.0)</td>\n",
       "      <td>33.5</td>\n",
       "      <td>43.1</td>\n",
       "      <td>52.3</td>\n",
       "      <td>56.6</td>\n",
       "    </tr>\n",
       "    <tr>\n",
       "      <th>2</th>\n",
       "      <td>Bulgaria</td>\n",
       "      <td>5.5</td>\n",
       "      <td>(5.5)</td>\n",
       "      <td>(6.0)</td>\n",
       "      <td>(11.0)</td>\n",
       "      <td>15.0</td>\n",
       "      <td>22.1</td>\n",
       "    </tr>\n",
       "    <tr>\n",
       "      <th>3</th>\n",
       "      <td>Denmark</td>\n",
       "      <td>15.6</td>\n",
       "      <td>14.1</td>\n",
       "      <td>14.6</td>\n",
       "      <td>23.0</td>\n",
       "      <td>33.5</td>\n",
       "      <td>35.9</td>\n",
       "    </tr>\n",
       "    <tr>\n",
       "      <th>4</th>\n",
       "      <td>Finland</td>\n",
       "      <td>3.5</td>\n",
       "      <td>3.5</td>\n",
       "      <td>3.7</td>\n",
       "      <td>6.1</td>\n",
       "      <td>10.4</td>\n",
       "      <td>12.6</td>\n",
       "    </tr>\n",
       "  </tbody>\n",
       "</table>\n",
       "</div>"
      ],
      "text/plain": [
       "             state  1800    1830   1850    1880  1900  1910\n",
       "0  Austria-Hungary   6.5     7.1    9.7    16.0  25.6  28.5\n",
       "1          Belgium  20.5  (25.0)   33.5    43.1  52.3  56.6\n",
       "2         Bulgaria   5.5   (5.5)  (6.0)  (11.0)  15.0  22.1\n",
       "3          Denmark  15.6    14.1   14.6    23.0  33.5  35.9\n",
       "4          Finland   3.5     3.5    3.7     6.1  10.4  12.6"
      ]
     },
     "execution_count": 58,
     "metadata": {},
     "output_type": "execute_result"
    }
   ],
   "source": [
    "pop_df.head()"
   ]
  },
  {
   "cell_type": "code",
   "execution_count": 59,
   "metadata": {},
   "outputs": [],
   "source": [
    "with open(DATA+\"raw/tabula-urban.csv\", \"r\") as f:\n",
    "    reader = csv.reader(f)\n",
    "    dct = {}\n",
    "    for i, row in enumerate(reader):\n",
    "        new_vals = [val.replace(\"(\", \"\") for val in row[2:]]\n",
    "        if i == 0: \n",
    "            YEARS = [int(year) for year in row[2:]]\n",
    "        else:\n",
    "            dct[row[0]] = [float(val.replace(\")\", \"\")) for val in new_vals]\n",
    "dct['Austria'] = dct['Austria-Hungary']\n",
    "dct['Hungary'] = dct['Austria-Hungary']\n",
    "dct['Hungary'] = dct['Austria-Hungary']\n",
    "dct['Australia'] = dct['OTHER DEVELOPED COUNTRIES']\n",
    "dct['New Zealand'] = dct['OTHER DEVELOPED COUNTRIES']\n",
    "dct['United States of America'] = dct['United States']"
   ]
  },
  {
   "cell_type": "code",
   "execution_count": 60,
   "metadata": {},
   "outputs": [
    {
     "data": {
      "text/plain": [
       "[1800, 1830, 1850, 1880, 1900, 1910]"
      ]
     },
     "execution_count": 60,
     "metadata": {},
     "output_type": "execute_result"
    }
   ],
   "source": [
    "YEARS"
   ]
  },
  {
   "cell_type": "code",
   "execution_count": 61,
   "metadata": {},
   "outputs": [
    {
     "data": {
      "text/plain": [
       "{'Austria-Hungary': [6.5, 7.1, 9.7, 16.0, 25.6, 28.5],\n",
       " 'Belgium': [20.5, 25.0, 33.5, 43.1, 52.3, 56.6],\n",
       " 'Bulgaria': [5.5, 5.5, 6.0, 11.0, 15.0, 22.1],\n",
       " 'Denmark': [15.6, 14.1, 14.6, 23.0, 33.5, 35.9],\n",
       " 'Finland': [3.5, 3.5, 3.7, 6.1, 10.4, 12.6],\n",
       " 'France': [12.2, 15.7, 19.5, 27.6, 35.4, 38.5],\n",
       " 'Germany': [8.9, 9.1, 15.0, 29.1, 42.0, 48.8],\n",
       " 'Greece': [11.5, 12.0, 14.0, 16.0, 21.0, 22.0],\n",
       " 'Italy': [18.0, 19.0, 23.0, 28.0, 35.5, 40.0],\n",
       " 'Netherlands': [37.4, 35.8, 35.6, 44.5, 47.8, 50.5],\n",
       " 'Norway': [7.0, 7.2, 9.0, 16.0, 24.3, 25.1],\n",
       " 'Portugal': [15.5, 15.0, 15.0, 15.0, 15.7, 15.6],\n",
       " 'Romania': [7.5, 7.5, 11.0, 14.0, 17.3, 16.0],\n",
       " 'Russia': [5.9, 6.0, 7.2, 10.6, 13.2, 14.3],\n",
       " 'Serbia': [10.0, 10.0, 10.0, 10.0, 9.8, 10.0],\n",
       " 'Spain': [17.5, 17.5, 18.0, 26.0, 34.0, 38.0],\n",
       " 'Sweden': [6.6, 6.6, 6.8, 12.5, 19.3, 22.6],\n",
       " 'Switzerland': [7.0, 7.5, 11.9, 20.4, 30.6, 37.1],\n",
       " 'United Kingdom': [19.2, 27.5, 39.6, 56.2, 67.4, 69.2],\n",
       " 'OTHER DEVELOPED COUNTRIES': [5.5, 7.9, 13.9, 24.4, 35.6, 41.6],\n",
       " 'Canada': [6.5, 7.0, 9.5, 15.0, 35.9, 41.6],\n",
       " 'United States': [5.3, 7.8, 5.3, 25.0, 35.9, 41.6],\n",
       " 'Austria': [6.5, 7.1, 9.7, 16.0, 25.6, 28.5],\n",
       " 'Hungary': [6.5, 7.1, 9.7, 16.0, 25.6, 28.5],\n",
       " 'Australia': [5.5, 7.9, 13.9, 24.4, 35.6, 41.6],\n",
       " 'New Zealand': [5.5, 7.9, 13.9, 24.4, 35.6, 41.6],\n",
       " 'United States of America': [5.3, 7.8, 5.3, 25.0, 35.9, 41.6]}"
      ]
     },
     "execution_count": 61,
     "metadata": {},
     "output_type": "execute_result"
    }
   ],
   "source": [
    "dct"
   ]
  },
  {
   "cell_type": "code",
   "execution_count": 62,
   "metadata": {},
   "outputs": [
    {
     "data": {
      "text/plain": [
       "1877    Australia\n",
       "Name: state, dtype: object"
      ]
     },
     "execution_count": 62,
     "metadata": {},
     "output_type": "execute_result"
    }
   ],
   "source": [
    "states_df['state'].sample()"
   ]
  },
  {
   "cell_type": "code",
   "execution_count": 63,
   "metadata": {},
   "outputs": [
    {
     "data": {
      "image/png": "[encoded data removed]",
      "text/plain": [
       "<Figure size 600x600 with 1 Axes>"
      ]
     },
     "metadata": {
      "image/png": {
       "height": 542,
       "width": 510
      }
     },
     "output_type": "display_data"
    }
   ],
   "source": [
    "# state\n",
    "state = random.choice(list(dct.keys()))\n",
    "# state = \"Hungary\"\n",
    "\n",
    "# Convert to log-log scale and fit the data to a line.\n",
    "log_years = np.log(YEARS)\n",
    "log_rates = np.log(dct[state])\n",
    "coefficients = np.polyfit(log_years, log_rates, 1)\n",
    "\n",
    "# Define the power law function.\n",
    "a = math.exp(coefficients[1])  # intercept\n",
    "b = coefficients[0]  # slope\n",
    "\n",
    "def power_law(x):\n",
    "    return a * (x ** b)\n",
    "\n",
    "# Impute the data points for the missing years.\n",
    "missing_years = np.array([year for year in range(1800, 1915) if year not in YEARS])\n",
    "imputed_data = power_law(missing_years)\n",
    "\n",
    "# Visualize the data\n",
    "plt.scatter(YEARS, dct[state], color='blue', label=\"Bairoch + Goertz\")  # Original data\n",
    "plt.scatter(missing_years, imputed_data, color='orange', label=\"imputed from B+G\")  # Imputed data\n",
    "plt.scatter(vdem_sy[vdem_sy['state']==state][['year']], \n",
    "            vdem_sy[vdem_sy['state']==state][['sy_urban']]*100, color='green', label=\"vdem\") # vdem\n",
    "plt.plot(np.arange(1800, 1915), power_law(np.arange(1800, 1915)), color='green')  # Power law line\n",
    "plt.title(f\"{state}\", size=30)\n",
    "plt.legend()\n",
    "plt.show()"
   ]
  },
  {
   "cell_type": "code",
   "execution_count": 64,
   "metadata": {},
   "outputs": [],
   "source": [
    "# Define your known points.\n",
    "YEARS = np.array([1800, 1830, 1850, 1880, 1900, 1910]) \n",
    "\n",
    "def power_law(x):\n",
    "    return a * (x ** b)\n",
    "\n",
    "def impute_data(state, years, rates):\n",
    "    # Convert to log-log scale and fit the data to a line.\n",
    "    log_years = np.log(years)\n",
    "    log_rates = np.log(rates)\n",
    "    coefficients = np.polyfit(log_years, log_rates, 1)\n",
    "\n",
    "    # Define the power law function.\n",
    "    a = math.exp(coefficients[1])  # intercept\n",
    "    b = coefficients[0]  # slope\n",
    "\n",
    "\n",
    "    # Impute the data points for the missing years.\n",
    "    missing_years = np.array([year for year in range(1800, 1915) if year not in years])\n",
    "    imputed_rates = power_law(missing_years)\n",
    "    # imputed_rates = power_law(YEARS)\n",
    "    \n",
    "    state_names = [state]*len(missing_years)\n",
    "    data = list(zip(state_names, missing_years, imputed_rates))\n",
    "\n",
    "    for year, rate in zip(years, rates):\n",
    "        data.append((state, year, rate))\n",
    "    \n",
    "    data = sorted(data)\n",
    "\n",
    "    \n",
    "    return pd.DataFrame.from_records(data, columns=['state', 'year', 'sy_xtr_urban'])\n",
    "    "
   ]
  },
  {
   "cell_type": "code",
   "execution_count": 65,
   "metadata": {},
   "outputs": [],
   "source": [
    "dfs = []\n",
    "for state, rates in dct.items():\n",
    "    dfs.append(impute_data(state, YEARS, rates))"
   ]
  },
  {
   "cell_type": "code",
   "execution_count": 66,
   "metadata": {},
   "outputs": [],
   "source": [
    "dfs.append(impute_data(\"Poland\", \n",
    "                       [1790, 1810, 1830, 1850, 1870, 1890, 1910], \n",
    "                       [5.1, 5.7, 7.6, 10.1, 14.1, 20.5, 30.0]))"
   ]
  },
  {
   "cell_type": "code",
   "execution_count": 67,
   "metadata": {},
   "outputs": [],
   "source": [
    "xtr_urban_sy = pd.concat(dfs)"
   ]
  },
  {
   "cell_type": "code",
   "execution_count": 68,
   "metadata": {},
   "outputs": [
    {
     "data": {
      "text/html": [
       "<div>\n",
       "<style scoped>\n",
       "    .dataframe tbody tr th:only-of-type {\n",
       "        vertical-align: middle;\n",
       "    }\n",
       "\n",
       "    .dataframe tbody tr th {\n",
       "        vertical-align: top;\n",
       "    }\n",
       "\n",
       "    .dataframe thead th {\n",
       "        text-align: right;\n",
       "    }\n",
       "</style>\n",
       "<table border=\"1\" class=\"dataframe\">\n",
       "  <thead>\n",
       "    <tr style=\"text-align: right;\">\n",
       "      <th></th>\n",
       "      <th>state</th>\n",
       "      <th>year</th>\n",
       "      <th>sy_xtr_urban</th>\n",
       "    </tr>\n",
       "  </thead>\n",
       "  <tbody>\n",
       "    <tr>\n",
       "      <th>0</th>\n",
       "      <td>Austria-Hungary</td>\n",
       "      <td>1800</td>\n",
       "      <td>6.500000</td>\n",
       "    </tr>\n",
       "    <tr>\n",
       "      <th>1</th>\n",
       "      <td>Austria-Hungary</td>\n",
       "      <td>1801</td>\n",
       "      <td>20.031339</td>\n",
       "    </tr>\n",
       "    <tr>\n",
       "      <th>2</th>\n",
       "      <td>Austria-Hungary</td>\n",
       "      <td>1802</td>\n",
       "      <td>20.282962</td>\n",
       "    </tr>\n",
       "    <tr>\n",
       "      <th>3</th>\n",
       "      <td>Austria-Hungary</td>\n",
       "      <td>1803</td>\n",
       "      <td>20.537604</td>\n",
       "    </tr>\n",
       "    <tr>\n",
       "      <th>4</th>\n",
       "      <td>Austria-Hungary</td>\n",
       "      <td>1804</td>\n",
       "      <td>20.795299</td>\n",
       "    </tr>\n",
       "    <tr>\n",
       "      <th>...</th>\n",
       "      <td>...</td>\n",
       "      <td>...</td>\n",
       "      <td>...</td>\n",
       "    </tr>\n",
       "    <tr>\n",
       "      <th>111</th>\n",
       "      <td>Poland</td>\n",
       "      <td>1910</td>\n",
       "      <td>30.000000</td>\n",
       "    </tr>\n",
       "    <tr>\n",
       "      <th>112</th>\n",
       "      <td>Poland</td>\n",
       "      <td>1911</td>\n",
       "      <td>75.984071</td>\n",
       "    </tr>\n",
       "    <tr>\n",
       "      <th>113</th>\n",
       "      <td>Poland</td>\n",
       "      <td>1912</td>\n",
       "      <td>76.883294</td>\n",
       "    </tr>\n",
       "    <tr>\n",
       "      <th>114</th>\n",
       "      <td>Poland</td>\n",
       "      <td>1913</td>\n",
       "      <td>77.792680</td>\n",
       "    </tr>\n",
       "    <tr>\n",
       "      <th>115</th>\n",
       "      <td>Poland</td>\n",
       "      <td>1914</td>\n",
       "      <td>78.712339</td>\n",
       "    </tr>\n",
       "  </tbody>\n",
       "</table>\n",
       "<p>3221 rows × 3 columns</p>\n",
       "</div>"
      ],
      "text/plain": [
       "               state  year  sy_xtr_urban\n",
       "0    Austria-Hungary  1800      6.500000\n",
       "1    Austria-Hungary  1801     20.031339\n",
       "2    Austria-Hungary  1802     20.282962\n",
       "3    Austria-Hungary  1803     20.537604\n",
       "4    Austria-Hungary  1804     20.795299\n",
       "..               ...   ...           ...\n",
       "111           Poland  1910     30.000000\n",
       "112           Poland  1911     75.984071\n",
       "113           Poland  1912     76.883294\n",
       "114           Poland  1913     77.792680\n",
       "115           Poland  1914     78.712339\n",
       "\n",
       "[3221 rows x 3 columns]"
      ]
     },
     "execution_count": 68,
     "metadata": {},
     "output_type": "execute_result"
    }
   ],
   "source": [
    "xtr_urban_sy"
   ]
  },
  {
   "cell_type": "code",
   "execution_count": 69,
   "metadata": {},
   "outputs": [
    {
     "data": {
      "text/plain": [
       "state           0\n",
       "year            0\n",
       "sy_xtr_urban    0\n",
       "dtype: int64"
      ]
     },
     "execution_count": 69,
     "metadata": {},
     "output_type": "execute_result"
    }
   ],
   "source": [
    "xtr_urban_sy.isna().sum()"
   ]
  },
  {
   "cell_type": "code",
   "execution_count": 70,
   "metadata": {},
   "outputs": [
    {
     "data": {
      "text/plain": [
       "28"
      ]
     },
     "execution_count": 70,
     "metadata": {},
     "output_type": "execute_result"
    }
   ],
   "source": [
    "xtr_urban_sy['state'].nunique()"
   ]
  },
  {
   "cell_type": "code",
   "execution_count": 71,
   "metadata": {},
   "outputs": [
    {
     "data": {
      "text/plain": [
       "array(['Austria-Hungary', 'Belgium', 'Bulgaria', 'Denmark', 'Finland',\n",
       "       'France', 'Germany', 'Greece', 'Italy', 'Netherlands', 'Norway',\n",
       "       'Portugal', 'Romania', 'Russia', 'Serbia', 'Spain', 'Sweden',\n",
       "       'Switzerland', 'United Kingdom', 'OTHER DEVELOPED COUNTRIES',\n",
       "       'Canada', 'United States', 'Austria', 'Hungary', 'Australia',\n",
       "       'New Zealand', 'United States of America', 'Poland'], dtype=object)"
      ]
     },
     "execution_count": 71,
     "metadata": {},
     "output_type": "execute_result"
    }
   ],
   "source": [
    "xtr_urban_sy['state'].unique()"
   ]
  },
  {
   "cell_type": "code",
   "execution_count": null,
   "metadata": {},
   "outputs": [],
   "source": []
  },
  {
   "cell_type": "markdown",
   "metadata": {},
   "source": [
    "# Merge data"
   ]
  },
  {
   "cell_type": "code",
   "execution_count": 72,
   "metadata": {},
   "outputs": [],
   "source": [
    "states_df = states_df.merge(congresses_sy, on=['year', 'state'], how='left', validate=\"one_to_one\")"
   ]
  },
  {
   "cell_type": "code",
   "execution_count": 73,
   "metadata": {},
   "outputs": [],
   "source": [
    "states_df = states_df.merge(congresses_wy, on=['year'], how='left', validate=\"many_to_one\")"
   ]
  },
  {
   "cell_type": "code",
   "execution_count": 74,
   "metadata": {},
   "outputs": [],
   "source": [
    "states_df = states_df.merge(societies_wy, on=['year'], how='left', validate=\"many_to_one\")"
   ]
  },
  {
   "cell_type": "code",
   "execution_count": 75,
   "metadata": {},
   "outputs": [],
   "source": [
    "states_df = states_df.merge(journals_wy, on=['year'], how='left', validate=\"many_to_one\")"
   ]
  },
  {
   "cell_type": "code",
   "execution_count": 76,
   "metadata": {},
   "outputs": [],
   "source": [
    "states_df = states_df.merge(xtr_urban_sy, on=['year', 'state'], how='left', validate=\"one_to_one\")"
   ]
  },
  {
   "cell_type": "code",
   "execution_count": 77,
   "metadata": {},
   "outputs": [
    {
     "data": {
      "text/plain": [
       "1522"
      ]
     },
     "execution_count": 77,
     "metadata": {},
     "output_type": "execute_result"
    }
   ],
   "source": [
    "states_df['sy_xtr_urban'].isna().sum()"
   ]
  },
  {
   "cell_type": "code",
   "execution_count": 78,
   "metadata": {},
   "outputs": [
    {
     "data": {
      "text/html": [
       "<div>\n",
       "<style scoped>\n",
       "    .dataframe tbody tr th:only-of-type {\n",
       "        vertical-align: middle;\n",
       "    }\n",
       "\n",
       "    .dataframe tbody tr th {\n",
       "        vertical-align: top;\n",
       "    }\n",
       "\n",
       "    .dataframe thead th {\n",
       "        text-align: right;\n",
       "    }\n",
       "</style>\n",
       "<table border=\"1\" class=\"dataframe\">\n",
       "  <thead>\n",
       "    <tr style=\"text-align: right;\">\n",
       "      <th></th>\n",
       "      <th>state</th>\n",
       "      <th>year</th>\n",
       "      <th>sy_xtr_urban</th>\n",
       "    </tr>\n",
       "  </thead>\n",
       "  <tbody>\n",
       "    <tr>\n",
       "      <th>0</th>\n",
       "      <td>Netherlands</td>\n",
       "      <td>1800</td>\n",
       "      <td>37.400000</td>\n",
       "    </tr>\n",
       "    <tr>\n",
       "      <th>1</th>\n",
       "      <td>Netherlands</td>\n",
       "      <td>1801</td>\n",
       "      <td>20.031339</td>\n",
       "    </tr>\n",
       "    <tr>\n",
       "      <th>2</th>\n",
       "      <td>Netherlands</td>\n",
       "      <td>1802</td>\n",
       "      <td>20.282962</td>\n",
       "    </tr>\n",
       "    <tr>\n",
       "      <th>3</th>\n",
       "      <td>Netherlands</td>\n",
       "      <td>1803</td>\n",
       "      <td>20.537604</td>\n",
       "    </tr>\n",
       "    <tr>\n",
       "      <th>4</th>\n",
       "      <td>Netherlands</td>\n",
       "      <td>1804</td>\n",
       "      <td>20.795299</td>\n",
       "    </tr>\n",
       "    <tr>\n",
       "      <th>...</th>\n",
       "      <td>...</td>\n",
       "      <td>...</td>\n",
       "      <td>...</td>\n",
       "    </tr>\n",
       "    <tr>\n",
       "      <th>4049</th>\n",
       "      <td>Hamburg</td>\n",
       "      <td>1863</td>\n",
       "      <td>NaN</td>\n",
       "    </tr>\n",
       "    <tr>\n",
       "      <th>4050</th>\n",
       "      <td>Hamburg</td>\n",
       "      <td>1864</td>\n",
       "      <td>NaN</td>\n",
       "    </tr>\n",
       "    <tr>\n",
       "      <th>4051</th>\n",
       "      <td>Hamburg</td>\n",
       "      <td>1865</td>\n",
       "      <td>NaN</td>\n",
       "    </tr>\n",
       "    <tr>\n",
       "      <th>4052</th>\n",
       "      <td>Hamburg</td>\n",
       "      <td>1866</td>\n",
       "      <td>NaN</td>\n",
       "    </tr>\n",
       "    <tr>\n",
       "      <th>4053</th>\n",
       "      <td>Hamburg</td>\n",
       "      <td>1867</td>\n",
       "      <td>NaN</td>\n",
       "    </tr>\n",
       "  </tbody>\n",
       "</table>\n",
       "<p>4054 rows × 3 columns</p>\n",
       "</div>"
      ],
      "text/plain": [
       "            state  year  sy_xtr_urban\n",
       "0     Netherlands  1800     37.400000\n",
       "1     Netherlands  1801     20.031339\n",
       "2     Netherlands  1802     20.282962\n",
       "3     Netherlands  1803     20.537604\n",
       "4     Netherlands  1804     20.795299\n",
       "...           ...   ...           ...\n",
       "4049      Hamburg  1863           NaN\n",
       "4050      Hamburg  1864           NaN\n",
       "4051      Hamburg  1865           NaN\n",
       "4052      Hamburg  1866           NaN\n",
       "4053      Hamburg  1867           NaN\n",
       "\n",
       "[4054 rows x 3 columns]"
      ]
     },
     "execution_count": 78,
     "metadata": {},
     "output_type": "execute_result"
    }
   ],
   "source": [
    "states_df[['state', 'year', 'sy_xtr_urban']]"
   ]
  },
  {
   "cell_type": "markdown",
   "metadata": {},
   "source": [
    "# Select states with non-missing data"
   ]
  },
  {
   "cell_type": "markdown",
   "metadata": {},
   "source": [
    "We'll fill in nans for congress data; nan means no congress, i.e. 0"
   ]
  },
  {
   "cell_type": "code",
   "execution_count": 79,
   "metadata": {},
   "outputs": [],
   "source": [
    "states_df[[\"sy_confs_sci\", \"sy_confs_ttl\", \"sy_confs_sci_ref\"]] = states_df[[\"sy_confs_sci\", \"sy_confs_ttl\", \"sy_confs_sci_ref\"]].fillna(0)"
   ]
  },
  {
   "cell_type": "markdown",
   "metadata": {},
   "source": [
    "We'll keep those without empty columns"
   ]
  },
  {
   "cell_type": "code",
   "execution_count": 80,
   "metadata": {},
   "outputs": [
    {
     "data": {
      "text/plain": [
       "state\n",
       "Germany                     115\n",
       "Hungary                     115\n",
       "United States of America    115\n",
       "Norway                      115\n",
       "United Kingdom              115\n",
       "Portugal                    115\n",
       "Austria                     115\n",
       "Russia                      115\n",
       "Montenegro                  115\n",
       "Switzerland                 115\n",
       "Spain                       115\n",
       "France                      115\n",
       "Denmark                     115\n",
       "Sweden                      115\n",
       "Australia                   115\n",
       "Romania                     115\n",
       "Netherlands                 113\n",
       "Serbia                      110\n",
       "Finland                     106\n",
       "Luxembourg                  100\n",
       "Greece                       93\n",
       "Belgium                      85\n",
       "New Zealand                  74\n",
       "Canada                       74\n",
       "Baden                        72\n",
       "Würtemberg                   72\n",
       "Hesse-Darmstadt              72\n",
       "Bavaria                      72\n",
       "Hamburg                      68\n",
       "Mecklenburg Schwerin         68\n",
       "Saxony                       68\n",
       "Papal States                 67\n",
       "Hesse-Kassel                 67\n",
       "Oldenburg                    66\n",
       "Hanover                      65\n",
       "Brunswick                    63\n",
       "Piedmont-Sardinia            62\n",
       "Poland                       61\n",
       "Nassau                       61\n",
       "Two Sicilies                 61\n",
       "Saxe-Weimar-Eisenach         59\n",
       "Tuscany                      56\n",
       "Italy                        54\n",
       "Parma                        49\n",
       "Modena                       46\n",
       "Bulgaria                     37\n",
       "Solomon Islands              15\n",
       "Vanuatu                      15\n",
       "Malta                        15\n",
       "Iceland                      15\n",
       "Papua New Guinea             15\n",
       "Fiji                         15\n",
       "Albania                       3\n",
       "Name: count, dtype: int64"
      ]
     },
     "execution_count": 80,
     "metadata": {},
     "output_type": "execute_result"
    }
   ],
   "source": [
    "states_df['state'].value_counts()"
   ]
  },
  {
   "cell_type": "code",
   "execution_count": 81,
   "metadata": {
    "tags": []
   },
   "outputs": [
    {
     "name": "stdout",
     "output_type": "stream",
     "text": [
      "Albania completely missing sy_pop\n",
      "Albania completely missing sy_stats_agency\n",
      "Albania completely missing sy_yrbk_cov\n",
      "Albania completely missing sy_yrbk_pub\n",
      "Albania completely missing sy_urban\n",
      "Albania completely missing sy_flag\n",
      "Albania completely missing sy_anthem\n",
      "Albania completely missing sy_citizenship\n",
      "Albania completely missing sy_chldlbr\n",
      "Albania completely missing sy_nat_bank\n",
      "Albania completely missing sy_census_cum\n",
      "Albania completely missing sy_ministry\n",
      "Albania completely missing sy_xtr_urban\n",
      "\n",
      "KEPT Australia\n",
      "\n",
      "KEPT Austria\n",
      "\n",
      "Baden completely missing sy_unis\n",
      "Baden completely missing sy_pop\n",
      "Baden completely missing sy_stats_agency\n",
      "Baden completely missing sy_yrbk_cov\n",
      "Baden completely missing sy_yrbk_pub\n",
      "Baden completely missing sy_urban\n",
      "Baden completely missing sy_lifeex\n",
      "Baden completely missing sy_riots\n",
      "Baden completely missing sy_war\n",
      "Baden completely missing sy_sch_enrll\n",
      "Baden completely missing sy_census_cum\n",
      "Baden completely missing sy_xtr_enrll\n",
      "Baden completely missing sy_ministry\n",
      "Baden completely missing sy_xtr_urban\n",
      "\n",
      "Bavaria completely missing sy_unis\n",
      "Bavaria completely missing sy_pop\n",
      "Bavaria completely missing sy_stats_agency\n",
      "Bavaria completely missing sy_yrbk_cov\n",
      "Bavaria completely missing sy_yrbk_pub\n",
      "Bavaria completely missing sy_urban\n",
      "Bavaria completely missing sy_lifeex\n",
      "Bavaria completely missing sy_riots\n",
      "Bavaria completely missing sy_war\n",
      "Bavaria completely missing sy_sch_enrll\n",
      "Bavaria completely missing sy_census_cum\n",
      "Bavaria completely missing sy_xtr_enrll\n",
      "Bavaria completely missing sy_ministry\n",
      "Bavaria completely missing sy_xtr_urban\n",
      "\n",
      "KEPT Belgium\n",
      "\n",
      "Brunswick completely missing sy_unis\n",
      "Brunswick completely missing sy_pop\n",
      "Brunswick completely missing sy_stats_agency\n",
      "Brunswick completely missing sy_yrbk_cov\n",
      "Brunswick completely missing sy_yrbk_pub\n",
      "Brunswick completely missing sy_gdp\n",
      "Brunswick completely missing sy_urban\n",
      "Brunswick completely missing sy_lifeex\n",
      "Brunswick completely missing sy_riots\n",
      "Brunswick completely missing sy_war\n",
      "Brunswick completely missing sy_citizenship\n",
      "Brunswick completely missing sy_sch_enrll\n",
      "Brunswick completely missing sy_census_cum\n",
      "Brunswick completely missing sy_xtr_enrll\n",
      "Brunswick completely missing sy_ministry\n",
      "Brunswick completely missing sy_xtr_urban\n",
      "\n",
      "Bulgaria completely missing sy_urban\n",
      "KEPT Bulgaria\n",
      "\n",
      "KEPT Canada\n",
      "\n",
      "KEPT Denmark\n",
      "\n",
      "Fiji completely missing sy_stats_agency\n",
      "Fiji completely missing sy_yrbk_cov\n",
      "Fiji completely missing sy_yrbk_pub\n",
      "Fiji completely missing sy_gdp\n",
      "Fiji completely missing sy_flag\n",
      "Fiji completely missing sy_anthem\n",
      "Fiji completely missing sy_citizenship\n",
      "Fiji completely missing sy_chldlbr\n",
      "Fiji completely missing sy_nat_bank\n",
      "Fiji completely missing sy_census_cum\n",
      "Fiji completely missing sy_ministry\n",
      "Fiji completely missing sy_xtr_urban\n",
      "\n",
      "KEPT Finland\n",
      "\n",
      "KEPT France\n",
      "\n",
      "KEPT Germany\n",
      "\n",
      "KEPT Greece\n",
      "\n",
      "Hamburg completely missing sy_unis\n",
      "Hamburg completely missing sy_pop\n",
      "Hamburg completely missing sy_stats_agency\n",
      "Hamburg completely missing sy_yrbk_cov\n",
      "Hamburg completely missing sy_yrbk_pub\n",
      "Hamburg completely missing sy_gdp\n",
      "Hamburg completely missing sy_urban\n",
      "Hamburg completely missing sy_lifeex\n",
      "Hamburg completely missing sy_riots\n",
      "Hamburg completely missing sy_war\n",
      "Hamburg completely missing sy_citizenship\n",
      "Hamburg completely missing sy_sch_enrll\n",
      "Hamburg completely missing sy_dom_autonomy\n",
      "Hamburg completely missing sy_int_autonomy\n",
      "Hamburg completely missing sy_acad_free\n",
      "Hamburg completely missing sy_estates\n",
      "Hamburg completely missing sy_gender\n",
      "Hamburg completely missing sy_genteel\n",
      "Hamburg completely missing sy_bureau\n",
      "Hamburg completely missing sy_pollib\n",
      "Hamburg completely missing sy_civlib\n",
      "Hamburg completely missing sy_trnsprnt\n",
      "Hamburg completely missing sy_brcrcy\n",
      "Hamburg completely missing sy_client\n",
      "Hamburg completely missing sy_census_cum\n",
      "Hamburg completely missing sy_xtr_enrll\n",
      "Hamburg completely missing sy_ministry\n",
      "Hamburg completely missing sy_xtr_urban\n",
      "\n",
      "Hanover completely missing sy_unis\n",
      "Hanover completely missing sy_pop\n",
      "Hanover completely missing sy_stats_agency\n",
      "Hanover completely missing sy_yrbk_cov\n",
      "Hanover completely missing sy_yrbk_pub\n",
      "Hanover completely missing sy_urban\n",
      "Hanover completely missing sy_lifeex\n",
      "Hanover completely missing sy_riots\n",
      "Hanover completely missing sy_war\n",
      "Hanover completely missing sy_citizenship\n",
      "Hanover completely missing sy_sch_enrll\n",
      "Hanover completely missing sy_census_cum\n",
      "Hanover completely missing sy_xtr_enrll\n",
      "Hanover completely missing sy_ministry\n",
      "Hanover completely missing sy_xtr_urban\n",
      "\n",
      "Hesse-Darmstadt completely missing sy_unis\n",
      "Hesse-Darmstadt completely missing sy_pop\n",
      "Hesse-Darmstadt completely missing sy_stats_agency\n",
      "Hesse-Darmstadt completely missing sy_yrbk_cov\n",
      "Hesse-Darmstadt completely missing sy_yrbk_pub\n",
      "Hesse-Darmstadt completely missing sy_urban\n",
      "Hesse-Darmstadt completely missing sy_lifeex\n",
      "Hesse-Darmstadt completely missing sy_riots\n",
      "Hesse-Darmstadt completely missing sy_war\n",
      "Hesse-Darmstadt completely missing sy_citizenship\n",
      "Hesse-Darmstadt completely missing sy_sch_enrll\n",
      "Hesse-Darmstadt completely missing sy_census_cum\n",
      "Hesse-Darmstadt completely missing sy_xtr_enrll\n",
      "Hesse-Darmstadt completely missing sy_ministry\n",
      "Hesse-Darmstadt completely missing sy_xtr_urban\n",
      "\n",
      "Hesse-Kassel completely missing sy_unis\n",
      "Hesse-Kassel completely missing sy_pop\n",
      "Hesse-Kassel completely missing sy_stats_agency\n",
      "Hesse-Kassel completely missing sy_yrbk_cov\n",
      "Hesse-Kassel completely missing sy_yrbk_pub\n",
      "Hesse-Kassel completely missing sy_urban\n",
      "Hesse-Kassel completely missing sy_lifeex\n",
      "Hesse-Kassel completely missing sy_riots\n",
      "Hesse-Kassel completely missing sy_war\n",
      "Hesse-Kassel completely missing sy_citizenship\n",
      "Hesse-Kassel completely missing sy_sch_enrll\n",
      "Hesse-Kassel completely missing sy_dom_autonomy\n",
      "Hesse-Kassel completely missing sy_int_autonomy\n",
      "Hesse-Kassel completely missing sy_acad_free\n",
      "Hesse-Kassel completely missing sy_estates\n",
      "Hesse-Kassel completely missing sy_gender\n",
      "Hesse-Kassel completely missing sy_genteel\n",
      "Hesse-Kassel completely missing sy_bureau\n",
      "Hesse-Kassel completely missing sy_pollib\n",
      "Hesse-Kassel completely missing sy_civlib\n",
      "Hesse-Kassel completely missing sy_trnsprnt\n",
      "Hesse-Kassel completely missing sy_brcrcy\n",
      "Hesse-Kassel completely missing sy_client\n",
      "Hesse-Kassel completely missing sy_census_cum\n",
      "Hesse-Kassel completely missing sy_xtr_enrll\n",
      "Hesse-Kassel completely missing sy_ministry\n",
      "Hesse-Kassel completely missing sy_xtr_urban\n",
      "\n",
      "Hungary completely missing sy_trnsprnt\n",
      "Hungary completely missing sy_brcrcy\n",
      "KEPT Hungary\n",
      "\n",
      "Iceland completely missing sy_stats_agency\n",
      "Iceland completely missing sy_yrbk_cov\n",
      "Iceland completely missing sy_yrbk_pub\n",
      "Iceland completely missing sy_gdp\n",
      "Iceland completely missing sy_flag\n",
      "Iceland completely missing sy_anthem\n",
      "Iceland completely missing sy_citizenship\n",
      "Iceland completely missing sy_chldlbr\n",
      "Iceland completely missing sy_nat_bank\n",
      "Iceland completely missing sy_bureau\n",
      "Iceland completely missing sy_census_cum\n",
      "Iceland completely missing sy_ministry\n",
      "Iceland completely missing sy_xtr_urban\n",
      "\n",
      "Italy completely missing sy_urban\n",
      "KEPT Italy\n",
      "\n",
      "Luxembourg completely missing sy_stats_agency\n",
      "Luxembourg completely missing sy_yrbk_cov\n",
      "Luxembourg completely missing sy_yrbk_pub\n",
      "Luxembourg completely missing sy_gdp\n",
      "Luxembourg completely missing sy_flag\n",
      "Luxembourg completely missing sy_anthem\n",
      "Luxembourg completely missing sy_citizenship\n",
      "Luxembourg completely missing sy_chldlbr\n",
      "Luxembourg completely missing sy_nat_bank\n",
      "Luxembourg completely missing sy_gender\n",
      "Luxembourg completely missing sy_bureau\n",
      "Luxembourg completely missing sy_trnsprnt\n",
      "Luxembourg completely missing sy_brcrcy\n",
      "Luxembourg completely missing sy_client\n",
      "Luxembourg completely missing sy_census_cum\n",
      "Luxembourg completely missing sy_ministry\n",
      "Luxembourg completely missing sy_xtr_urban\n",
      "\n",
      "Malta completely missing sy_pop\n",
      "Malta completely missing sy_stats_agency\n",
      "Malta completely missing sy_yrbk_cov\n",
      "Malta completely missing sy_yrbk_pub\n",
      "Malta completely missing sy_gdp\n",
      "Malta completely missing sy_urban\n",
      "Malta completely missing sy_flag\n",
      "Malta completely missing sy_anthem\n",
      "Malta completely missing sy_citizenship\n",
      "Malta completely missing sy_chldlbr\n",
      "Malta completely missing sy_sch_enrll\n",
      "Malta completely missing sy_nat_bank\n",
      "Malta completely missing sy_census_cum\n",
      "Malta completely missing sy_xtr_enrll\n",
      "Malta completely missing sy_ministry\n",
      "Malta completely missing sy_xtr_urban\n",
      "\n",
      "Mecklenburg Schwerin completely missing sy_unis\n",
      "Mecklenburg Schwerin completely missing sy_pop\n",
      "Mecklenburg Schwerin completely missing sy_stats_agency\n",
      "Mecklenburg Schwerin completely missing sy_yrbk_cov\n",
      "Mecklenburg Schwerin completely missing sy_yrbk_pub\n",
      "Mecklenburg Schwerin completely missing sy_urban\n",
      "Mecklenburg Schwerin completely missing sy_lifeex\n",
      "Mecklenburg Schwerin completely missing sy_riots\n",
      "Mecklenburg Schwerin completely missing sy_war\n",
      "Mecklenburg Schwerin completely missing sy_citizenship\n",
      "Mecklenburg Schwerin completely missing sy_sch_enrll\n",
      "Mecklenburg Schwerin completely missing sy_census_cum\n",
      "Mecklenburg Schwerin completely missing sy_xtr_enrll\n",
      "Mecklenburg Schwerin completely missing sy_ministry\n",
      "Mecklenburg Schwerin completely missing sy_xtr_urban\n",
      "\n",
      "Modena completely missing sy_unis\n",
      "Modena completely missing sy_pop\n",
      "Modena completely missing sy_stats_agency\n",
      "Modena completely missing sy_yrbk_cov\n",
      "Modena completely missing sy_yrbk_pub\n",
      "Modena completely missing sy_urban\n",
      "Modena completely missing sy_lifeex\n",
      "Modena completely missing sy_riots\n",
      "Modena completely missing sy_war\n",
      "Modena completely missing sy_sch_enrll\n",
      "Modena completely missing sy_client\n",
      "Modena completely missing sy_census_cum\n",
      "Modena completely missing sy_xtr_enrll\n",
      "Modena completely missing sy_ministry\n",
      "Modena completely missing sy_xtr_urban\n",
      "\n",
      "Montenegro completely missing sy_gdp\n",
      "Montenegro completely missing sy_sch_enrll\n",
      "Montenegro completely missing sy_pollib\n",
      "Montenegro completely missing sy_trnsprnt\n",
      "Montenegro completely missing sy_client\n",
      "Montenegro completely missing sy_xtr_enrll\n",
      "Montenegro completely missing sy_ministry\n",
      "Montenegro completely missing sy_xtr_urban\n",
      "\n",
      "Nassau completely missing sy_unis\n",
      "Nassau completely missing sy_pop\n",
      "Nassau completely missing sy_stats_agency\n",
      "Nassau completely missing sy_yrbk_cov\n",
      "Nassau completely missing sy_yrbk_pub\n",
      "Nassau completely missing sy_gdp\n",
      "Nassau completely missing sy_urban\n",
      "Nassau completely missing sy_lifeex\n",
      "Nassau completely missing sy_riots\n",
      "Nassau completely missing sy_war\n",
      "Nassau completely missing sy_citizenship\n",
      "Nassau completely missing sy_sch_enrll\n",
      "Nassau completely missing sy_dom_autonomy\n",
      "Nassau completely missing sy_int_autonomy\n",
      "Nassau completely missing sy_acad_free\n",
      "Nassau completely missing sy_estates\n",
      "Nassau completely missing sy_gender\n",
      "Nassau completely missing sy_genteel\n",
      "Nassau completely missing sy_bureau\n",
      "Nassau completely missing sy_pollib\n",
      "Nassau completely missing sy_civlib\n",
      "Nassau completely missing sy_trnsprnt\n",
      "Nassau completely missing sy_brcrcy\n",
      "Nassau completely missing sy_client\n",
      "Nassau completely missing sy_census_cum\n",
      "Nassau completely missing sy_xtr_enrll\n",
      "Nassau completely missing sy_ministry\n",
      "Nassau completely missing sy_xtr_urban\n",
      "\n",
      "KEPT Netherlands\n",
      "\n",
      "KEPT New Zealand\n",
      "\n",
      "KEPT Norway\n",
      "\n",
      "Oldenburg completely missing sy_unis\n",
      "Oldenburg completely missing sy_pop\n",
      "Oldenburg completely missing sy_stats_agency\n",
      "Oldenburg completely missing sy_yrbk_cov\n",
      "Oldenburg completely missing sy_yrbk_pub\n",
      "Oldenburg completely missing sy_gdp\n",
      "Oldenburg completely missing sy_urban\n",
      "Oldenburg completely missing sy_lifeex\n",
      "Oldenburg completely missing sy_riots\n",
      "Oldenburg completely missing sy_war\n",
      "Oldenburg completely missing sy_citizenship\n",
      "Oldenburg completely missing sy_sch_enrll\n",
      "Oldenburg completely missing sy_client\n",
      "Oldenburg completely missing sy_census_cum\n",
      "Oldenburg completely missing sy_xtr_enrll\n",
      "Oldenburg completely missing sy_ministry\n",
      "Oldenburg completely missing sy_xtr_urban\n",
      "\n",
      "Papal States completely missing sy_unis\n",
      "Papal States completely missing sy_pop\n",
      "Papal States completely missing sy_stats_agency\n",
      "Papal States completely missing sy_yrbk_cov\n",
      "Papal States completely missing sy_yrbk_pub\n",
      "Papal States completely missing sy_urban\n",
      "Papal States completely missing sy_lifeex\n",
      "Papal States completely missing sy_riots\n",
      "Papal States completely missing sy_war\n",
      "Papal States completely missing sy_citizenship\n",
      "Papal States completely missing sy_sch_enrll\n",
      "Papal States completely missing sy_census_cum\n",
      "Papal States completely missing sy_xtr_enrll\n",
      "Papal States completely missing sy_ministry\n",
      "Papal States completely missing sy_xtr_urban\n",
      "\n",
      "Papua New Guinea completely missing sy_pop\n",
      "Papua New Guinea completely missing sy_stats_agency\n",
      "Papua New Guinea completely missing sy_yrbk_cov\n",
      "Papua New Guinea completely missing sy_yrbk_pub\n",
      "Papua New Guinea completely missing sy_gdp\n",
      "Papua New Guinea completely missing sy_urban\n",
      "Papua New Guinea completely missing sy_flag\n",
      "Papua New Guinea completely missing sy_anthem\n",
      "Papua New Guinea completely missing sy_citizenship\n",
      "Papua New Guinea completely missing sy_chldlbr\n",
      "Papua New Guinea completely missing sy_sch_enrll\n",
      "Papua New Guinea completely missing sy_nat_bank\n",
      "Papua New Guinea completely missing sy_bureau\n",
      "Papua New Guinea completely missing sy_census_cum\n",
      "Papua New Guinea completely missing sy_xtr_enrll\n",
      "Papua New Guinea completely missing sy_ministry\n",
      "Papua New Guinea completely missing sy_xtr_urban\n",
      "\n",
      "Parma completely missing sy_unis\n",
      "Parma completely missing sy_pop\n",
      "Parma completely missing sy_stats_agency\n",
      "Parma completely missing sy_yrbk_cov\n",
      "Parma completely missing sy_yrbk_pub\n",
      "Parma completely missing sy_urban\n",
      "Parma completely missing sy_lifeex\n",
      "Parma completely missing sy_riots\n",
      "Parma completely missing sy_war\n",
      "Parma completely missing sy_citizenship\n",
      "Parma completely missing sy_sch_enrll\n",
      "Parma completely missing sy_client\n",
      "Parma completely missing sy_census_cum\n",
      "Parma completely missing sy_xtr_enrll\n",
      "Parma completely missing sy_ministry\n",
      "Parma completely missing sy_xtr_urban\n",
      "\n",
      "Piedmont-Sardinia completely missing sy_unis\n",
      "Piedmont-Sardinia completely missing sy_pop\n",
      "Piedmont-Sardinia completely missing sy_stats_agency\n",
      "Piedmont-Sardinia completely missing sy_yrbk_cov\n",
      "Piedmont-Sardinia completely missing sy_yrbk_pub\n",
      "Piedmont-Sardinia completely missing sy_gdp\n",
      "Piedmont-Sardinia completely missing sy_urban\n",
      "Piedmont-Sardinia completely missing sy_lifeex\n",
      "Piedmont-Sardinia completely missing sy_riots\n",
      "Piedmont-Sardinia completely missing sy_war\n",
      "Piedmont-Sardinia completely missing sy_sch_enrll\n",
      "Piedmont-Sardinia completely missing sy_client\n",
      "Piedmont-Sardinia completely missing sy_census_cum\n",
      "Piedmont-Sardinia completely missing sy_xtr_enrll\n",
      "Piedmont-Sardinia completely missing sy_ministry\n",
      "Piedmont-Sardinia completely missing sy_xtr_urban\n",
      "\n",
      "Poland completely missing sy_urban\n",
      "Poland completely missing sy_client\n",
      "KEPT Poland\n",
      "\n",
      "KEPT Portugal\n",
      "\n",
      "KEPT Romania\n",
      "\n",
      "Russia completely missing sy_pop\n",
      "Russia completely missing sy_urban\n",
      "Russia completely missing sy_sch_enrll\n",
      "Russia completely missing sy_client\n",
      "Russia completely missing sy_xtr_enrll\n",
      "KEPT Russia\n",
      "\n",
      "Saxe-Weimar-Eisenach completely missing sy_unis\n",
      "Saxe-Weimar-Eisenach completely missing sy_pop\n",
      "Saxe-Weimar-Eisenach completely missing sy_stats_agency\n",
      "Saxe-Weimar-Eisenach completely missing sy_yrbk_cov\n",
      "Saxe-Weimar-Eisenach completely missing sy_yrbk_pub\n",
      "Saxe-Weimar-Eisenach completely missing sy_gdp\n",
      "Saxe-Weimar-Eisenach completely missing sy_urban\n",
      "Saxe-Weimar-Eisenach completely missing sy_lifeex\n",
      "Saxe-Weimar-Eisenach completely missing sy_riots\n",
      "Saxe-Weimar-Eisenach completely missing sy_war\n",
      "Saxe-Weimar-Eisenach completely missing sy_citizenship\n",
      "Saxe-Weimar-Eisenach completely missing sy_sch_enrll\n",
      "Saxe-Weimar-Eisenach completely missing sy_census_cum\n",
      "Saxe-Weimar-Eisenach completely missing sy_xtr_enrll\n",
      "Saxe-Weimar-Eisenach completely missing sy_ministry\n",
      "Saxe-Weimar-Eisenach completely missing sy_xtr_urban\n",
      "\n",
      "Saxony completely missing sy_unis\n",
      "Saxony completely missing sy_pop\n",
      "Saxony completely missing sy_stats_agency\n",
      "Saxony completely missing sy_yrbk_cov\n",
      "Saxony completely missing sy_yrbk_pub\n",
      "Saxony completely missing sy_urban\n",
      "Saxony completely missing sy_lifeex\n",
      "Saxony completely missing sy_riots\n",
      "Saxony completely missing sy_war\n",
      "Saxony completely missing sy_citizenship\n",
      "Saxony completely missing sy_sch_enrll\n",
      "Saxony completely missing sy_census_cum\n",
      "Saxony completely missing sy_xtr_enrll\n",
      "Saxony completely missing sy_ministry\n",
      "Saxony completely missing sy_xtr_urban\n",
      "\n",
      "Serbia completely missing sy_urban\n",
      "KEPT Serbia\n",
      "\n",
      "Solomon Islands completely missing sy_unis\n",
      "Solomon Islands completely missing sy_pop\n",
      "Solomon Islands completely missing sy_stats_agency\n",
      "Solomon Islands completely missing sy_yrbk_cov\n",
      "Solomon Islands completely missing sy_yrbk_pub\n",
      "Solomon Islands completely missing sy_gdp\n",
      "Solomon Islands completely missing sy_urban\n",
      "Solomon Islands completely missing sy_flag\n",
      "Solomon Islands completely missing sy_anthem\n",
      "Solomon Islands completely missing sy_citizenship\n",
      "Solomon Islands completely missing sy_chldlbr\n",
      "Solomon Islands completely missing sy_sch_enrll\n",
      "Solomon Islands completely missing sy_nat_bank\n",
      "Solomon Islands completely missing sy_census_cum\n",
      "Solomon Islands completely missing sy_xtr_enrll\n",
      "Solomon Islands completely missing sy_ministry\n",
      "Solomon Islands completely missing sy_xtr_urban\n",
      "\n",
      "KEPT Spain\n",
      "\n",
      "KEPT Sweden\n",
      "\n",
      "KEPT Switzerland\n",
      "\n",
      "Tuscany completely missing sy_unis\n",
      "Tuscany completely missing sy_pop\n",
      "Tuscany completely missing sy_stats_agency\n",
      "Tuscany completely missing sy_yrbk_cov\n",
      "Tuscany completely missing sy_yrbk_pub\n",
      "Tuscany completely missing sy_urban\n",
      "Tuscany completely missing sy_lifeex\n",
      "Tuscany completely missing sy_riots\n",
      "Tuscany completely missing sy_war\n",
      "Tuscany completely missing sy_citizenship\n",
      "Tuscany completely missing sy_sch_enrll\n",
      "Tuscany completely missing sy_client\n",
      "Tuscany completely missing sy_census_cum\n",
      "Tuscany completely missing sy_xtr_enrll\n",
      "Tuscany completely missing sy_ministry\n",
      "Tuscany completely missing sy_xtr_urban\n",
      "\n",
      "Two Sicilies completely missing sy_unis\n",
      "Two Sicilies completely missing sy_pop\n",
      "Two Sicilies completely missing sy_stats_agency\n",
      "Two Sicilies completely missing sy_yrbk_cov\n",
      "Two Sicilies completely missing sy_yrbk_pub\n",
      "Two Sicilies completely missing sy_urban\n",
      "Two Sicilies completely missing sy_lifeex\n",
      "Two Sicilies completely missing sy_riots\n",
      "Two Sicilies completely missing sy_war\n",
      "Two Sicilies completely missing sy_sch_enrll\n",
      "Two Sicilies completely missing sy_census_cum\n",
      "Two Sicilies completely missing sy_xtr_enrll\n",
      "Two Sicilies completely missing sy_ministry\n",
      "Two Sicilies completely missing sy_xtr_urban\n",
      "\n",
      "KEPT United Kingdom\n",
      "\n",
      "KEPT United States of America\n",
      "\n",
      "Vanuatu completely missing sy_unis\n",
      "Vanuatu completely missing sy_pop\n",
      "Vanuatu completely missing sy_stats_agency\n",
      "Vanuatu completely missing sy_yrbk_cov\n",
      "Vanuatu completely missing sy_yrbk_pub\n",
      "Vanuatu completely missing sy_gdp\n",
      "Vanuatu completely missing sy_urban\n",
      "Vanuatu completely missing sy_flag\n",
      "Vanuatu completely missing sy_anthem\n",
      "Vanuatu completely missing sy_citizenship\n",
      "Vanuatu completely missing sy_chldlbr\n",
      "Vanuatu completely missing sy_sch_enrll\n",
      "Vanuatu completely missing sy_nat_bank\n",
      "Vanuatu completely missing sy_census_cum\n",
      "Vanuatu completely missing sy_xtr_enrll\n",
      "Vanuatu completely missing sy_ministry\n",
      "Vanuatu completely missing sy_xtr_urban\n",
      "\n",
      "Würtemberg completely missing sy_unis\n",
      "Würtemberg completely missing sy_pop\n",
      "Würtemberg completely missing sy_stats_agency\n",
      "Würtemberg completely missing sy_yrbk_cov\n",
      "Würtemberg completely missing sy_yrbk_pub\n",
      "Würtemberg completely missing sy_urban\n",
      "Würtemberg completely missing sy_lifeex\n",
      "Würtemberg completely missing sy_riots\n",
      "Würtemberg completely missing sy_war\n",
      "Würtemberg completely missing sy_citizenship\n",
      "Würtemberg completely missing sy_sch_enrll\n",
      "Würtemberg completely missing sy_census_cum\n",
      "Würtemberg completely missing sy_xtr_enrll\n",
      "Würtemberg completely missing sy_ministry\n",
      "Würtemberg completely missing sy_xtr_urban\n",
      "\n",
      "n kept states: 25\n"
     ]
    }
   ],
   "source": [
    "keep_states = []\n",
    "for state, state_df in states_df.groupby('state'):\n",
    "    n_miss = 0\n",
    "    cols = []\n",
    "    for col, val in state_df.isna().sum().items():\n",
    "        if int(round(val / state_df.shape[0])) == int(1):\n",
    "            n_miss += 1\n",
    "            print(state, \"completely missing\", col)\n",
    "            # if col == \"sy_urban\":\n",
    "            #     print(state)\n",
    "    if n_miss < 6: \n",
    "        keep_states.append(state)\n",
    "        print(\"KEPT\", state)\n",
    "    print()\n",
    "# print()\n",
    "print(\"n kept states:\", len(keep_states))"
   ]
  },
  {
   "cell_type": "code",
   "execution_count": 82,
   "metadata": {},
   "outputs": [
    {
     "name": "stdout",
     "output_type": "stream",
     "text": [
      "sy_sch_enrll 20\n",
      "wy_sch_enrll 20\n",
      "wy_confs_ttl 1\n",
      "wy_confs_sci_ref 1\n",
      "wy_confs_sci 1\n",
      "wy_societies 1\n"
     ]
    }
   ],
   "source": [
    "state = \"United States of America\"\n",
    "vs = []\n",
    "for var, val in states_df[states_df['state']==state].isna().sum().items():\n",
    "    if val > 0: \n",
    "        print(var, val)\n",
    "        vs.append(var)"
   ]
  },
  {
   "cell_type": "code",
   "execution_count": 83,
   "metadata": {},
   "outputs": [
    {
     "data": {
      "text/plain": [
       "61"
      ]
     },
     "execution_count": 83,
     "metadata": {},
     "output_type": "execute_result"
    }
   ],
   "source": [
    "states_df[states_df['state']=='Poland'].shape[0]"
   ]
  },
  {
   "cell_type": "code",
   "execution_count": 84,
   "metadata": {},
   "outputs": [
    {
     "data": {
      "text/plain": [
       "(2532, 93)"
      ]
     },
     "execution_count": 84,
     "metadata": {},
     "output_type": "execute_result"
    }
   ],
   "source": [
    "states_df = states_df[states_df['state'].isin(keep_states)]\n",
    "states_df.shape"
   ]
  },
  {
   "cell_type": "markdown",
   "metadata": {},
   "source": [
    "Create a decade dummy"
   ]
  },
  {
   "cell_type": "code",
   "execution_count": 82,
   "metadata": {},
   "outputs": [],
   "source": [
    "states_df['decade'] = pd.cut(states_df['year'], bins=10, labels=[str(i)+'s' for i in range(1820,1915,10)])"
   ]
  },
  {
   "cell_type": "code",
   "execution_count": 85,
   "metadata": {},
   "outputs": [],
   "source": [
    "states_df.to_csv(DATA + \"interim/\" + \"int_19cStates.csv\", index=False)"
   ]
  },
  {
   "cell_type": "code",
   "execution_count": null,
   "metadata": {},
   "outputs": [],
   "source": []
  }
 ],
 "metadata": {
  "kernelspec": {
   "display_name": "Python 3 (ipykernel)",
   "language": "python",
   "name": "python3"
  },
  "language_info": {
   "codemirror_mode": {
    "name": "ipython",
    "version": 3
   },
   "file_extension": ".py",
   "mimetype": "text/x-python",
   "name": "python",
   "nbconvert_exporter": "python",
   "pygments_lexer": "ipython3",
   "version": "3.10.11"
  },
  "toc": {
   "base_numbering": 1,
   "nav_menu": {},
   "number_sections": true,
   "sideBar": false,
   "skip_h1_title": false,
   "title_cell": "Table of Contents",
   "title_sidebar": "Contents",
   "toc_cell": true,
   "toc_position": {},
   "toc_section_display": false,
   "toc_window_display": false
  },
  "toc-autonumbering": true
 },
 "nbformat": 4,
 "nbformat_minor": 4
}
