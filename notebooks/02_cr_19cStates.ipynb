{
 "cells": [
  {
   "cell_type": "markdown",
   "metadata": {},
   "source": [
    "# Goals"
   ]
  },
  {
   "cell_type": "markdown",
   "metadata": {},
   "source": [
    "# Libraries"
   ]
  },
  {
   "cell_type": "code",
   "execution_count": 1,
   "metadata": {
    "tags": []
   },
   "outputs": [],
   "source": [
    "import os\n",
    "import pandas as pd\n",
    "import numpy as np\n",
    "import random\n",
    "import matplotlib.pyplot as plt\n",
    "import statsmodels.api as sm\n",
    "import formulaic\n",
    "import requests\n",
    "import zipfile\n",
    "import io"
   ]
  },
  {
   "cell_type": "markdown",
   "metadata": {},
   "source": [
    "# Parameters & Directories"
   ]
  },
  {
   "cell_type": "code",
   "execution_count": 2,
   "metadata": {},
   "outputs": [],
   "source": [
    "%matplotlib inline\n",
    "%config InlineBackend.figure_format='retina'\n",
    "plt.rcParams[\"figure.figsize\"] = (6,6)\n",
    "plt.rcParams[\"font.family\"] = \"sans-serif\"\n",
    "plt.rcParams['font.sans-serif'] = ['Arial']\n",
    "plt.rcParams[\"font.style\"] = \"normal\"\n",
    "plt.rcParams[\"axes.labelcolor\"] = \"gray\"\n",
    "plt.rcParams[\"text.color\"] = \"grey\"\n",
    "pd.set_option('mode.chained_assignment', None)"
   ]
  },
  {
   "cell_type": "code",
   "execution_count": 3,
   "metadata": {},
   "outputs": [],
   "source": [
    "DIR = os.path.dirname(os.getcwd()) + \"/\"\n",
    "DATA = DIR + \"data/\"\n",
    "REFS = DIR + \"references/\""
   ]
  },
  {
   "cell_type": "markdown",
   "metadata": {},
   "source": [
    "# Prepare Datasets"
   ]
  },
  {
   "cell_type": "markdown",
   "metadata": {},
   "source": [
    "## Varieties of Democracy\n",
    "A dataframe including annual time series describing the world population of states since 1789.\n",
    "\n",
    "Source:\n",
    "- [VDEM Project Description](https://www.v-dem.net/project.html)\n",
    "- [VDEM Dataset Descriptions](https://www.v-dem.net/vdemds.html)\n",
    "- [V12 Data .zip Download Link](https://v-dem.net/media/datasets/Country_Year_V-Dem_Fullothers_CSV_v12.zip) used in `request` below"
   ]
  },
  {
   "cell_type": "markdown",
   "metadata": {},
   "source": [
    "Download Data Archive from VDEM Server"
   ]
  },
  {
   "cell_type": "code",
   "execution_count": 4,
   "metadata": {},
   "outputs": [],
   "source": [
    "# url = \"https://v-dem.net/media/datasets/Country_Year_V-Dem_Fullothers_CSV_v12.zip\"\n",
    "# response = requests.get(url, stream=True)\n",
    "# archive = zipfile.ZipFile(io.BytesIO(response.content))\n",
    "# files = [file for file in archive.namelist() if \"__\" not in file]\n",
    "# pdfs = [file for file in files if 'pdf' in file]\n",
    "# csv = [file for file in files if 'csv' in file][0]"
   ]
  },
  {
   "cell_type": "markdown",
   "metadata": {},
   "source": [
    "Extract Data & References into Directory"
   ]
  },
  {
   "cell_type": "code",
   "execution_count": 5,
   "metadata": {},
   "outputs": [],
   "source": [
    "# CSV = archive.extract(csv, DATA+\"raw/\") # prints path of csv after extracted\n",
    "# for pdf in pdfs: \n",
    "#     archive.extract(pdf, REFS)"
   ]
  },
  {
   "cell_type": "code",
   "execution_count": 6,
   "metadata": {},
   "outputs": [
    {
     "data": {
      "text/plain": [
       "'/Volumes/GoogleDrive-107745440581041782819/My Drive/00_Researching/00_scientization/19cStates/'"
      ]
     },
     "execution_count": 6,
     "metadata": {},
     "output_type": "execute_result"
    }
   ],
   "source": [
    "DIR"
   ]
  },
  {
   "cell_type": "code",
   "execution_count": 7,
   "metadata": {},
   "outputs": [],
   "source": [
    "CSV = DIR + \"data/raw/Country_Year_V-Dem_Full+others_CSV_v12/V-Dem-CY-Full+Others-v12.csv\""
   ]
  },
  {
   "cell_type": "markdown",
   "metadata": {},
   "source": [
    "Read in data"
   ]
  },
  {
   "cell_type": "code",
   "execution_count": 8,
   "metadata": {},
   "outputs": [
    {
     "data": {
      "text/plain": [
       "(27380, 4170)"
      ]
     },
     "execution_count": 8,
     "metadata": {},
     "output_type": "execute_result"
    }
   ],
   "source": [
    "vdem_sy = pd.read_csv(CSV, low_memory=False)\n",
    "vdem_sy.shape"
   ]
  },
  {
   "cell_type": "markdown",
   "metadata": {},
   "source": [
    "\n",
    "Limit data to the 19th Century West"
   ]
  },
  {
   "cell_type": "markdown",
   "metadata": {},
   "source": [
    "Regional Codes:\n",
    "```\n",
    "1: Western Europe\n",
    "2: Northern Europe\n",
    "3: Southern Europe\n",
    "4: Eastern Europe\n",
    "5: Northern Africa\n",
    "6: Western Africa\n",
    "7: Middle Africa\n",
    "8: Eastern Africa\n",
    "9: Southern Africa\n",
    "10: Western Asia\n",
    "11: Central Asia\n",
    "12: Eastern Asia\n",
    "13: South-Eastern Asia\n",
    "14: Southern Asia\n",
    "15: Oceania (including Australia and the Pacific)\n",
    "16: North America\n",
    "17: Central America\n",
    "18: South America\n",
    "19: Caribbean (including Belize, Cuba, Haiti, Dominican Republic and Guyana)\n",
    "```"
   ]
  },
  {
   "cell_type": "code",
   "execution_count": 9,
   "metadata": {},
   "outputs": [
    {
     "data": {
      "text/plain": [
       "(4054, 4170)"
      ]
     },
     "execution_count": 9,
     "metadata": {},
     "output_type": "execute_result"
    }
   ],
   "source": [
    "west = [1,2,3,4,15,16]\n",
    "vdem_sy = vdem_sy.loc[(vdem_sy['year'] < 1915) & (vdem_sy['year'] > 1799)]\n",
    "vdem_sy = vdem_sy[vdem_sy['e_regiongeo'].isin(west)]\n",
    "vdem_sy.shape"
   ]
  },
  {
   "cell_type": "markdown",
   "metadata": {},
   "source": [
    "Rename variables (`sy` = state-year) and keep only a selection."
   ]
  },
  {
   "cell_type": "code",
   "execution_count": 10,
   "metadata": {},
   "outputs": [
    {
     "data": {
      "text/plain": [
       "(4054, 29)"
      ]
     },
     "execution_count": 10,
     "metadata": {},
     "output_type": "execute_result"
    }
   ],
   "source": [
    "select_vars = ['country_name', 'year', 'e_mipopula', 'v2elsuffrage', 'v2canuni',\n",
    "               'v3stcensus', 'v3ststatag', 'v3ststybcov', 'v3ststybpub',\n",
    "               'e_gdppc', 'e_miurbpop', 'e_pelifeex', 'e_miinterc',\n",
    "               'e_miinteco', 'v3stflag', 'v3stnatant', 'v3stcitlaw',\n",
    "               'v2peprisch', 'v3stnatbank', 'v2svdomaut', 'v2svinlaut',\n",
    "               'v2clacfree_ord', 'v2svindep', 'v2svstterr', \n",
    "               'v2pepwrsoc_ord','v2pepwrgen', 'v2pepwrses', 'v2strenadm',\n",
    "               'v3equavolc_0',\n",
    "              ]\n",
    "\n",
    "var_names = ['state', 'year', 'sy_pop', 'sy_suffrage', 'sy_unis', \n",
    "             'sy_census', 'sy_stats_agency', 'sy_yrbk_cov', 'sy_yrbk_pub',\n",
    "             'sy_gdp', 'sy_urban', 'sy_lifeex', 'sy_riots', \n",
    "             'sy_war', 'sy_flag','sy_anthem', 'sy_citizenship', \n",
    "             'sy_sch_enrll', 'sy_nat_bank','sy_dom_autonomy', 'sy_int_autonomy', \n",
    "             'sy_acad_free','sy_indep', 'sy_territory', \n",
    "             'sy_estates', 'sy_gender', 'sy_genteel','sy_bureau',\n",
    "             'sy_eql_vote'\n",
    "            ]\n",
    "\n",
    "var_map = dict(zip(select_vars, var_names))\n",
    "vdem_sy.rename(columns=var_map, inplace=True)\n",
    "vdem_sy = vdem_sy[var_names]\n",
    "vdem_sy.shape"
   ]
  },
  {
   "cell_type": "markdown",
   "metadata": {},
   "source": [
    "Generate a binary indicator series for when a given state had its first census."
   ]
  },
  {
   "cell_type": "code",
   "execution_count": 12,
   "metadata": {},
   "outputs": [],
   "source": [
    "# Gen annual series describing cumulative sum of censuses, by state\n",
    "vdem_sy[\"sy_census_cum\"] = vdem_sy.groupby([\"state\"])[\"sy_census\"].cumsum()\n",
    "\n",
    "# Create dummy variable of first ever\n",
    "vdem_sy[\"sy_census_ever\"] = 0\n",
    "\n",
    "# ID first ever census as when state conducts census and cum censuses is 1\n",
    "vdem_sy.loc[(vdem_sy['sy_census_cum'] != 0), 'sy_census_ever'] = 1\n",
    "\n",
    "# Drop the other census vars\n",
    "vdem_sy.drop([\"sy_census\"], axis=1, inplace=True)"
   ]
  },
  {
   "cell_type": "code",
   "execution_count": 13,
   "metadata": {},
   "outputs": [
    {
     "data": {
      "text/html": [
       "<div>\n",
       "<style scoped>\n",
       "    .dataframe tbody tr th:only-of-type {\n",
       "        vertical-align: middle;\n",
       "    }\n",
       "\n",
       "    .dataframe tbody tr th {\n",
       "        vertical-align: top;\n",
       "    }\n",
       "\n",
       "    .dataframe thead th {\n",
       "        text-align: right;\n",
       "    }\n",
       "</style>\n",
       "<table border=\"1\" class=\"dataframe\">\n",
       "  <thead>\n",
       "    <tr style=\"text-align: right;\">\n",
       "      <th></th>\n",
       "      <th>year</th>\n",
       "      <th>state</th>\n",
       "      <th>sy_census_cum</th>\n",
       "      <th>sy_census_ever</th>\n",
       "    </tr>\n",
       "  </thead>\n",
       "  <tbody>\n",
       "    <tr>\n",
       "      <th>366</th>\n",
       "      <td>1800</td>\n",
       "      <td>Sweden</td>\n",
       "      <td>1.0</td>\n",
       "      <td>1</td>\n",
       "    </tr>\n",
       "    <tr>\n",
       "      <th>367</th>\n",
       "      <td>1801</td>\n",
       "      <td>Sweden</td>\n",
       "      <td>1.0</td>\n",
       "      <td>1</td>\n",
       "    </tr>\n",
       "    <tr>\n",
       "      <th>368</th>\n",
       "      <td>1802</td>\n",
       "      <td>Sweden</td>\n",
       "      <td>1.0</td>\n",
       "      <td>1</td>\n",
       "    </tr>\n",
       "    <tr>\n",
       "      <th>369</th>\n",
       "      <td>1803</td>\n",
       "      <td>Sweden</td>\n",
       "      <td>1.0</td>\n",
       "      <td>1</td>\n",
       "    </tr>\n",
       "    <tr>\n",
       "      <th>370</th>\n",
       "      <td>1804</td>\n",
       "      <td>Sweden</td>\n",
       "      <td>1.0</td>\n",
       "      <td>1</td>\n",
       "    </tr>\n",
       "    <tr>\n",
       "      <th>...</th>\n",
       "      <td>...</td>\n",
       "      <td>...</td>\n",
       "      <td>...</td>\n",
       "      <td>...</td>\n",
       "    </tr>\n",
       "    <tr>\n",
       "      <th>27375</th>\n",
       "      <td>1857</td>\n",
       "      <td>Piedmont-Sardinia</td>\n",
       "      <td>NaN</td>\n",
       "      <td>1</td>\n",
       "    </tr>\n",
       "    <tr>\n",
       "      <th>27376</th>\n",
       "      <td>1858</td>\n",
       "      <td>Piedmont-Sardinia</td>\n",
       "      <td>NaN</td>\n",
       "      <td>1</td>\n",
       "    </tr>\n",
       "    <tr>\n",
       "      <th>27377</th>\n",
       "      <td>1859</td>\n",
       "      <td>Piedmont-Sardinia</td>\n",
       "      <td>NaN</td>\n",
       "      <td>1</td>\n",
       "    </tr>\n",
       "    <tr>\n",
       "      <th>27378</th>\n",
       "      <td>1860</td>\n",
       "      <td>Piedmont-Sardinia</td>\n",
       "      <td>NaN</td>\n",
       "      <td>1</td>\n",
       "    </tr>\n",
       "    <tr>\n",
       "      <th>27379</th>\n",
       "      <td>1861</td>\n",
       "      <td>Piedmont-Sardinia</td>\n",
       "      <td>NaN</td>\n",
       "      <td>1</td>\n",
       "    </tr>\n",
       "  </tbody>\n",
       "</table>\n",
       "<p>4054 rows × 4 columns</p>\n",
       "</div>"
      ],
      "text/plain": [
       "       year              state  sy_census_cum  sy_census_ever\n",
       "366    1800             Sweden            1.0               1\n",
       "367    1801             Sweden            1.0               1\n",
       "368    1802             Sweden            1.0               1\n",
       "369    1803             Sweden            1.0               1\n",
       "370    1804             Sweden            1.0               1\n",
       "...     ...                ...            ...             ...\n",
       "27375  1857  Piedmont-Sardinia            NaN               1\n",
       "27376  1858  Piedmont-Sardinia            NaN               1\n",
       "27377  1859  Piedmont-Sardinia            NaN               1\n",
       "27378  1860  Piedmont-Sardinia            NaN               1\n",
       "27379  1861  Piedmont-Sardinia            NaN               1\n",
       "\n",
       "[4054 rows x 4 columns]"
      ]
     },
     "execution_count": 13,
     "metadata": {},
     "output_type": "execute_result"
    }
   ],
   "source": [
    "vdem_sy[['year', 'state', 'sy_census_cum', 'sy_census_ever']]"
   ]
  },
  {
   "cell_type": "code",
   "execution_count": 14,
   "metadata": {},
   "outputs": [],
   "source": [
    "vdem_sy = vdem_sy.merge(vdem_sy.groupby(\"year\", as_index=False)['state'].size().rename(columns={\"size\": \"wy_nstates\"}), on=\"year\")"
   ]
  },
  {
   "cell_type": "markdown",
   "metadata": {},
   "source": [
    "Extrapolate pre-1819 school enrollment rates using the slope of enrollment on year, 1819–1824"
   ]
  },
  {
   "cell_type": "code",
   "execution_count": 15,
   "metadata": {},
   "outputs": [],
   "source": [
    "# excerpt earliest 5 years of enrollment\n",
    "vdem_xcrpt = vdem_sy[(vdem_sy['year']>1819) & (vdem_sy['year']<1839)][['state', 'sy_sch_enrll', 'year']]\n",
    "enrlls = []\n",
    "# loop through each state\n",
    "for state, df in vdem_xcrpt.groupby(\"state\"):\n",
    "    # transform enrollment & year series into matrices\n",
    "    y, X = formulaic.Formula('sy_sch_enrll ~ year').get_model_matrix(df)\n",
    "    # fit OLS model of enrollment on year\n",
    "    try:\n",
    "        betas = sm.OLS(y, X, missing=\"drop\").fit().params\n",
    "    except:\n",
    "        pass\n",
    "    # predict missing years based on slope of year on enrollment, 1819-1824\n",
    "    for yr in range(1800,1820,1):\n",
    "        enrll = betas.year * yr + betas.Intercept\n",
    "        if enrll > 0:\n",
    "            enrlls.append((yr, state, enrll))\n",
    "        else:\n",
    "            enrlls.append((yr, state, 0))"
   ]
  },
  {
   "cell_type": "code",
   "execution_count": 16,
   "metadata": {},
   "outputs": [
    {
     "data": {
      "text/html": [
       "<div>\n",
       "<style scoped>\n",
       "    .dataframe tbody tr th:only-of-type {\n",
       "        vertical-align: middle;\n",
       "    }\n",
       "\n",
       "    .dataframe tbody tr th {\n",
       "        vertical-align: top;\n",
       "    }\n",
       "\n",
       "    .dataframe thead th {\n",
       "        text-align: right;\n",
       "    }\n",
       "</style>\n",
       "<table border=\"1\" class=\"dataframe\">\n",
       "  <thead>\n",
       "    <tr style=\"text-align: right;\">\n",
       "      <th></th>\n",
       "      <th>state</th>\n",
       "      <th>year</th>\n",
       "      <th>sy_sch_enrll</th>\n",
       "      <th>sy_xtr_enrll</th>\n",
       "    </tr>\n",
       "  </thead>\n",
       "  <tbody>\n",
       "    <tr>\n",
       "      <th>3958</th>\n",
       "      <td>Albania</td>\n",
       "      <td>1912</td>\n",
       "      <td>13.342</td>\n",
       "      <td>13.342000</td>\n",
       "    </tr>\n",
       "    <tr>\n",
       "      <th>3991</th>\n",
       "      <td>Albania</td>\n",
       "      <td>1913</td>\n",
       "      <td>13.932</td>\n",
       "      <td>13.932000</td>\n",
       "    </tr>\n",
       "    <tr>\n",
       "      <th>4024</th>\n",
       "      <td>Albania</td>\n",
       "      <td>1914</td>\n",
       "      <td>14.522</td>\n",
       "      <td>14.522000</td>\n",
       "    </tr>\n",
       "    <tr>\n",
       "      <th>5</th>\n",
       "      <td>Australia</td>\n",
       "      <td>1800</td>\n",
       "      <td>NaN</td>\n",
       "      <td>22.742874</td>\n",
       "    </tr>\n",
       "    <tr>\n",
       "      <th>38</th>\n",
       "      <td>Australia</td>\n",
       "      <td>1801</td>\n",
       "      <td>NaN</td>\n",
       "      <td>23.294116</td>\n",
       "    </tr>\n",
       "    <tr>\n",
       "      <th>...</th>\n",
       "      <td>...</td>\n",
       "      <td>...</td>\n",
       "      <td>...</td>\n",
       "      <td>...</td>\n",
       "    </tr>\n",
       "    <tr>\n",
       "      <th>2722</th>\n",
       "      <td>Würtemberg</td>\n",
       "      <td>1867</td>\n",
       "      <td>NaN</td>\n",
       "      <td>NaN</td>\n",
       "    </tr>\n",
       "    <tr>\n",
       "      <th>2757</th>\n",
       "      <td>Würtemberg</td>\n",
       "      <td>1868</td>\n",
       "      <td>NaN</td>\n",
       "      <td>NaN</td>\n",
       "    </tr>\n",
       "    <tr>\n",
       "      <th>2787</th>\n",
       "      <td>Würtemberg</td>\n",
       "      <td>1869</td>\n",
       "      <td>NaN</td>\n",
       "      <td>NaN</td>\n",
       "    </tr>\n",
       "    <tr>\n",
       "      <th>2817</th>\n",
       "      <td>Würtemberg</td>\n",
       "      <td>1870</td>\n",
       "      <td>NaN</td>\n",
       "      <td>NaN</td>\n",
       "    </tr>\n",
       "    <tr>\n",
       "      <th>2847</th>\n",
       "      <td>Würtemberg</td>\n",
       "      <td>1871</td>\n",
       "      <td>NaN</td>\n",
       "      <td>NaN</td>\n",
       "    </tr>\n",
       "  </tbody>\n",
       "</table>\n",
       "<p>4054 rows × 4 columns</p>\n",
       "</div>"
      ],
      "text/plain": [
       "           state  year  sy_sch_enrll  sy_xtr_enrll\n",
       "3958     Albania  1912        13.342     13.342000\n",
       "3991     Albania  1913        13.932     13.932000\n",
       "4024     Albania  1914        14.522     14.522000\n",
       "5      Australia  1800           NaN     22.742874\n",
       "38     Australia  1801           NaN     23.294116\n",
       "...          ...   ...           ...           ...\n",
       "2722  Würtemberg  1867           NaN           NaN\n",
       "2757  Würtemberg  1868           NaN           NaN\n",
       "2787  Würtemberg  1869           NaN           NaN\n",
       "2817  Würtemberg  1870           NaN           NaN\n",
       "2847  Würtemberg  1871           NaN           NaN\n",
       "\n",
       "[4054 rows x 4 columns]"
      ]
     },
     "execution_count": 16,
     "metadata": {},
     "output_type": "execute_result"
    }
   ],
   "source": [
    "# create new data frame with original enrollment + new extrapolated enrollment\n",
    "xtr_sy_enrll = vdem_sy.merge(pd.DataFrame.from_records(enrlls, columns=[\"year\", \"state\", \"early_enrll\"]), how=\"left\", on=['year', 'state'])[[\"year\",\"state\",\"sy_sch_enrll\", \"early_enrll\"]]\n",
    "\n",
    "\n",
    "vdem_sy['sy_xtr_enrll'] = xtr_sy_enrll['sy_sch_enrll'].replace('', pd.NA).fillna(xtr_sy_enrll['early_enrll'])\n",
    "vdem_sy[[\"state\", \"year\", \"sy_sch_enrll\",\"sy_xtr_enrll\"]].sort_values(by=[\"state\", \"year\"])"
   ]
  },
  {
   "cell_type": "markdown",
   "metadata": {},
   "source": [
    "Visualize extrapolated enrollment rates"
   ]
  },
  {
   "cell_type": "code",
   "execution_count": 17,
   "metadata": {},
   "outputs": [
    {
     "data": {
      "image/png": "[encoded data removed]",
      "text/plain": [
       "<Figure size 600x600 with 1 Axes>"
      ]
     },
     "metadata": {
      "image/png": {
       "height": 504,
       "width": 510
      }
     },
     "output_type": "display_data"
    }
   ],
   "source": [
    "plt.plot(list(set(vdem_sy[\"year\"].values)),\n",
    "         vdem_sy.groupby(\"year\")[\"sy_xtr_enrll\"].mean(),\n",
    "         linestyle=\"--\",\n",
    "         label = \"extrapolated\")\n",
    "plt.plot(list(set(vdem_sy[\"year\"].values)),\n",
    "         vdem_sy.groupby(\"year\")[\"sy_sch_enrll\"].mean(),\n",
    "         label = \"observed\")\n",
    "plt.legend(loc=\"lower right\")\n",
    "plt.text(1801, vdem_sy.groupby(\"year\")[\"sy_sch_enrll\"].mean().max(), \"World Average Enrollment Rates\")\n",
    "plt.show()"
   ]
  },
  {
   "cell_type": "code",
   "execution_count": 18,
   "metadata": {},
   "outputs": [
    {
     "data": {
      "image/png": "[encoded data removed]",
      "text/plain": [
       "<Figure size 600x600 with 1 Axes>"
      ]
     },
     "metadata": {
      "image/png": {
       "height": 504,
       "width": 502
      }
     },
     "output_type": "display_data"
    }
   ],
   "source": [
    "pick1 = random.choice(vdem_sy['state'].values)\n",
    "pick1_df = vdem_sy[vdem_sy['state']==pick1][[\"year\", \"sy_xtr_enrll\", \"sy_sch_enrll\"]]\n",
    "plt.plot(pick1_df['year'],\n",
    "         pick1_df['sy_xtr_enrll'],\n",
    "         linestyle=\"--\",\n",
    "         label = \"extrapolated\")\n",
    "plt.plot(pick1_df['year'],\n",
    "         pick1_df[\"sy_sch_enrll\"],\n",
    "         label = \"observed\")\n",
    "plt.legend(loc=\"lower right\")\n",
    "plt.text(pick1_df['year'].min()+1,\n",
    "         vdem_sy[vdem_sy['state']==pick1][\"sy_xtr_enrll\"].max(),\n",
    "         \"{}'s Enrollment Rates\".format(pick1))\n",
    "plt.show()"
   ]
  },
  {
   "cell_type": "markdown",
   "metadata": {},
   "source": [
    "Recode"
   ]
  },
  {
   "cell_type": "markdown",
   "metadata": {},
   "source": [
    "Autonomy\n",
    "```\n",
    "0: Non-autonomous. Foreign policy is controlled by an external power, either de facto or de jure. The most common examples of this are colonial rule and military occupation (e.g. quadripartite occupation of Germany in 1945). Situations in which domestic actors provide de jure cover for de facto control by a foreign power should not be construed as semi-autonomy (e.g. Vichy France). Governments in exile that control underground forces waging unconventional warfare are not considered as mitigating an occupation regime (e.g. countries under German occupation during WWII).\n",
    "1: Semi-autonomous. An external political actor directly constrains the ability of domestic actors to pursue an independent foreign policy course in some important areas. This may be the product of explicit treaty provisions or well-understood rules of the game from which the subject state cannot withdraw. Examples would include Soviet strictures over rule in so-called \"satellite\" states in Eastern Europe, and explicitly negotiated postwar settlements (e.g. Austria following WWII).\n",
    "2: Autonomous. Domestic political actors exercise foreign policy free of the direct control of external political actors. Direct control is meant to exclude the exercise of constraint or the impact of interdependence in the international system. Treaties in which states concede some part of that control to a supra- or international organization voluntarily, and from which there is a possibility of exit should not be interpreted as a violation of autonomy.\n",
    "```\n",
    "\n",
    "Bureaucratic remuneration\n",
    "```\n",
    "0: None or almost none are salaried state employees. \n",
    "1: A small share is salaried state employees.\n",
    "2. About half are salaried state employees.\n",
    "3: A substantial number are salaried state employees. \n",
    "4: All or almost all are salaried state employees.\n",
    "```\n",
    "\n",
    "Power distributed by social groups\n",
    "```\n",
    "0: Political power is monopolized by one social group comprising a minority of the population. This monopoly is institutionalized, i.e., not subject to frequent change.\n",
    "1: Political power is monopolized by several social groups comprising a minority of the population. This monopoly is institutionalized, i.e., not subject to frequent change.\n",
    "2: Political power is monopolized by several social groups comprising a majority of the population. This monopoly is institutionalized, i.e., not subject to frequent change.\n",
    "3: Either all social groups possess some political power, with some groups having more power than others; or different social groups alternate in power, with one group controlling much of the political power for a period of time, followed by another — but all significant groups have a turn at the seat of power.\n",
    "4: All social groups have roughly equal political power or there are no strong ethnic, caste, linguistic, racial, religious, or regional differences to speak of. Social group characteristics are not relevant to politics.\n",
    "```\n",
    "\n",
    "Freedom of academic and cultural expression\n",
    "```\n",
    "0: Not respected by public authorities. Censorship and intimidation are frequent. Academic activities and cultural expressions are severely restricted or controlled by the government.\n",
    "1: Weakly respected by public authorities. Academic freedom and freedom of cultural expression are practiced occasionally, but direct criticism of the government is mostly met with repression.\n",
    "2: Somewhat respected by public authorities. Academic freedom and freedom of cultural expression are practiced routinely, but strong criticism of the government is sometimes met with repression.\n",
    "3: Mostly respected by public authorities. There are few limitations on academic freedom and freedom of cultural expression, and resulting sanctions tend to be infrequent and soft.\n",
    "4: Fully respected by public authorities. There are no restrictions on academic freedom or cultural expression.\n",
    "```"
   ]
  },
  {
   "cell_type": "code",
   "execution_count": 19,
   "metadata": {},
   "outputs": [],
   "source": [
    "vdem_sy[\"sy_dom_autonomy_b\"] = np.where(vdem_sy['sy_dom_autonomy'] < 1, 0, 1)\n",
    "vdem_sy[\"sy_int_autonomy_b\"] = np.where(vdem_sy['sy_int_autonomy'] < 1, 0, 1)"
   ]
  },
  {
   "cell_type": "code",
   "execution_count": 20,
   "metadata": {},
   "outputs": [],
   "source": [
    "vdem_sy[\"sy_bureau_b\"] = np.where(vdem_sy['sy_bureau'] < 1, 0, 1)\n",
    "vdem_sy[\"sy_estates_b\"] = np.where(vdem_sy['sy_estates'] < 2, 0, 1)"
   ]
  },
  {
   "cell_type": "code",
   "execution_count": 21,
   "metadata": {},
   "outputs": [],
   "source": [
    "vdem_sy[\"sy_acad_free_b\"] = np.where(vdem_sy['sy_acad_free'] < 1, 0, 1)"
   ]
  },
  {
   "cell_type": "markdown",
   "metadata": {},
   "source": [
    "Create world-level means of state-level series for each state, minus itself"
   ]
  },
  {
   "cell_type": "code",
   "execution_count": 22,
   "metadata": {},
   "outputs": [],
   "source": [
    "state_dfs = []\n",
    "for state in set(vdem_sy['state']):\n",
    "\n",
    "    # exclude current state from df\n",
    "    wrld_df = vdem_sy[vdem_sy['state']!=state]\n",
    "    state_sy = vdem_sy[vdem_sy['state'] == state]\n",
    "\n",
    "    # remove world-year series\n",
    "    exclude = vdem_sy.columns.str.startswith('wy')\n",
    "    wrld_df = vdem_sy.loc[:,~exclude]\n",
    "    var_map = {}\n",
    "\n",
    "    # rename columns to reflect world year\n",
    "    for col in wrld_df.columns:\n",
    "        if \"sy_\" in col:\n",
    "            wy = col.replace(\"sy_\", \"wy_\")\n",
    "            var_map[col] = wy\n",
    "        else:\n",
    "            var_map[col] = col\n",
    "    wrld_df.rename(columns=var_map, inplace=True)\n",
    "\n",
    "    # compute world-year series by averaging all countries in a year\n",
    "    wrld_df = wrld_df.groupby(\"year\", as_index=False).mean()\n",
    "\n",
    "    # merge omitted state's world env df to its cy df\n",
    "    state_sy = state_sy.merge(wrld_df, how='left', on=['year'])\n",
    "\n",
    "    state_dfs.append(state_sy)"
   ]
  },
  {
   "cell_type": "markdown",
   "metadata": {},
   "source": [
    "Create states data frame with state- and world-level series"
   ]
  },
  {
   "cell_type": "code",
   "execution_count": 23,
   "metadata": {},
   "outputs": [],
   "source": [
    "states_df = pd.concat(state_dfs, ignore_index=True)"
   ]
  },
  {
   "cell_type": "code",
   "execution_count": 24,
   "metadata": {},
   "outputs": [
    {
     "name": "stdout",
     "output_type": "stream",
     "text": [
      "['Albania', 'Australia', 'Austria', 'Baden', 'Bavaria', 'Belgium', 'Brunswick', 'Bulgaria', 'Canada', 'Denmark', 'Fiji', 'Finland', 'France', 'Germany', 'Greece', 'Hamburg', 'Hanover', 'Hesse-Darmstadt', 'Hesse-Kassel', 'Hungary', 'Iceland', 'Italy', 'Luxembourg', 'Malta', 'Mecklenburg Schwerin', 'Modena', 'Montenegro', 'Nassau', 'Netherlands', 'New Zealand', 'Norway', 'Oldenburg', 'Papal States', 'Papua New Guinea', 'Parma', 'Piedmont-Sardinia', 'Poland', 'Portugal', 'Romania', 'Russia', 'Saxe-Weimar-Eisenach', 'Saxony', 'Serbia', 'Solomon Islands', 'Spain', 'Sweden', 'Switzerland', 'Tuscany', 'Two Sicilies', 'United Kingdom', 'United States of America', 'Vanuatu', 'Würtemberg'] \n",
      "\n",
      " 53 states in total\n"
     ]
    }
   ],
   "source": [
    "print(sorted(set(states_df['state'])), '\\n\\n',\n",
    "      len(set(states_df['state'])), 'states in total')"
   ]
  },
  {
   "cell_type": "code",
   "execution_count": 25,
   "metadata": {},
   "outputs": [
    {
     "data": {
      "text/plain": [
       "1800"
      ]
     },
     "execution_count": 25,
     "metadata": {},
     "output_type": "execute_result"
    }
   ],
   "source": [
    "states_df['year'].min()"
   ]
  },
  {
   "cell_type": "code",
   "execution_count": 26,
   "metadata": {},
   "outputs": [
    {
     "data": {
      "text/plain": [
       "1914"
      ]
     },
     "execution_count": 26,
     "metadata": {},
     "output_type": "execute_result"
    }
   ],
   "source": [
    "states_df['year'].max()"
   ]
  },
  {
   "cell_type": "markdown",
   "metadata": {},
   "source": [
    "## Statistics societies\n",
    "A dataframe that includes two annual times series describing the number of statistics societies foundings and the cumulative number of statistics societies worldwide.\n",
    "\n",
    "Sources:\n",
    "- Willcox, W. F. (1934). Note on the Chronology of Statistical Societies. Journal of the American Statistical Association, 29(188). [DOI](https://doi.org/10.1080/01621459.1934.10503258)\n",
    "- Fitzpatrick, P. J. (1957). Statistical Societies in the United States the Nineteenth Century. The American Statistician, 11(5). [DOI](https://doi.org/10.1080/00031305.1957.10481745)"
   ]
  },
  {
   "cell_type": "markdown",
   "metadata": {},
   "source": [
    "Read in data"
   ]
  },
  {
   "cell_type": "code",
   "execution_count": 27,
   "metadata": {},
   "outputs": [
    {
     "data": {
      "text/html": [
       "<div>\n",
       "<style scoped>\n",
       "    .dataframe tbody tr th:only-of-type {\n",
       "        vertical-align: middle;\n",
       "    }\n",
       "\n",
       "    .dataframe tbody tr th {\n",
       "        vertical-align: top;\n",
       "    }\n",
       "\n",
       "    .dataframe thead th {\n",
       "        text-align: right;\n",
       "    }\n",
       "</style>\n",
       "<table border=\"1\" class=\"dataframe\">\n",
       "  <thead>\n",
       "    <tr style=\"text-align: right;\">\n",
       "      <th></th>\n",
       "      <th>year</th>\n",
       "      <th>n_societies</th>\n",
       "      <th>all_societies</th>\n",
       "    </tr>\n",
       "  </thead>\n",
       "  <tbody>\n",
       "    <tr>\n",
       "      <th>0</th>\n",
       "      <td>1800</td>\n",
       "      <td>1</td>\n",
       "      <td>1</td>\n",
       "    </tr>\n",
       "    <tr>\n",
       "      <th>1</th>\n",
       "      <td>1801</td>\n",
       "      <td>0</td>\n",
       "      <td>1</td>\n",
       "    </tr>\n",
       "    <tr>\n",
       "      <th>2</th>\n",
       "      <td>1802</td>\n",
       "      <td>0</td>\n",
       "      <td>1</td>\n",
       "    </tr>\n",
       "    <tr>\n",
       "      <th>3</th>\n",
       "      <td>1803</td>\n",
       "      <td>1</td>\n",
       "      <td>2</td>\n",
       "    </tr>\n",
       "    <tr>\n",
       "      <th>4</th>\n",
       "      <td>1804</td>\n",
       "      <td>0</td>\n",
       "      <td>2</td>\n",
       "    </tr>\n",
       "  </tbody>\n",
       "</table>\n",
       "</div>"
      ],
      "text/plain": [
       "   year  n_societies  all_societies\n",
       "0  1800            1              1\n",
       "1  1801            0              1\n",
       "2  1802            0              1\n",
       "3  1803            1              2\n",
       "4  1804            0              2"
      ]
     },
     "execution_count": 27,
     "metadata": {},
     "output_type": "execute_result"
    }
   ],
   "source": [
    "societies_wy = pd.read_csv(DATA+\"raw/societies.csv\")\n",
    "societies_wy.head()"
   ]
  },
  {
   "cell_type": "markdown",
   "metadata": {},
   "source": [
    "Clean variables"
   ]
  },
  {
   "cell_type": "code",
   "execution_count": 28,
   "metadata": {},
   "outputs": [
    {
     "data": {
      "text/html": [
       "<div>\n",
       "<style scoped>\n",
       "    .dataframe tbody tr th:only-of-type {\n",
       "        vertical-align: middle;\n",
       "    }\n",
       "\n",
       "    .dataframe tbody tr th {\n",
       "        vertical-align: top;\n",
       "    }\n",
       "\n",
       "    .dataframe thead th {\n",
       "        text-align: right;\n",
       "    }\n",
       "</style>\n",
       "<table border=\"1\" class=\"dataframe\">\n",
       "  <thead>\n",
       "    <tr style=\"text-align: right;\">\n",
       "      <th></th>\n",
       "      <th>year</th>\n",
       "      <th>wy_societies</th>\n",
       "    </tr>\n",
       "  </thead>\n",
       "  <tbody>\n",
       "    <tr>\n",
       "      <th>0</th>\n",
       "      <td>1800</td>\n",
       "      <td>1</td>\n",
       "    </tr>\n",
       "    <tr>\n",
       "      <th>1</th>\n",
       "      <td>1801</td>\n",
       "      <td>1</td>\n",
       "    </tr>\n",
       "    <tr>\n",
       "      <th>2</th>\n",
       "      <td>1802</td>\n",
       "      <td>1</td>\n",
       "    </tr>\n",
       "    <tr>\n",
       "      <th>3</th>\n",
       "      <td>1803</td>\n",
       "      <td>2</td>\n",
       "    </tr>\n",
       "    <tr>\n",
       "      <th>4</th>\n",
       "      <td>1804</td>\n",
       "      <td>2</td>\n",
       "    </tr>\n",
       "  </tbody>\n",
       "</table>\n",
       "</div>"
      ],
      "text/plain": [
       "   year  wy_societies\n",
       "0  1800             1\n",
       "1  1801             1\n",
       "2  1802             1\n",
       "3  1803             2\n",
       "4  1804             2"
      ]
     },
     "execution_count": 28,
     "metadata": {},
     "output_type": "execute_result"
    }
   ],
   "source": [
    "rename = {\"all_societies\": \"wy_societies\"}\n",
    "societies_wy = societies_wy.rename(columns=rename)\n",
    "societies_wy.drop([\"n_societies\"], axis=1, inplace=True)\n",
    "societies_wy.head()"
   ]
  },
  {
   "cell_type": "markdown",
   "metadata": {},
   "source": [
    "\n",
    "## World Congresses\n",
    "An annual time series describing the number of international conferences hosted in a state, with specific reference to social science and social reform. See notebook `cr_congresses_sy` for processing.\n",
    "\n",
    "Data Sources:\n",
    "- UIA (1960) Les Congrès Internationaux de 1681 à 1899 Liste Complète / International Congresses 1681 to 1899 Full List. Bruxelles: Union of International Associations.\n",
    "- UIA (1964) Les Congrès Internationaux de 1900 à 1919 Liste Complète / International Congresses 1900 to 1913 Full List. Bruxelles: Union of International Associations. [Stanford SearchWorks Catalogue](https://searchworks.stanford.edu/view/1830221)\n",
    "\n",
    "Secondary Source:\n",
    "- Leonards, Chris, and Nico Randeraad (2010) “Transnational Experts in Social Reform, 1840–1880.” International Review of Social History 55 (2): 215–39. [DOI](https://doi.org/10.1017/S0020859010000179)\n"
   ]
  },
  {
   "cell_type": "markdown",
   "metadata": {},
   "source": [
    "Read in congress data"
   ]
  },
  {
   "cell_type": "code",
   "execution_count": 29,
   "metadata": {},
   "outputs": [],
   "source": [
    "congresses_sy = pd.read_csv(DATA + \"interim/\" + \"19c_congresses_sy.csv\")"
   ]
  },
  {
   "cell_type": "markdown",
   "metadata": {},
   "source": [
    "Clean data"
   ]
  },
  {
   "cell_type": "code",
   "execution_count": 30,
   "metadata": {
    "collapsed": false,
    "jupyter": {
     "outputs_hidden": false
    }
   },
   "outputs": [
    {
     "data": {
      "text/html": [
       "<div>\n",
       "<style scoped>\n",
       "    .dataframe tbody tr th:only-of-type {\n",
       "        vertical-align: middle;\n",
       "    }\n",
       "\n",
       "    .dataframe tbody tr th {\n",
       "        vertical-align: top;\n",
       "    }\n",
       "\n",
       "    .dataframe thead th {\n",
       "        text-align: right;\n",
       "    }\n",
       "</style>\n",
       "<table border=\"1\" class=\"dataframe\">\n",
       "  <thead>\n",
       "    <tr style=\"text-align: right;\">\n",
       "      <th></th>\n",
       "      <th>year</th>\n",
       "      <th>state</th>\n",
       "      <th>sy_confs_ttl</th>\n",
       "      <th>sy_confs_sci_ref</th>\n",
       "      <th>sy_confs_sci</th>\n",
       "    </tr>\n",
       "  </thead>\n",
       "  <tbody>\n",
       "    <tr>\n",
       "      <th>304</th>\n",
       "      <td>1808</td>\n",
       "      <td>Canada</td>\n",
       "      <td>0</td>\n",
       "      <td>0</td>\n",
       "      <td>0</td>\n",
       "    </tr>\n",
       "    <tr>\n",
       "      <th>1604</th>\n",
       "      <td>1843</td>\n",
       "      <td>Germany</td>\n",
       "      <td>0</td>\n",
       "      <td>0</td>\n",
       "      <td>0</td>\n",
       "    </tr>\n",
       "    <tr>\n",
       "      <th>2695</th>\n",
       "      <td>1872</td>\n",
       "      <td>Sweden</td>\n",
       "      <td>0</td>\n",
       "      <td>0</td>\n",
       "      <td>0</td>\n",
       "    </tr>\n",
       "    <tr>\n",
       "      <th>3005</th>\n",
       "      <td>1881</td>\n",
       "      <td>Canada</td>\n",
       "      <td>0</td>\n",
       "      <td>0</td>\n",
       "      <td>0</td>\n",
       "    </tr>\n",
       "    <tr>\n",
       "      <th>2031</th>\n",
       "      <td>1854</td>\n",
       "      <td>Tunisia</td>\n",
       "      <td>0</td>\n",
       "      <td>0</td>\n",
       "      <td>0</td>\n",
       "    </tr>\n",
       "  </tbody>\n",
       "</table>\n",
       "</div>"
      ],
      "text/plain": [
       "      year    state  sy_confs_ttl  sy_confs_sci_ref  sy_confs_sci\n",
       "304   1808   Canada             0                 0             0\n",
       "1604  1843  Germany             0                 0             0\n",
       "2695  1872   Sweden             0                 0             0\n",
       "3005  1881   Canada             0                 0             0\n",
       "2031  1854  Tunisia             0                 0             0"
      ]
     },
     "execution_count": 30,
     "metadata": {},
     "output_type": "execute_result"
    }
   ],
   "source": [
    "congresses_sy = congresses_sy.fillna(0)\n",
    "congresses_sy = congresses_sy.rename(columns={\"n_confs_ttl\": \"sy_confs_ttl\",\n",
    "                                              \"n_confs_sci_ref\": \"sy_confs_sci_ref\",\n",
    "                                              \"n_confs_sci\": \"sy_confs_sci\"})\n",
    "congresses_sy.sample(5)"
   ]
  },
  {
   "cell_type": "markdown",
   "metadata": {},
   "source": [
    "Inspect"
   ]
  },
  {
   "cell_type": "code",
   "execution_count": 31,
   "metadata": {},
   "outputs": [
    {
     "data": {
      "text/plain": [
       "Afghanistan       114\n",
       "United Kingdom    114\n",
       "Tunisia           114\n",
       "Peru              114\n",
       "Germany           114\n",
       "Name: state, dtype: int64"
      ]
     },
     "execution_count": 31,
     "metadata": {},
     "output_type": "execute_result"
    }
   ],
   "source": [
    "congresses_sy['state'].value_counts().sample(5)"
   ]
  },
  {
   "cell_type": "markdown",
   "metadata": {},
   "source": [
    "Create world-level annual series by suming up all state-year obs to create world-wide annual series"
   ]
  },
  {
   "cell_type": "code",
   "execution_count": 32,
   "metadata": {},
   "outputs": [
    {
     "data": {
      "text/html": [
       "<div>\n",
       "<style scoped>\n",
       "    .dataframe tbody tr th:only-of-type {\n",
       "        vertical-align: middle;\n",
       "    }\n",
       "\n",
       "    .dataframe tbody tr th {\n",
       "        vertical-align: top;\n",
       "    }\n",
       "\n",
       "    .dataframe thead th {\n",
       "        text-align: right;\n",
       "    }\n",
       "</style>\n",
       "<table border=\"1\" class=\"dataframe\">\n",
       "  <thead>\n",
       "    <tr style=\"text-align: right;\">\n",
       "      <th></th>\n",
       "      <th>year</th>\n",
       "      <th>wy_confs_ttl</th>\n",
       "      <th>wy_confs_sci_ref</th>\n",
       "      <th>wy_confs_sci</th>\n",
       "    </tr>\n",
       "  </thead>\n",
       "  <tbody>\n",
       "    <tr>\n",
       "      <th>2</th>\n",
       "      <td>1802</td>\n",
       "      <td>0</td>\n",
       "      <td>0</td>\n",
       "      <td>0</td>\n",
       "    </tr>\n",
       "    <tr>\n",
       "      <th>53</th>\n",
       "      <td>1853</td>\n",
       "      <td>4</td>\n",
       "      <td>3</td>\n",
       "      <td>1</td>\n",
       "    </tr>\n",
       "    <tr>\n",
       "      <th>80</th>\n",
       "      <td>1880</td>\n",
       "      <td>41</td>\n",
       "      <td>17</td>\n",
       "      <td>10</td>\n",
       "    </tr>\n",
       "    <tr>\n",
       "      <th>92</th>\n",
       "      <td>1892</td>\n",
       "      <td>52</td>\n",
       "      <td>15</td>\n",
       "      <td>8</td>\n",
       "    </tr>\n",
       "    <tr>\n",
       "      <th>6</th>\n",
       "      <td>1806</td>\n",
       "      <td>0</td>\n",
       "      <td>0</td>\n",
       "      <td>0</td>\n",
       "    </tr>\n",
       "  </tbody>\n",
       "</table>\n",
       "</div>"
      ],
      "text/plain": [
       "    year  wy_confs_ttl  wy_confs_sci_ref  wy_confs_sci\n",
       "2   1802             0                 0             0\n",
       "53  1853             4                 3             1\n",
       "80  1880            41                17            10\n",
       "92  1892            52                15             8\n",
       "6   1806             0                 0             0"
      ]
     },
     "execution_count": 32,
     "metadata": {},
     "output_type": "execute_result"
    }
   ],
   "source": [
    "var_map = {\"sy_confs_ttl\": \"wy_confs_ttl\",\n",
    "       \"sy_confs_sci_ref\": \"wy_confs_sci_ref\",\n",
    "       \"sy_confs_sci\": \"wy_confs_sci\"}\n",
    "congresses_wy = congresses_sy.groupby('year',\n",
    "                                      as_index=False).sum().rename(columns=var_map)\n",
    "congresses_wy.sample(5)"
   ]
  },
  {
   "cell_type": "markdown",
   "metadata": {},
   "source": [
    "## Social Science Periodicals"
   ]
  },
  {
   "cell_type": "code",
   "execution_count": 33,
   "metadata": {},
   "outputs": [],
   "source": [
    "journals_wy = pd.read_csv(DATA + \"interim/\" + \"19c_journals_wy.csv\")"
   ]
  },
  {
   "cell_type": "code",
   "execution_count": 34,
   "metadata": {},
   "outputs": [
    {
     "data": {
      "text/html": [
       "<div>\n",
       "<style scoped>\n",
       "    .dataframe tbody tr th:only-of-type {\n",
       "        vertical-align: middle;\n",
       "    }\n",
       "\n",
       "    .dataframe tbody tr th {\n",
       "        vertical-align: top;\n",
       "    }\n",
       "\n",
       "    .dataframe thead th {\n",
       "        text-align: right;\n",
       "    }\n",
       "</style>\n",
       "<table border=\"1\" class=\"dataframe\">\n",
       "  <thead>\n",
       "    <tr style=\"text-align: right;\">\n",
       "      <th></th>\n",
       "      <th>wy_stats_journals</th>\n",
       "      <th>year</th>\n",
       "      <th>wy_soc_journals</th>\n",
       "    </tr>\n",
       "  </thead>\n",
       "  <tbody>\n",
       "    <tr>\n",
       "      <th>22</th>\n",
       "      <td>33</td>\n",
       "      <td>1825</td>\n",
       "      <td>7</td>\n",
       "    </tr>\n",
       "    <tr>\n",
       "      <th>44</th>\n",
       "      <td>165</td>\n",
       "      <td>1847</td>\n",
       "      <td>67</td>\n",
       "    </tr>\n",
       "    <tr>\n",
       "      <th>6</th>\n",
       "      <td>11</td>\n",
       "      <td>1809</td>\n",
       "      <td>4</td>\n",
       "    </tr>\n",
       "    <tr>\n",
       "      <th>4</th>\n",
       "      <td>13</td>\n",
       "      <td>1807</td>\n",
       "      <td>5</td>\n",
       "    </tr>\n",
       "    <tr>\n",
       "      <th>71</th>\n",
       "      <td>642</td>\n",
       "      <td>1874</td>\n",
       "      <td>227</td>\n",
       "    </tr>\n",
       "  </tbody>\n",
       "</table>\n",
       "</div>"
      ],
      "text/plain": [
       "    wy_stats_journals  year  wy_soc_journals\n",
       "22                 33  1825                7\n",
       "44                165  1847               67\n",
       "6                  11  1809                4\n",
       "4                  13  1807                5\n",
       "71                642  1874              227"
      ]
     },
     "execution_count": 34,
     "metadata": {},
     "output_type": "execute_result"
    }
   ],
   "source": [
    "journals_wy.sample(5)"
   ]
  },
  {
   "cell_type": "markdown",
   "metadata": {},
   "source": [
    "# Merge data"
   ]
  },
  {
   "cell_type": "code",
   "execution_count": 35,
   "metadata": {},
   "outputs": [],
   "source": [
    "states_df = states_df.merge(congresses_sy, on=['year', 'state'], how='left')\n",
    "states_df = states_df.merge(congresses_wy, on=['year'], how='left')"
   ]
  },
  {
   "cell_type": "code",
   "execution_count": 36,
   "metadata": {},
   "outputs": [],
   "source": [
    "states_df = states_df.merge(societies_wy, on=['year'], how='left')"
   ]
  },
  {
   "cell_type": "code",
   "execution_count": 37,
   "metadata": {},
   "outputs": [],
   "source": [
    "states_df = states_df.merge(journals_wy, on=['year'], how='left')"
   ]
  },
  {
   "cell_type": "markdown",
   "metadata": {},
   "source": [
    "# Select states with non-missing data\n",
    "We'll keep those without empty columns"
   ]
  },
  {
   "cell_type": "code",
   "execution_count": 38,
   "metadata": {},
   "outputs": [
    {
     "data": {
      "text/plain": [
       "Russia                      115\n",
       "United Kingdom              115\n",
       "United States of America    115\n",
       "Germany                     115\n",
       "Austria                     115\n",
       "Sweden                      115\n",
       "Hungary                     115\n",
       "Norway                      115\n",
       "Portugal                    115\n",
       "Switzerland                 115\n",
       "Romania                     115\n",
       "Australia                   115\n",
       "France                      115\n",
       "Spain                       115\n",
       "Denmark                     115\n",
       "Montenegro                  115\n",
       "Netherlands                 113\n",
       "Serbia                      110\n",
       "Finland                     106\n",
       "Luxembourg                  100\n",
       "Greece                       93\n",
       "Belgium                      85\n",
       "Canada                       74\n",
       "New Zealand                  74\n",
       "Baden                        72\n",
       "Hesse-Darmstadt              72\n",
       "Würtemberg                   72\n",
       "Bavaria                      72\n",
       "Hamburg                      68\n",
       "Mecklenburg Schwerin         68\n",
       "Saxony                       68\n",
       "Papal States                 67\n",
       "Hesse-Kassel                 67\n",
       "Oldenburg                    66\n",
       "Hanover                      65\n",
       "Brunswick                    63\n",
       "Piedmont-Sardinia            62\n",
       "Poland                       61\n",
       "Nassau                       61\n",
       "Two Sicilies                 61\n",
       "Saxe-Weimar-Eisenach         59\n",
       "Tuscany                      56\n",
       "Italy                        54\n",
       "Parma                        49\n",
       "Modena                       46\n",
       "Bulgaria                     37\n",
       "Vanuatu                      15\n",
       "Solomon Islands              15\n",
       "Papua New Guinea             15\n",
       "Fiji                         15\n",
       "Malta                        15\n",
       "Iceland                      15\n",
       "Albania                       3\n",
       "Name: state, dtype: int64"
      ]
     },
     "execution_count": 38,
     "metadata": {},
     "output_type": "execute_result"
    }
   ],
   "source": [
    "states_df['state'].value_counts()"
   ]
  },
  {
   "cell_type": "code",
   "execution_count": 39,
   "metadata": {
    "tags": []
   },
   "outputs": [
    {
     "name": "stdout",
     "output_type": "stream",
     "text": [
      "Kept states:\n",
      "Australia\n",
      "Austria\n",
      "Belgium\n",
      "Canada\n",
      "Denmark\n",
      "Finland\n",
      "France\n",
      "Germany\n",
      "Greece\n",
      "Hungary\n",
      "Italy\n",
      "Netherlands\n",
      "New Zealand\n",
      "Norway\n",
      "Portugal\n",
      "Spain\n",
      "Sweden\n",
      "Switzerland\n",
      "United Kingdom\n",
      "United States of America\n",
      "\n",
      "n kept states: 20\n"
     ]
    }
   ],
   "source": [
    "keep_states = []\n",
    "print(\"Kept states:\")\n",
    "for state, state_df in states_df.groupby('state'):\n",
    "    n_miss = 0\n",
    "    cols = []\n",
    "    for col, val in state_df.isna().sum().iteritems():\n",
    "        if int(round(val / state_df.shape[0])) == int(1):\n",
    "            n_miss += 1 \n",
    "    if n_miss < 2: \n",
    "        keep_states.append(state)\n",
    "        print(state)\n",
    "print()\n",
    "print(\"n kept states:\", len(keep_states))"
   ]
  },
  {
   "cell_type": "code",
   "execution_count": 40,
   "metadata": {},
   "outputs": [
    {
     "data": {
      "text/plain": [
       "(2094, 80)"
      ]
     },
     "execution_count": 40,
     "metadata": {},
     "output_type": "execute_result"
    }
   ],
   "source": [
    "states_df = states_df[states_df['state'].isin(keep_states)]\n",
    "states_df.shape"
   ]
  },
  {
   "cell_type": "markdown",
   "metadata": {},
   "source": [
    "Create a decade dummy"
   ]
  },
  {
   "cell_type": "code",
   "execution_count": 41,
   "metadata": {},
   "outputs": [],
   "source": [
    "states_df['decade'] = pd.cut(states_df['year'], bins=10, labels=[str(i)+'s' for i in range(1820,1915,10)])"
   ]
  },
  {
   "cell_type": "code",
   "execution_count": 42,
   "metadata": {},
   "outputs": [],
   "source": [
    "states_df.to_csv(DATA + \"interim/\" + \"int_19cStates.csv\", index=False)"
   ]
  },
  {
   "cell_type": "code",
   "execution_count": null,
   "metadata": {},
   "outputs": [],
   "source": []
  },
  {
   "cell_type": "code",
   "execution_count": null,
   "metadata": {},
   "outputs": [],
   "source": []
  },
  {
   "cell_type": "code",
   "execution_count": null,
   "metadata": {},
   "outputs": [],
   "source": []
  },
  {
   "cell_type": "code",
   "execution_count": null,
   "metadata": {},
   "outputs": [],
   "source": []
  },
  {
   "cell_type": "code",
   "execution_count": null,
   "metadata": {},
   "outputs": [],
   "source": []
  }
 ],
 "metadata": {
  "kernelspec": {
   "display_name": "Python 3 (ipykernel)",
   "language": "python",
   "name": "python3"
  },
  "language_info": {
   "codemirror_mode": {
    "name": "ipython",
    "version": 3
   },
   "file_extension": ".py",
   "mimetype": "text/x-python",
   "name": "python",
   "nbconvert_exporter": "python",
   "pygments_lexer": "ipython3",
   "version": "3.10.4"
  },
  "toc": {
   "base_numbering": 1,
   "nav_menu": {},
   "number_sections": true,
   "sideBar": false,
   "skip_h1_title": false,
   "title_cell": "Table of Contents",
   "title_sidebar": "Contents",
   "toc_cell": true,
   "toc_position": {},
   "toc_section_display": false,
   "toc_window_display": false
  },
  "toc-autonumbering": true
 },
 "nbformat": 4,
 "nbformat_minor": 4
}
